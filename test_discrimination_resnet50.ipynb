{
 "cells": [
  {
   "cell_type": "markdown",
   "metadata": {},
   "source": [
    "# Testing discrimination of features obtained from AVGPOOL layer of ResNet50 on Test small"
   ]
  },
  {
   "cell_type": "code",
   "execution_count": 2,
   "metadata": {},
   "outputs": [],
   "source": [
    "import numpy as np"
   ]
  },
  {
   "cell_type": "code",
   "execution_count": null,
   "metadata": {},
   "outputs": [],
   "source": [
    "\n",
    "path = \"./dataset/features_cibo_avgpool_resnet50.npz\"\n",
    "\n",
    "small_dataset = np.load(path, 'r')\n",
    "X_strain = small_dataset['feat_tr']\n",
    "y_strain = small_dataset['labels_tr']\n"
   ]
  },
  {
   "cell_type": "markdown",
   "metadata": {},
   "source": [
    "## computing centroids"
   ]
  },
  {
   "cell_type": "code",
   "execution_count": 21,
   "metadata": {},
   "outputs": [],
   "source": [
    "\n",
    "centroids = []  \n",
    "\n",
    "for i in range(251):\n",
    "    centroid = X_strain[i*20:i*20 + 20, :].mean(axis=0)\n",
    "    centroids.append(centroid) \n",
    "\n",
    "centroids = np.array(centroids)    \n"
   ]
  },
  {
   "cell_type": "code",
   "execution_count": 22,
   "metadata": {},
   "outputs": [
    {
     "data": {
      "text/plain": [
       "array([[0.02020155, 0.03879871, 0.02576881, ..., 0.01351904, 0.03045027,\n",
       "        0.04058234],\n",
       "       [0.01003248, 0.01968441, 0.02705729, ..., 0.02225332, 0.01425039,\n",
       "        0.02400464],\n",
       "       [0.00867276, 0.01724986, 0.0124148 , ..., 0.02088222, 0.02882799,\n",
       "        0.0141716 ],\n",
       "       ...,\n",
       "       [0.00634386, 0.01618105, 0.01458906, ..., 0.01101616, 0.00696156,\n",
       "        0.00712175],\n",
       "       [0.01059906, 0.01154961, 0.01477725, ..., 0.01136092, 0.01588671,\n",
       "        0.01255139],\n",
       "       [0.00808983, 0.01394239, 0.01210999, ..., 0.0121937 , 0.03124724,\n",
       "        0.01133858]], shape=(251, 2048), dtype=float32)"
      ]
     },
     "execution_count": 22,
     "metadata": {},
     "output_type": "execute_result"
    }
   ],
   "source": [
    "centroids"
   ]
  },
  {
   "cell_type": "code",
   "execution_count": null,
   "metadata": {},
   "outputs": [],
   "source": [
    "results = []\n",
    "\n",
    "for i in range(251):\n",
    "    for j in range(20):\n",
    "        centroid = np.linalg.norm(centroid[i, :] - X_strain[i*20 + j, :])\n",
    "        centroids.append(centroid) \n",
    "\n",
    "centroids = np.array(centroids)    "
   ]
  }
 ],
 "metadata": {
  "kernelspec": {
   "display_name": "elab",
   "language": "python",
   "name": "elab"
  },
  "language_info": {
   "codemirror_mode": {
    "name": "ipython",
    "version": 3
   },
   "file_extension": ".py",
   "mimetype": "text/x-python",
   "name": "python",
   "nbconvert_exporter": "python",
   "pygments_lexer": "ipython3",
   "version": "3.12.1"
  }
 },
 "nbformat": 4,
 "nbformat_minor": 2
}

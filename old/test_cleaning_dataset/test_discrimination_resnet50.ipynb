{
 "cells": [
  {
   "cell_type": "markdown",
   "metadata": {},
   "source": [
    "# Testing discrimination of features obtained from AVGPOOL layer of ResNet50 on Test small"
   ]
  },
  {
   "cell_type": "code",
   "execution_count": 17,
   "metadata": {},
   "outputs": [
    {
     "name": "stdout",
     "output_type": "stream",
     "text": [
      "Collecting pandas\n",
      "  Downloading pandas-2.2.3-cp310-cp310-manylinux_2_17_x86_64.manylinux2014_x86_64.whl (13.1 MB)\n",
      "\u001b[2K     \u001b[90m━━━━━━━━━━━━━━━━━━━━━━━━━━━━━━━━━━━━━━━━\u001b[0m \u001b[32m13.1/13.1 MB\u001b[0m \u001b[31m57.2 MB/s\u001b[0m eta \u001b[36m0:00:00\u001b[0m00:01\u001b[0m00:01\u001b[0m\n",
      "\u001b[?25hRequirement already satisfied: numpy>=1.22.4 in ./.venv/lib/python3.10/site-packages (from pandas) (2.2.1)\n",
      "Collecting pytz>=2020.1\n",
      "  Downloading pytz-2024.2-py2.py3-none-any.whl (508 kB)\n",
      "\u001b[2K     \u001b[90m━━━━━━━━━━━━━━━━━━━━━━━━━━━━━━━━━━━━━━\u001b[0m \u001b[32m508.0/508.0 KB\u001b[0m \u001b[31m62.3 MB/s\u001b[0m eta \u001b[36m0:00:00\u001b[0m\n",
      "\u001b[?25hRequirement already satisfied: python-dateutil>=2.8.2 in ./.venv/lib/python3.10/site-packages (from pandas) (2.9.0.post0)\n",
      "Collecting tzdata>=2022.7\n",
      "  Downloading tzdata-2024.2-py2.py3-none-any.whl (346 kB)\n",
      "\u001b[2K     \u001b[90m━━━━━━━━━━━━━━━━━━━━━━━━━━━━━━━━━━━━━━\u001b[0m \u001b[32m346.6/346.6 KB\u001b[0m \u001b[31m44.9 MB/s\u001b[0m eta \u001b[36m0:00:00\u001b[0m\n",
      "\u001b[?25hRequirement already satisfied: six>=1.5 in ./.venv/lib/python3.10/site-packages (from python-dateutil>=2.8.2->pandas) (1.17.0)\n",
      "Installing collected packages: pytz, tzdata, pandas\n",
      "Successfully installed pandas-2.2.3 pytz-2024.2 tzdata-2024.2\n",
      "Note: you may need to restart the kernel to use updated packages.\n"
     ]
    }
   ],
   "source": [
    "%pip install pandas"
   ]
  },
  {
   "cell_type": "code",
   "execution_count": 48,
   "metadata": {},
   "outputs": [],
   "source": [
    "import numpy as np\n",
    "import pandas as pd\n",
    "import shutil\n",
    "import os"
   ]
  },
  {
   "cell_type": "code",
   "execution_count": 2,
   "metadata": {},
   "outputs": [],
   "source": [
    "\n",
    "path = \"../dataset/features_cibo_avgpool_resnet50.npz\"\n",
    "\n",
    "small_dataset = np.load(path, 'r')\n",
    "X_strain = small_dataset['feat_tr']\n",
    "y_strain = small_dataset['labels_tr']\n"
   ]
  },
  {
   "cell_type": "markdown",
   "metadata": {},
   "source": [
    "## computing centroids"
   ]
  },
  {
   "cell_type": "code",
   "execution_count": 3,
   "metadata": {},
   "outputs": [],
   "source": [
    "\n",
    "centroids = []  \n",
    "\n",
    "for i in range(251):\n",
    "    centroid = X_strain[i*20:i*20 + 20, :].mean(axis=0)\n",
    "    centroids.append(centroid) \n",
    "\n",
    "centroids = np.array(centroids)    \n"
   ]
  },
  {
   "cell_type": "code",
   "execution_count": 4,
   "metadata": {},
   "outputs": [
    {
     "data": {
      "text/plain": [
       "array([[0.02020155, 0.03879871, 0.02576881, ..., 0.01351904, 0.03045027,\n",
       "        0.04058234],\n",
       "       [0.01003248, 0.01968441, 0.02705729, ..., 0.02225332, 0.01425039,\n",
       "        0.02400464],\n",
       "       [0.00867276, 0.01724986, 0.0124148 , ..., 0.02088222, 0.02882799,\n",
       "        0.0141716 ],\n",
       "       ...,\n",
       "       [0.00634386, 0.01618105, 0.01458906, ..., 0.01101616, 0.00696156,\n",
       "        0.00712175],\n",
       "       [0.01059906, 0.01154961, 0.01477725, ..., 0.01136092, 0.01588671,\n",
       "        0.01255139],\n",
       "       [0.00808983, 0.01394239, 0.01210999, ..., 0.0121937 , 0.03124724,\n",
       "        0.01133858]], shape=(251, 2048), dtype=float32)"
      ]
     },
     "execution_count": 4,
     "metadata": {},
     "output_type": "execute_result"
    }
   ],
   "source": [
    "centroids,"
   ]
  },
  {
   "cell_type": "code",
   "execution_count": 12,
   "metadata": {},
   "outputs": [],
   "source": [
    "results = []\n",
    "\n",
    "for i in range(251):\n",
    "    dists = []\n",
    "\n",
    "    for j in range(20):\n",
    "        dist = np.linalg.norm(centroids[i, :] - X_strain[i*20 + j, :])\n",
    "        dists.append((i*20 + j, dist))\n",
    "    \n",
    "    dists = sorted(dists, key=lambda x: x[1])\n",
    "    results.append(dists) \n",
    "    "
   ]
  },
  {
   "cell_type": "code",
   "execution_count": 43,
   "metadata": {},
   "outputs": [
    {
     "data": {
      "text/plain": [
       "[(15, np.float32(0.4424286)),\n",
       " (3, np.float32(0.4462494)),\n",
       " (19, np.float32(0.44721848)),\n",
       " (7, np.float32(0.48143953)),\n",
       " (14, np.float32(0.4938678)),\n",
       " (1, np.float32(0.51374906)),\n",
       " (17, np.float32(0.524193)),\n",
       " (5, np.float32(0.5286296)),\n",
       " (8, np.float32(0.5344056)),\n",
       " (4, np.float32(0.53823185)),\n",
       " (13, np.float32(0.5424092)),\n",
       " (11, np.float32(0.54862064)),\n",
       " (12, np.float32(0.551888)),\n",
       " (10, np.float32(0.5645804)),\n",
       " (6, np.float32(0.5735678)),\n",
       " (9, np.float32(0.58497465)),\n",
       " (18, np.float32(0.6020773)),\n",
       " (2, np.float32(0.623489)),\n",
       " (16, np.float32(0.6505464)),\n",
       " (0, np.float32(0.6751786))]"
      ]
     },
     "execution_count": 43,
     "metadata": {},
     "output_type": "execute_result"
    }
   ],
   "source": [
    "results[0]"
   ]
  },
  {
   "cell_type": "code",
   "execution_count": 38,
   "metadata": {},
   "outputs": [
    {
     "data": {
      "text/html": [
       "<div>\n",
       "<style scoped>\n",
       "    .dataframe tbody tr th:only-of-type {\n",
       "        vertical-align: middle;\n",
       "    }\n",
       "\n",
       "    .dataframe tbody tr th {\n",
       "        vertical-align: top;\n",
       "    }\n",
       "\n",
       "    .dataframe thead th {\n",
       "        text-align: right;\n",
       "    }\n",
       "</style>\n",
       "<table border=\"1\" class=\"dataframe\">\n",
       "  <thead>\n",
       "    <tr style=\"text-align: right;\">\n",
       "      <th></th>\n",
       "      <th>0</th>\n",
       "      <th>1</th>\n",
       "    </tr>\n",
       "  </thead>\n",
       "  <tbody>\n",
       "    <tr>\n",
       "      <th>0</th>\n",
       "      <td>train_059371.jpg</td>\n",
       "      <td>0</td>\n",
       "    </tr>\n",
       "    <tr>\n",
       "      <th>1</th>\n",
       "      <td>train_059389.jpg</td>\n",
       "      <td>0</td>\n",
       "    </tr>\n",
       "    <tr>\n",
       "      <th>2</th>\n",
       "      <td>train_059425.jpg</td>\n",
       "      <td>0</td>\n",
       "    </tr>\n",
       "    <tr>\n",
       "      <th>3</th>\n",
       "      <td>train_059445.jpg</td>\n",
       "      <td>0</td>\n",
       "    </tr>\n",
       "    <tr>\n",
       "      <th>4</th>\n",
       "      <td>train_059516.jpg</td>\n",
       "      <td>0</td>\n",
       "    </tr>\n",
       "    <tr>\n",
       "      <th>...</th>\n",
       "      <td>...</td>\n",
       "      <td>...</td>\n",
       "    </tr>\n",
       "    <tr>\n",
       "      <th>5015</th>\n",
       "      <td>train_120127.jpg</td>\n",
       "      <td>250</td>\n",
       "    </tr>\n",
       "    <tr>\n",
       "      <th>5016</th>\n",
       "      <td>train_120146.jpg</td>\n",
       "      <td>250</td>\n",
       "    </tr>\n",
       "    <tr>\n",
       "      <th>5017</th>\n",
       "      <td>train_120161.jpg</td>\n",
       "      <td>250</td>\n",
       "    </tr>\n",
       "    <tr>\n",
       "      <th>5018</th>\n",
       "      <td>train_120200.jpg</td>\n",
       "      <td>250</td>\n",
       "    </tr>\n",
       "    <tr>\n",
       "      <th>5019</th>\n",
       "      <td>train_120211.jpg</td>\n",
       "      <td>250</td>\n",
       "    </tr>\n",
       "  </tbody>\n",
       "</table>\n",
       "<p>5020 rows × 2 columns</p>\n",
       "</div>"
      ],
      "text/plain": [
       "                     0    1\n",
       "0     train_059371.jpg    0\n",
       "1     train_059389.jpg    0\n",
       "2     train_059425.jpg    0\n",
       "3     train_059445.jpg    0\n",
       "4     train_059516.jpg    0\n",
       "...                ...  ...\n",
       "5015  train_120127.jpg  250\n",
       "5016  train_120146.jpg  250\n",
       "5017  train_120161.jpg  250\n",
       "5018  train_120200.jpg  250\n",
       "5019  train_120211.jpg  250\n",
       "\n",
       "[5020 rows x 2 columns]"
      ]
     },
     "execution_count": 38,
     "metadata": {},
     "output_type": "execute_result"
    }
   ],
   "source": [
    "training_set = pd.read_csv('../dataset/train_small.csv', header=None)\n",
    "training_set"
   ]
  },
  {
   "cell_type": "code",
   "execution_count": null,
   "metadata": {},
   "outputs": [],
   "source": []
  }
 ],
 "metadata": {
  "kernelspec": {
   "display_name": ".venv",
   "language": "python",
   "name": "python3"
  },
  "language_info": {
   "codemirror_mode": {
    "name": "ipython",
    "version": 3
   },
   "file_extension": ".py",
   "mimetype": "text/x-python",
   "name": "python",
   "nbconvert_exporter": "python",
   "pygments_lexer": "ipython3",
   "version": "3.10.12"
  }
 },
 "nbformat": 4,
 "nbformat_minor": 2
}

{
 "cells": [
  {
   "cell_type": "code",
   "execution_count": 1,
   "metadata": {},
   "outputs": [],
   "source": [
    "from neural_features import ResNet50FeatureExtractor\n",
    "import numpy as np\n",
    "import pandas as pd\n",
    "from torchvision.models import resnet50\n",
    "from sklearn.neighbors import KNeighborsClassifier\n",
    "from sklearn.pipeline import Pipeline\n",
    "from sklearn.preprocessing import StandardScaler\n",
    "import shutil\n",
    "from sklearn.metrics import confusion_matrix, classification_report\n",
    "import seaborn as sns\n",
    "import matplotlib.pyplot as plt\n",
    "from neighbor_distances import CentroidWeights\n",
    "from sklearn.model_selection import train_test_split"
   ]
  },
  {
   "cell_type": "code",
   "execution_count": 2,
   "metadata": {},
   "outputs": [],
   "source": [
    "def image_retrieval_using_knn(n_neighbors, dataset, queryset):\n",
    "    pipeline = Pipeline([\n",
    "        ('knn', KNeighborsClassifier(n_neighbors=n_neighbors))  \n",
    "    ])\n",
    "\n",
    "    pipeline.fit(dataset[0], dataset[1])\n",
    "    predictions = pipeline.predict(queryset)\n",
    "\n",
    "    return predictions\n",
    "    "
   ]
  },
  {
   "cell_type": "code",
   "execution_count": 3,
   "metadata": {},
   "outputs": [],
   "source": [
    "train_small_names = pd.read_csv('../dataset/train_small.csv', header=None)\n",
    "train_unlabeled_names = pd.read_csv('../dataset/train_small.csv', header=None)\n",
    "\n",
    "small_dataset = np.load('../dataset/small_train_features_resnet50.npz', 'r')\n",
    "X = small_dataset['X']\n",
    "X_label = small_dataset['y']\n",
    "\n",
    "queryset = np.load('../dataset/train_unlabeled_features_resnet50_completed.npz', 'r')\n",
    "Q = queryset['X']\n",
    "Q_label = queryset['y']"
   ]
  },
  {
   "cell_type": "code",
   "execution_count": 5,
   "metadata": {},
   "outputs": [
    {
     "data": {
      "text/plain": [
       "22691"
      ]
     },
     "execution_count": 5,
     "metadata": {},
     "output_type": "execute_result"
    }
   ],
   "source": [
    "int(len(Q) * 0.20)"
   ]
  },
  {
   "cell_type": "code",
   "execution_count": 6,
   "metadata": {},
   "outputs": [
    {
     "name": "stdout",
     "output_type": "stream",
     "text": [
      "[ 84024  49532  84620 ...  17969 103079  15921]\n"
     ]
    }
   ],
   "source": [
    "extracted_indeces = np.random.choice(Q.shape[0], size=int(len(Q) * 0.20), replace=False)\n",
    "print(extracted_indeces)\n"
   ]
  },
  {
   "cell_type": "code",
   "execution_count": 7,
   "metadata": {},
   "outputs": [
    {
     "data": {
      "text/plain": [
       "(22691, 2048)"
      ]
     },
     "execution_count": 7,
     "metadata": {},
     "output_type": "execute_result"
    }
   ],
   "source": [
    "Q_small = Q[extracted_indeces, :]\n",
    "Q_small.shape"
   ]
  },
  {
   "cell_type": "code",
   "execution_count": 8,
   "metadata": {},
   "outputs": [],
   "source": [
    "predictions = image_retrieval_using_knn(5, (X, X_label), Q_small)\n"
   ]
  },
  {
   "cell_type": "code",
   "execution_count": 13,
   "metadata": {},
   "outputs": [],
   "source": [
    "test_size = int((.2 * (Q_small.shape[0] + X.shape[0]) )/ 251)/20\n",
    "if test_size >= 1:\n",
    "    test_size = 1.0\n"
   ]
  },
  {
   "cell_type": "code",
   "execution_count": 22,
   "metadata": {},
   "outputs": [
    {
     "name": "stdout",
     "output_type": "stream",
     "text": [
      "[] (5020, 2048) [] (5020,)\n"
     ]
    }
   ],
   "source": [
    "if test_size != 1:\n",
    "    X_train, X_test, y_train, y_test = train_test_split(X, X_label, test_size=test_size, stratify=X_label, random_state=42)\n",
    "else:\n",
    "    X_train, X_test, y_train, y_test = [], X, [], X_label\n",
    "\n",
    "print(X_train, X_test.shape, y_train, y_test.shape)"
   ]
  },
  {
   "cell_type": "code",
   "execution_count": 23,
   "metadata": {},
   "outputs": [],
   "source": [
    "if X_train == []:\n",
    "    X_train = Q_small\n",
    "    y_train = predictions # Combine\n",
    "else:\n",
    "    X_train = np.concatenate((X_train, Q_small), axis=0)  # Combine rows\n",
    "    y_train = np.concatenate((y_train, predictions), axis=0) "
   ]
  },
  {
   "cell_type": "code",
   "execution_count": 24,
   "metadata": {},
   "outputs": [
    {
     "data": {
      "text/plain": [
       "(22691, 2048)"
      ]
     },
     "execution_count": 24,
     "metadata": {},
     "output_type": "execute_result"
    }
   ],
   "source": [
    "X_train.shape"
   ]
  },
  {
   "cell_type": "code",
   "execution_count": 25,
   "metadata": {},
   "outputs": [
    {
     "data": {
      "text/plain": [
       "(22691,)"
      ]
     },
     "execution_count": 25,
     "metadata": {},
     "output_type": "execute_result"
    }
   ],
   "source": [
    "y_train.shape"
   ]
  },
  {
   "cell_type": "code",
   "execution_count": 26,
   "metadata": {},
   "outputs": [
    {
     "data": {
      "text/plain": [
       "(5020, 2048)"
      ]
     },
     "execution_count": 26,
     "metadata": {},
     "output_type": "execute_result"
    }
   ],
   "source": [
    "X_test.shape"
   ]
  },
  {
   "cell_type": "code",
   "execution_count": 27,
   "metadata": {},
   "outputs": [
    {
     "data": {
      "text/plain": [
       "(5020,)"
      ]
     },
     "execution_count": 27,
     "metadata": {},
     "output_type": "execute_result"
    }
   ],
   "source": [
    "y_test.shape"
   ]
  },
  {
   "cell_type": "code",
   "execution_count": 28,
   "metadata": {},
   "outputs": [],
   "source": [
    "np.savez(\"../dataset/features_extended_20.npz\", X_train = X_train, y_train = y_train, X_val=X_test, y_val=y_test)"
   ]
  }
 ],
 "metadata": {
  "kernelspec": {
   "display_name": "faiss_1.8.0",
   "language": "python",
   "name": "python3"
  },
  "language_info": {
   "codemirror_mode": {
    "name": "ipython",
    "version": 3
   },
   "file_extension": ".py",
   "mimetype": "text/x-python",
   "name": "python",
   "nbconvert_exporter": "python",
   "pygments_lexer": "ipython3",
   "version": "3.12.8"
  }
 },
 "nbformat": 4,
 "nbformat_minor": 2
}

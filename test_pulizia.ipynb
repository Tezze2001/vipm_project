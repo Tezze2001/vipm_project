{
 "cells": [
  {
   "cell_type": "code",
   "execution_count": 2,
   "metadata": {},
   "outputs": [],
   "source": [
    "from vipm_dataset_cleaner import DatasetCleaner"
   ]
  },
  {
   "cell_type": "code",
   "execution_count": 3,
   "metadata": {},
   "outputs": [
    {
     "name": "stdout",
     "output_type": "stream",
     "text": [
      "Inizio pulizia...\n",
      "Feature shape: (5020, 3)\n",
      "Pulizia completata. Risultati salvati in: dataset/clean_set\n",
      "Totale file processati: 5020\n",
      "File accettati: 4518\n",
      "File rifiutati: 502\n",
      "Inizio pulizia per classe...\n",
      "Elaborando classe: 0\n",
      "Feature shape per la classe 0: (20, 3)\n",
      "Pulizia completata per la classe 0.\n",
      "Elaborando classe: 1\n",
      "Feature shape per la classe 1: (20, 3)\n"
     ]
    },
    {
     "name": "stderr",
     "output_type": "stream",
     "text": [
      "c:\\Users\\sguid\\Uni\\visual\\project\\vipm_project\\vipm_dataset_cleaner.py:135: SettingWithCopyWarning: \n",
      "A value is trying to be set on a copy of a slice from a DataFrame.\n",
      "Try using .loc[row_indexer,col_indexer] = value instead\n",
      "\n",
      "See the caveats in the documentation: https://pandas.pydata.org/pandas-docs/stable/user_guide/indexing.html#returning-a-view-versus-a-copy\n",
      "  class_df[\"Rejected\"] = predictions\n",
      "c:\\Users\\sguid\\Uni\\visual\\project\\vipm_project\\vipm_dataset_cleaner.py:135: SettingWithCopyWarning: \n",
      "A value is trying to be set on a copy of a slice from a DataFrame.\n",
      "Try using .loc[row_indexer,col_indexer] = value instead\n",
      "\n",
      "See the caveats in the documentation: https://pandas.pydata.org/pandas-docs/stable/user_guide/indexing.html#returning-a-view-versus-a-copy\n",
      "  class_df[\"Rejected\"] = predictions\n"
     ]
    },
    {
     "name": "stdout",
     "output_type": "stream",
     "text": [
      "Pulizia completata per la classe 1.\n",
      "Elaborando classe: 2\n",
      "Feature shape per la classe 2: (20, 3)\n",
      "Pulizia completata per la classe 2.\n",
      "Elaborando classe: 3\n"
     ]
    },
    {
     "name": "stderr",
     "output_type": "stream",
     "text": [
      "c:\\Users\\sguid\\Uni\\visual\\project\\vipm_project\\vipm_dataset_cleaner.py:135: SettingWithCopyWarning: \n",
      "A value is trying to be set on a copy of a slice from a DataFrame.\n",
      "Try using .loc[row_indexer,col_indexer] = value instead\n",
      "\n",
      "See the caveats in the documentation: https://pandas.pydata.org/pandas-docs/stable/user_guide/indexing.html#returning-a-view-versus-a-copy\n",
      "  class_df[\"Rejected\"] = predictions\n",
      "c:\\Users\\sguid\\Uni\\visual\\project\\vipm_project\\vipm_dataset_cleaner.py:135: SettingWithCopyWarning: \n",
      "A value is trying to be set on a copy of a slice from a DataFrame.\n",
      "Try using .loc[row_indexer,col_indexer] = value instead\n",
      "\n",
      "See the caveats in the documentation: https://pandas.pydata.org/pandas-docs/stable/user_guide/indexing.html#returning-a-view-versus-a-copy\n",
      "  class_df[\"Rejected\"] = predictions\n"
     ]
    },
    {
     "name": "stdout",
     "output_type": "stream",
     "text": [
      "Feature shape per la classe 3: (20, 3)\n",
      "Pulizia completata per la classe 3.\n",
      "Elaborando classe: 4\n",
      "Feature shape per la classe 4: (20, 3)\n"
     ]
    },
    {
     "name": "stderr",
     "output_type": "stream",
     "text": [
      "c:\\Users\\sguid\\Uni\\visual\\project\\vipm_project\\vipm_dataset_cleaner.py:135: SettingWithCopyWarning: \n",
      "A value is trying to be set on a copy of a slice from a DataFrame.\n",
      "Try using .loc[row_indexer,col_indexer] = value instead\n",
      "\n",
      "See the caveats in the documentation: https://pandas.pydata.org/pandas-docs/stable/user_guide/indexing.html#returning-a-view-versus-a-copy\n",
      "  class_df[\"Rejected\"] = predictions\n",
      "c:\\Users\\sguid\\Uni\\visual\\project\\vipm_project\\vipm_dataset_cleaner.py:135: SettingWithCopyWarning: \n",
      "A value is trying to be set on a copy of a slice from a DataFrame.\n",
      "Try using .loc[row_indexer,col_indexer] = value instead\n",
      "\n",
      "See the caveats in the documentation: https://pandas.pydata.org/pandas-docs/stable/user_guide/indexing.html#returning-a-view-versus-a-copy\n",
      "  class_df[\"Rejected\"] = predictions\n"
     ]
    },
    {
     "name": "stdout",
     "output_type": "stream",
     "text": [
      "Pulizia completata per la classe 4.\n",
      "Elaborando classe: 5\n",
      "Feature shape per la classe 5: (20, 3)\n",
      "Pulizia completata per la classe 5.\n",
      "Elaborando classe: 6\n",
      "Feature shape per la classe 6: (20, 3)\n"
     ]
    },
    {
     "name": "stderr",
     "output_type": "stream",
     "text": [
      "c:\\Users\\sguid\\Uni\\visual\\project\\vipm_project\\vipm_dataset_cleaner.py:135: SettingWithCopyWarning: \n",
      "A value is trying to be set on a copy of a slice from a DataFrame.\n",
      "Try using .loc[row_indexer,col_indexer] = value instead\n",
      "\n",
      "See the caveats in the documentation: https://pandas.pydata.org/pandas-docs/stable/user_guide/indexing.html#returning-a-view-versus-a-copy\n",
      "  class_df[\"Rejected\"] = predictions\n",
      "c:\\Users\\sguid\\Uni\\visual\\project\\vipm_project\\vipm_dataset_cleaner.py:135: SettingWithCopyWarning: \n",
      "A value is trying to be set on a copy of a slice from a DataFrame.\n",
      "Try using .loc[row_indexer,col_indexer] = value instead\n",
      "\n",
      "See the caveats in the documentation: https://pandas.pydata.org/pandas-docs/stable/user_guide/indexing.html#returning-a-view-versus-a-copy\n",
      "  class_df[\"Rejected\"] = predictions\n"
     ]
    },
    {
     "name": "stdout",
     "output_type": "stream",
     "text": [
      "Pulizia completata per la classe 6.\n",
      "Elaborando classe: 7\n",
      "Feature shape per la classe 7: (20, 3)\n",
      "Pulizia completata per la classe 7.\n",
      "Elaborando classe: 8\n",
      "Feature shape per la classe 8: (20, 3)\n",
      "Pulizia completata per la classe 8.\n",
      "Elaborando classe: 9\n",
      "Feature shape per la classe 9: (20, 3)\n"
     ]
    },
    {
     "name": "stderr",
     "output_type": "stream",
     "text": [
      "c:\\Users\\sguid\\Uni\\visual\\project\\vipm_project\\vipm_dataset_cleaner.py:135: SettingWithCopyWarning: \n",
      "A value is trying to be set on a copy of a slice from a DataFrame.\n",
      "Try using .loc[row_indexer,col_indexer] = value instead\n",
      "\n",
      "See the caveats in the documentation: https://pandas.pydata.org/pandas-docs/stable/user_guide/indexing.html#returning-a-view-versus-a-copy\n",
      "  class_df[\"Rejected\"] = predictions\n",
      "c:\\Users\\sguid\\Uni\\visual\\project\\vipm_project\\vipm_dataset_cleaner.py:135: SettingWithCopyWarning: \n",
      "A value is trying to be set on a copy of a slice from a DataFrame.\n",
      "Try using .loc[row_indexer,col_indexer] = value instead\n",
      "\n",
      "See the caveats in the documentation: https://pandas.pydata.org/pandas-docs/stable/user_guide/indexing.html#returning-a-view-versus-a-copy\n",
      "  class_df[\"Rejected\"] = predictions\n"
     ]
    },
    {
     "name": "stdout",
     "output_type": "stream",
     "text": [
      "Pulizia completata per la classe 9.\n",
      "Elaborando classe: 10\n",
      "Feature shape per la classe 10: (20, 3)\n",
      "Pulizia completata per la classe 10.\n",
      "Elaborando classe: 11\n",
      "Feature shape per la classe 11: (20, 3)\n"
     ]
    },
    {
     "name": "stderr",
     "output_type": "stream",
     "text": [
      "c:\\Users\\sguid\\Uni\\visual\\project\\vipm_project\\vipm_dataset_cleaner.py:135: SettingWithCopyWarning: \n",
      "A value is trying to be set on a copy of a slice from a DataFrame.\n",
      "Try using .loc[row_indexer,col_indexer] = value instead\n",
      "\n",
      "See the caveats in the documentation: https://pandas.pydata.org/pandas-docs/stable/user_guide/indexing.html#returning-a-view-versus-a-copy\n",
      "  class_df[\"Rejected\"] = predictions\n",
      "c:\\Users\\sguid\\Uni\\visual\\project\\vipm_project\\vipm_dataset_cleaner.py:135: SettingWithCopyWarning: \n",
      "A value is trying to be set on a copy of a slice from a DataFrame.\n",
      "Try using .loc[row_indexer,col_indexer] = value instead\n",
      "\n",
      "See the caveats in the documentation: https://pandas.pydata.org/pandas-docs/stable/user_guide/indexing.html#returning-a-view-versus-a-copy\n",
      "  class_df[\"Rejected\"] = predictions\n"
     ]
    },
    {
     "name": "stdout",
     "output_type": "stream",
     "text": [
      "Pulizia completata per la classe 11.\n",
      "Elaborando classe: 12\n",
      "Feature shape per la classe 12: (20, 3)\n",
      "Pulizia completata per la classe 12.\n",
      "Elaborando classe: 13\n",
      "Feature shape per la classe 13: (20, 3)\n"
     ]
    },
    {
     "name": "stderr",
     "output_type": "stream",
     "text": [
      "c:\\Users\\sguid\\Uni\\visual\\project\\vipm_project\\vipm_dataset_cleaner.py:135: SettingWithCopyWarning: \n",
      "A value is trying to be set on a copy of a slice from a DataFrame.\n",
      "Try using .loc[row_indexer,col_indexer] = value instead\n",
      "\n",
      "See the caveats in the documentation: https://pandas.pydata.org/pandas-docs/stable/user_guide/indexing.html#returning-a-view-versus-a-copy\n",
      "  class_df[\"Rejected\"] = predictions\n",
      "c:\\Users\\sguid\\Uni\\visual\\project\\vipm_project\\vipm_dataset_cleaner.py:135: SettingWithCopyWarning: \n",
      "A value is trying to be set on a copy of a slice from a DataFrame.\n",
      "Try using .loc[row_indexer,col_indexer] = value instead\n",
      "\n",
      "See the caveats in the documentation: https://pandas.pydata.org/pandas-docs/stable/user_guide/indexing.html#returning-a-view-versus-a-copy\n",
      "  class_df[\"Rejected\"] = predictions\n"
     ]
    },
    {
     "name": "stdout",
     "output_type": "stream",
     "text": [
      "Pulizia completata per la classe 13.\n",
      "Elaborando classe: 14\n",
      "Feature shape per la classe 14: (20, 3)\n",
      "Pulizia completata per la classe 14.\n",
      "Elaborando classe: 15\n",
      "Feature shape per la classe 15: (20, 3)\n"
     ]
    },
    {
     "name": "stderr",
     "output_type": "stream",
     "text": [
      "c:\\Users\\sguid\\Uni\\visual\\project\\vipm_project\\vipm_dataset_cleaner.py:135: SettingWithCopyWarning: \n",
      "A value is trying to be set on a copy of a slice from a DataFrame.\n",
      "Try using .loc[row_indexer,col_indexer] = value instead\n",
      "\n",
      "See the caveats in the documentation: https://pandas.pydata.org/pandas-docs/stable/user_guide/indexing.html#returning-a-view-versus-a-copy\n",
      "  class_df[\"Rejected\"] = predictions\n",
      "c:\\Users\\sguid\\Uni\\visual\\project\\vipm_project\\vipm_dataset_cleaner.py:135: SettingWithCopyWarning: \n",
      "A value is trying to be set on a copy of a slice from a DataFrame.\n",
      "Try using .loc[row_indexer,col_indexer] = value instead\n",
      "\n",
      "See the caveats in the documentation: https://pandas.pydata.org/pandas-docs/stable/user_guide/indexing.html#returning-a-view-versus-a-copy\n",
      "  class_df[\"Rejected\"] = predictions\n"
     ]
    },
    {
     "name": "stdout",
     "output_type": "stream",
     "text": [
      "Pulizia completata per la classe 15.\n",
      "Elaborando classe: 16\n",
      "Feature shape per la classe 16: (20, 3)\n",
      "Pulizia completata per la classe 16.\n",
      "Elaborando classe: 17\n",
      "Feature shape per la classe 17: (20, 3)\n"
     ]
    },
    {
     "name": "stderr",
     "output_type": "stream",
     "text": [
      "c:\\Users\\sguid\\Uni\\visual\\project\\vipm_project\\vipm_dataset_cleaner.py:135: SettingWithCopyWarning: \n",
      "A value is trying to be set on a copy of a slice from a DataFrame.\n",
      "Try using .loc[row_indexer,col_indexer] = value instead\n",
      "\n",
      "See the caveats in the documentation: https://pandas.pydata.org/pandas-docs/stable/user_guide/indexing.html#returning-a-view-versus-a-copy\n",
      "  class_df[\"Rejected\"] = predictions\n",
      "c:\\Users\\sguid\\Uni\\visual\\project\\vipm_project\\vipm_dataset_cleaner.py:135: SettingWithCopyWarning: \n",
      "A value is trying to be set on a copy of a slice from a DataFrame.\n",
      "Try using .loc[row_indexer,col_indexer] = value instead\n",
      "\n",
      "See the caveats in the documentation: https://pandas.pydata.org/pandas-docs/stable/user_guide/indexing.html#returning-a-view-versus-a-copy\n",
      "  class_df[\"Rejected\"] = predictions\n"
     ]
    },
    {
     "name": "stdout",
     "output_type": "stream",
     "text": [
      "Pulizia completata per la classe 17.\n",
      "Elaborando classe: 18\n",
      "Feature shape per la classe 18: (20, 3)\n",
      "Pulizia completata per la classe 18.\n",
      "Elaborando classe: 19\n",
      "Feature shape per la classe 19: (20, 3)\n"
     ]
    },
    {
     "name": "stderr",
     "output_type": "stream",
     "text": [
      "c:\\Users\\sguid\\Uni\\visual\\project\\vipm_project\\vipm_dataset_cleaner.py:135: SettingWithCopyWarning: \n",
      "A value is trying to be set on a copy of a slice from a DataFrame.\n",
      "Try using .loc[row_indexer,col_indexer] = value instead\n",
      "\n",
      "See the caveats in the documentation: https://pandas.pydata.org/pandas-docs/stable/user_guide/indexing.html#returning-a-view-versus-a-copy\n",
      "  class_df[\"Rejected\"] = predictions\n",
      "c:\\Users\\sguid\\Uni\\visual\\project\\vipm_project\\vipm_dataset_cleaner.py:135: SettingWithCopyWarning: \n",
      "A value is trying to be set on a copy of a slice from a DataFrame.\n",
      "Try using .loc[row_indexer,col_indexer] = value instead\n",
      "\n",
      "See the caveats in the documentation: https://pandas.pydata.org/pandas-docs/stable/user_guide/indexing.html#returning-a-view-versus-a-copy\n",
      "  class_df[\"Rejected\"] = predictions\n"
     ]
    },
    {
     "name": "stdout",
     "output_type": "stream",
     "text": [
      "Pulizia completata per la classe 19.\n",
      "Elaborando classe: 20\n",
      "Feature shape per la classe 20: (20, 3)\n",
      "Pulizia completata per la classe 20.\n",
      "Elaborando classe: 21\n",
      "Feature shape per la classe 21: (20, 3)\n"
     ]
    },
    {
     "name": "stderr",
     "output_type": "stream",
     "text": [
      "c:\\Users\\sguid\\Uni\\visual\\project\\vipm_project\\vipm_dataset_cleaner.py:135: SettingWithCopyWarning: \n",
      "A value is trying to be set on a copy of a slice from a DataFrame.\n",
      "Try using .loc[row_indexer,col_indexer] = value instead\n",
      "\n",
      "See the caveats in the documentation: https://pandas.pydata.org/pandas-docs/stable/user_guide/indexing.html#returning-a-view-versus-a-copy\n",
      "  class_df[\"Rejected\"] = predictions\n",
      "c:\\Users\\sguid\\Uni\\visual\\project\\vipm_project\\vipm_dataset_cleaner.py:135: SettingWithCopyWarning: \n",
      "A value is trying to be set on a copy of a slice from a DataFrame.\n",
      "Try using .loc[row_indexer,col_indexer] = value instead\n",
      "\n",
      "See the caveats in the documentation: https://pandas.pydata.org/pandas-docs/stable/user_guide/indexing.html#returning-a-view-versus-a-copy\n",
      "  class_df[\"Rejected\"] = predictions\n"
     ]
    },
    {
     "name": "stdout",
     "output_type": "stream",
     "text": [
      "Pulizia completata per la classe 21.\n",
      "Elaborando classe: 22\n",
      "Feature shape per la classe 22: (20, 3)\n",
      "Pulizia completata per la classe 22.\n",
      "Elaborando classe: 23\n",
      "Feature shape per la classe 23: (20, 3)\n"
     ]
    },
    {
     "name": "stderr",
     "output_type": "stream",
     "text": [
      "c:\\Users\\sguid\\Uni\\visual\\project\\vipm_project\\vipm_dataset_cleaner.py:135: SettingWithCopyWarning: \n",
      "A value is trying to be set on a copy of a slice from a DataFrame.\n",
      "Try using .loc[row_indexer,col_indexer] = value instead\n",
      "\n",
      "See the caveats in the documentation: https://pandas.pydata.org/pandas-docs/stable/user_guide/indexing.html#returning-a-view-versus-a-copy\n",
      "  class_df[\"Rejected\"] = predictions\n",
      "c:\\Users\\sguid\\Uni\\visual\\project\\vipm_project\\vipm_dataset_cleaner.py:135: SettingWithCopyWarning: \n",
      "A value is trying to be set on a copy of a slice from a DataFrame.\n",
      "Try using .loc[row_indexer,col_indexer] = value instead\n",
      "\n",
      "See the caveats in the documentation: https://pandas.pydata.org/pandas-docs/stable/user_guide/indexing.html#returning-a-view-versus-a-copy\n",
      "  class_df[\"Rejected\"] = predictions\n"
     ]
    },
    {
     "name": "stdout",
     "output_type": "stream",
     "text": [
      "Pulizia completata per la classe 23.\n",
      "Elaborando classe: 24\n",
      "Feature shape per la classe 24: (20, 3)\n",
      "Pulizia completata per la classe 24.\n",
      "Elaborando classe: 25\n",
      "Feature shape per la classe 25: (20, 3)\n"
     ]
    },
    {
     "name": "stderr",
     "output_type": "stream",
     "text": [
      "c:\\Users\\sguid\\Uni\\visual\\project\\vipm_project\\vipm_dataset_cleaner.py:135: SettingWithCopyWarning: \n",
      "A value is trying to be set on a copy of a slice from a DataFrame.\n",
      "Try using .loc[row_indexer,col_indexer] = value instead\n",
      "\n",
      "See the caveats in the documentation: https://pandas.pydata.org/pandas-docs/stable/user_guide/indexing.html#returning-a-view-versus-a-copy\n",
      "  class_df[\"Rejected\"] = predictions\n",
      "c:\\Users\\sguid\\Uni\\visual\\project\\vipm_project\\vipm_dataset_cleaner.py:135: SettingWithCopyWarning: \n",
      "A value is trying to be set on a copy of a slice from a DataFrame.\n",
      "Try using .loc[row_indexer,col_indexer] = value instead\n",
      "\n",
      "See the caveats in the documentation: https://pandas.pydata.org/pandas-docs/stable/user_guide/indexing.html#returning-a-view-versus-a-copy\n",
      "  class_df[\"Rejected\"] = predictions\n"
     ]
    },
    {
     "name": "stdout",
     "output_type": "stream",
     "text": [
      "Pulizia completata per la classe 25.\n",
      "Elaborando classe: 26\n",
      "Feature shape per la classe 26: (20, 3)\n",
      "Pulizia completata per la classe 26.\n",
      "Elaborando classe: 27\n",
      "Feature shape per la classe 27: (20, 3)\n"
     ]
    },
    {
     "name": "stderr",
     "output_type": "stream",
     "text": [
      "c:\\Users\\sguid\\Uni\\visual\\project\\vipm_project\\vipm_dataset_cleaner.py:135: SettingWithCopyWarning: \n",
      "A value is trying to be set on a copy of a slice from a DataFrame.\n",
      "Try using .loc[row_indexer,col_indexer] = value instead\n",
      "\n",
      "See the caveats in the documentation: https://pandas.pydata.org/pandas-docs/stable/user_guide/indexing.html#returning-a-view-versus-a-copy\n",
      "  class_df[\"Rejected\"] = predictions\n",
      "c:\\Users\\sguid\\Uni\\visual\\project\\vipm_project\\vipm_dataset_cleaner.py:135: SettingWithCopyWarning: \n",
      "A value is trying to be set on a copy of a slice from a DataFrame.\n",
      "Try using .loc[row_indexer,col_indexer] = value instead\n",
      "\n",
      "See the caveats in the documentation: https://pandas.pydata.org/pandas-docs/stable/user_guide/indexing.html#returning-a-view-versus-a-copy\n",
      "  class_df[\"Rejected\"] = predictions\n"
     ]
    },
    {
     "name": "stdout",
     "output_type": "stream",
     "text": [
      "Pulizia completata per la classe 27.\n",
      "Elaborando classe: 28\n",
      "Feature shape per la classe 28: (20, 3)\n",
      "Pulizia completata per la classe 28.\n",
      "Elaborando classe: 29\n",
      "Feature shape per la classe 29: (20, 3)\n"
     ]
    },
    {
     "name": "stderr",
     "output_type": "stream",
     "text": [
      "c:\\Users\\sguid\\Uni\\visual\\project\\vipm_project\\vipm_dataset_cleaner.py:135: SettingWithCopyWarning: \n",
      "A value is trying to be set on a copy of a slice from a DataFrame.\n",
      "Try using .loc[row_indexer,col_indexer] = value instead\n",
      "\n",
      "See the caveats in the documentation: https://pandas.pydata.org/pandas-docs/stable/user_guide/indexing.html#returning-a-view-versus-a-copy\n",
      "  class_df[\"Rejected\"] = predictions\n",
      "c:\\Users\\sguid\\Uni\\visual\\project\\vipm_project\\vipm_dataset_cleaner.py:135: SettingWithCopyWarning: \n",
      "A value is trying to be set on a copy of a slice from a DataFrame.\n",
      "Try using .loc[row_indexer,col_indexer] = value instead\n",
      "\n",
      "See the caveats in the documentation: https://pandas.pydata.org/pandas-docs/stable/user_guide/indexing.html#returning-a-view-versus-a-copy\n",
      "  class_df[\"Rejected\"] = predictions\n"
     ]
    },
    {
     "name": "stdout",
     "output_type": "stream",
     "text": [
      "Pulizia completata per la classe 29.\n",
      "Elaborando classe: 30\n",
      "Feature shape per la classe 30: (20, 3)\n",
      "Pulizia completata per la classe 30.\n",
      "Elaborando classe: 31\n",
      "Feature shape per la classe 31: (20, 3)\n"
     ]
    },
    {
     "name": "stderr",
     "output_type": "stream",
     "text": [
      "c:\\Users\\sguid\\Uni\\visual\\project\\vipm_project\\vipm_dataset_cleaner.py:135: SettingWithCopyWarning: \n",
      "A value is trying to be set on a copy of a slice from a DataFrame.\n",
      "Try using .loc[row_indexer,col_indexer] = value instead\n",
      "\n",
      "See the caveats in the documentation: https://pandas.pydata.org/pandas-docs/stable/user_guide/indexing.html#returning-a-view-versus-a-copy\n",
      "  class_df[\"Rejected\"] = predictions\n",
      "c:\\Users\\sguid\\Uni\\visual\\project\\vipm_project\\vipm_dataset_cleaner.py:135: SettingWithCopyWarning: \n",
      "A value is trying to be set on a copy of a slice from a DataFrame.\n",
      "Try using .loc[row_indexer,col_indexer] = value instead\n",
      "\n",
      "See the caveats in the documentation: https://pandas.pydata.org/pandas-docs/stable/user_guide/indexing.html#returning-a-view-versus-a-copy\n",
      "  class_df[\"Rejected\"] = predictions\n"
     ]
    },
    {
     "name": "stdout",
     "output_type": "stream",
     "text": [
      "Pulizia completata per la classe 31.\n",
      "Elaborando classe: 32\n",
      "Feature shape per la classe 32: (20, 3)\n"
     ]
    },
    {
     "name": "stderr",
     "output_type": "stream",
     "text": [
      "c:\\Users\\sguid\\Uni\\visual\\project\\vipm_project\\vipm_dataset_cleaner.py:135: SettingWithCopyWarning: \n",
      "A value is trying to be set on a copy of a slice from a DataFrame.\n",
      "Try using .loc[row_indexer,col_indexer] = value instead\n",
      "\n",
      "See the caveats in the documentation: https://pandas.pydata.org/pandas-docs/stable/user_guide/indexing.html#returning-a-view-versus-a-copy\n",
      "  class_df[\"Rejected\"] = predictions\n",
      "c:\\Users\\sguid\\Uni\\visual\\project\\vipm_project\\vipm_dataset_cleaner.py:135: SettingWithCopyWarning: \n",
      "A value is trying to be set on a copy of a slice from a DataFrame.\n",
      "Try using .loc[row_indexer,col_indexer] = value instead\n",
      "\n",
      "See the caveats in the documentation: https://pandas.pydata.org/pandas-docs/stable/user_guide/indexing.html#returning-a-view-versus-a-copy\n",
      "  class_df[\"Rejected\"] = predictions\n"
     ]
    },
    {
     "name": "stdout",
     "output_type": "stream",
     "text": [
      "Pulizia completata per la classe 32.\n",
      "Elaborando classe: 33\n",
      "Feature shape per la classe 33: (20, 3)\n",
      "Pulizia completata per la classe 33.\n",
      "Elaborando classe: 34\n",
      "Feature shape per la classe 34: (20, 3)\n",
      "Pulizia completata per la classe 34.\n",
      "Elaborando classe: 35\n",
      "Feature shape per la classe 35: (20, 3)\n"
     ]
    },
    {
     "name": "stderr",
     "output_type": "stream",
     "text": [
      "c:\\Users\\sguid\\Uni\\visual\\project\\vipm_project\\vipm_dataset_cleaner.py:135: SettingWithCopyWarning: \n",
      "A value is trying to be set on a copy of a slice from a DataFrame.\n",
      "Try using .loc[row_indexer,col_indexer] = value instead\n",
      "\n",
      "See the caveats in the documentation: https://pandas.pydata.org/pandas-docs/stable/user_guide/indexing.html#returning-a-view-versus-a-copy\n",
      "  class_df[\"Rejected\"] = predictions\n",
      "c:\\Users\\sguid\\Uni\\visual\\project\\vipm_project\\vipm_dataset_cleaner.py:135: SettingWithCopyWarning: \n",
      "A value is trying to be set on a copy of a slice from a DataFrame.\n",
      "Try using .loc[row_indexer,col_indexer] = value instead\n",
      "\n",
      "See the caveats in the documentation: https://pandas.pydata.org/pandas-docs/stable/user_guide/indexing.html#returning-a-view-versus-a-copy\n",
      "  class_df[\"Rejected\"] = predictions\n"
     ]
    },
    {
     "name": "stdout",
     "output_type": "stream",
     "text": [
      "Pulizia completata per la classe 35.\n",
      "Elaborando classe: 36\n",
      "Feature shape per la classe 36: (20, 3)\n",
      "Pulizia completata per la classe 36.\n",
      "Elaborando classe: 37\n",
      "Feature shape per la classe 37: (20, 3)\n"
     ]
    },
    {
     "name": "stderr",
     "output_type": "stream",
     "text": [
      "c:\\Users\\sguid\\Uni\\visual\\project\\vipm_project\\vipm_dataset_cleaner.py:135: SettingWithCopyWarning: \n",
      "A value is trying to be set on a copy of a slice from a DataFrame.\n",
      "Try using .loc[row_indexer,col_indexer] = value instead\n",
      "\n",
      "See the caveats in the documentation: https://pandas.pydata.org/pandas-docs/stable/user_guide/indexing.html#returning-a-view-versus-a-copy\n",
      "  class_df[\"Rejected\"] = predictions\n",
      "c:\\Users\\sguid\\Uni\\visual\\project\\vipm_project\\vipm_dataset_cleaner.py:135: SettingWithCopyWarning: \n",
      "A value is trying to be set on a copy of a slice from a DataFrame.\n",
      "Try using .loc[row_indexer,col_indexer] = value instead\n",
      "\n",
      "See the caveats in the documentation: https://pandas.pydata.org/pandas-docs/stable/user_guide/indexing.html#returning-a-view-versus-a-copy\n",
      "  class_df[\"Rejected\"] = predictions\n"
     ]
    },
    {
     "name": "stdout",
     "output_type": "stream",
     "text": [
      "Pulizia completata per la classe 37.\n",
      "Elaborando classe: 38\n",
      "Feature shape per la classe 38: (20, 3)\n",
      "Pulizia completata per la classe 38.\n",
      "Elaborando classe: 39\n",
      "Feature shape per la classe 39: (20, 3)\n"
     ]
    },
    {
     "name": "stderr",
     "output_type": "stream",
     "text": [
      "c:\\Users\\sguid\\Uni\\visual\\project\\vipm_project\\vipm_dataset_cleaner.py:135: SettingWithCopyWarning: \n",
      "A value is trying to be set on a copy of a slice from a DataFrame.\n",
      "Try using .loc[row_indexer,col_indexer] = value instead\n",
      "\n",
      "See the caveats in the documentation: https://pandas.pydata.org/pandas-docs/stable/user_guide/indexing.html#returning-a-view-versus-a-copy\n",
      "  class_df[\"Rejected\"] = predictions\n",
      "c:\\Users\\sguid\\Uni\\visual\\project\\vipm_project\\vipm_dataset_cleaner.py:135: SettingWithCopyWarning: \n",
      "A value is trying to be set on a copy of a slice from a DataFrame.\n",
      "Try using .loc[row_indexer,col_indexer] = value instead\n",
      "\n",
      "See the caveats in the documentation: https://pandas.pydata.org/pandas-docs/stable/user_guide/indexing.html#returning-a-view-versus-a-copy\n",
      "  class_df[\"Rejected\"] = predictions\n"
     ]
    },
    {
     "name": "stdout",
     "output_type": "stream",
     "text": [
      "Pulizia completata per la classe 39.\n",
      "Elaborando classe: 40\n",
      "Feature shape per la classe 40: (20, 3)\n",
      "Pulizia completata per la classe 40.\n",
      "Elaborando classe: 41\n",
      "Feature shape per la classe 41: (20, 3)\n"
     ]
    },
    {
     "name": "stderr",
     "output_type": "stream",
     "text": [
      "c:\\Users\\sguid\\Uni\\visual\\project\\vipm_project\\vipm_dataset_cleaner.py:135: SettingWithCopyWarning: \n",
      "A value is trying to be set on a copy of a slice from a DataFrame.\n",
      "Try using .loc[row_indexer,col_indexer] = value instead\n",
      "\n",
      "See the caveats in the documentation: https://pandas.pydata.org/pandas-docs/stable/user_guide/indexing.html#returning-a-view-versus-a-copy\n",
      "  class_df[\"Rejected\"] = predictions\n",
      "c:\\Users\\sguid\\Uni\\visual\\project\\vipm_project\\vipm_dataset_cleaner.py:135: SettingWithCopyWarning: \n",
      "A value is trying to be set on a copy of a slice from a DataFrame.\n",
      "Try using .loc[row_indexer,col_indexer] = value instead\n",
      "\n",
      "See the caveats in the documentation: https://pandas.pydata.org/pandas-docs/stable/user_guide/indexing.html#returning-a-view-versus-a-copy\n",
      "  class_df[\"Rejected\"] = predictions\n"
     ]
    },
    {
     "name": "stdout",
     "output_type": "stream",
     "text": [
      "Pulizia completata per la classe 41.\n",
      "Elaborando classe: 42\n",
      "Feature shape per la classe 42: (20, 3)\n",
      "Pulizia completata per la classe 42.\n",
      "Elaborando classe: 43\n",
      "Feature shape per la classe 43: (20, 3)\n"
     ]
    },
    {
     "name": "stderr",
     "output_type": "stream",
     "text": [
      "c:\\Users\\sguid\\Uni\\visual\\project\\vipm_project\\vipm_dataset_cleaner.py:135: SettingWithCopyWarning: \n",
      "A value is trying to be set on a copy of a slice from a DataFrame.\n",
      "Try using .loc[row_indexer,col_indexer] = value instead\n",
      "\n",
      "See the caveats in the documentation: https://pandas.pydata.org/pandas-docs/stable/user_guide/indexing.html#returning-a-view-versus-a-copy\n",
      "  class_df[\"Rejected\"] = predictions\n",
      "c:\\Users\\sguid\\Uni\\visual\\project\\vipm_project\\vipm_dataset_cleaner.py:135: SettingWithCopyWarning: \n",
      "A value is trying to be set on a copy of a slice from a DataFrame.\n",
      "Try using .loc[row_indexer,col_indexer] = value instead\n",
      "\n",
      "See the caveats in the documentation: https://pandas.pydata.org/pandas-docs/stable/user_guide/indexing.html#returning-a-view-versus-a-copy\n",
      "  class_df[\"Rejected\"] = predictions\n"
     ]
    },
    {
     "name": "stdout",
     "output_type": "stream",
     "text": [
      "Pulizia completata per la classe 43.\n",
      "Elaborando classe: 44\n",
      "Feature shape per la classe 44: (20, 3)\n",
      "Pulizia completata per la classe 44.\n",
      "Elaborando classe: 45\n",
      "Feature shape per la classe 45: (20, 3)\n"
     ]
    },
    {
     "name": "stderr",
     "output_type": "stream",
     "text": [
      "c:\\Users\\sguid\\Uni\\visual\\project\\vipm_project\\vipm_dataset_cleaner.py:135: SettingWithCopyWarning: \n",
      "A value is trying to be set on a copy of a slice from a DataFrame.\n",
      "Try using .loc[row_indexer,col_indexer] = value instead\n",
      "\n",
      "See the caveats in the documentation: https://pandas.pydata.org/pandas-docs/stable/user_guide/indexing.html#returning-a-view-versus-a-copy\n",
      "  class_df[\"Rejected\"] = predictions\n",
      "c:\\Users\\sguid\\Uni\\visual\\project\\vipm_project\\vipm_dataset_cleaner.py:135: SettingWithCopyWarning: \n",
      "A value is trying to be set on a copy of a slice from a DataFrame.\n",
      "Try using .loc[row_indexer,col_indexer] = value instead\n",
      "\n",
      "See the caveats in the documentation: https://pandas.pydata.org/pandas-docs/stable/user_guide/indexing.html#returning-a-view-versus-a-copy\n",
      "  class_df[\"Rejected\"] = predictions\n"
     ]
    },
    {
     "name": "stdout",
     "output_type": "stream",
     "text": [
      "Pulizia completata per la classe 45.\n",
      "Elaborando classe: 46\n",
      "Feature shape per la classe 46: (20, 3)\n",
      "Pulizia completata per la classe 46.\n",
      "Elaborando classe: 47\n",
      "Feature shape per la classe 47: (20, 3)\n"
     ]
    },
    {
     "name": "stderr",
     "output_type": "stream",
     "text": [
      "c:\\Users\\sguid\\Uni\\visual\\project\\vipm_project\\vipm_dataset_cleaner.py:135: SettingWithCopyWarning: \n",
      "A value is trying to be set on a copy of a slice from a DataFrame.\n",
      "Try using .loc[row_indexer,col_indexer] = value instead\n",
      "\n",
      "See the caveats in the documentation: https://pandas.pydata.org/pandas-docs/stable/user_guide/indexing.html#returning-a-view-versus-a-copy\n",
      "  class_df[\"Rejected\"] = predictions\n",
      "c:\\Users\\sguid\\Uni\\visual\\project\\vipm_project\\vipm_dataset_cleaner.py:135: SettingWithCopyWarning: \n",
      "A value is trying to be set on a copy of a slice from a DataFrame.\n",
      "Try using .loc[row_indexer,col_indexer] = value instead\n",
      "\n",
      "See the caveats in the documentation: https://pandas.pydata.org/pandas-docs/stable/user_guide/indexing.html#returning-a-view-versus-a-copy\n",
      "  class_df[\"Rejected\"] = predictions\n"
     ]
    },
    {
     "name": "stdout",
     "output_type": "stream",
     "text": [
      "Pulizia completata per la classe 47.\n",
      "Elaborando classe: 48\n",
      "Feature shape per la classe 48: (20, 3)\n",
      "Pulizia completata per la classe 48.\n",
      "Elaborando classe: 49\n",
      "Feature shape per la classe 49: (20, 3)\n"
     ]
    },
    {
     "name": "stderr",
     "output_type": "stream",
     "text": [
      "c:\\Users\\sguid\\Uni\\visual\\project\\vipm_project\\vipm_dataset_cleaner.py:135: SettingWithCopyWarning: \n",
      "A value is trying to be set on a copy of a slice from a DataFrame.\n",
      "Try using .loc[row_indexer,col_indexer] = value instead\n",
      "\n",
      "See the caveats in the documentation: https://pandas.pydata.org/pandas-docs/stable/user_guide/indexing.html#returning-a-view-versus-a-copy\n",
      "  class_df[\"Rejected\"] = predictions\n",
      "c:\\Users\\sguid\\Uni\\visual\\project\\vipm_project\\vipm_dataset_cleaner.py:135: SettingWithCopyWarning: \n",
      "A value is trying to be set on a copy of a slice from a DataFrame.\n",
      "Try using .loc[row_indexer,col_indexer] = value instead\n",
      "\n",
      "See the caveats in the documentation: https://pandas.pydata.org/pandas-docs/stable/user_guide/indexing.html#returning-a-view-versus-a-copy\n",
      "  class_df[\"Rejected\"] = predictions\n"
     ]
    },
    {
     "name": "stdout",
     "output_type": "stream",
     "text": [
      "Pulizia completata per la classe 49.\n",
      "Elaborando classe: 50\n",
      "Feature shape per la classe 50: (20, 3)\n",
      "Pulizia completata per la classe 50.\n",
      "Elaborando classe: 51\n",
      "Feature shape per la classe 51: (20, 3)\n"
     ]
    },
    {
     "name": "stderr",
     "output_type": "stream",
     "text": [
      "c:\\Users\\sguid\\Uni\\visual\\project\\vipm_project\\vipm_dataset_cleaner.py:135: SettingWithCopyWarning: \n",
      "A value is trying to be set on a copy of a slice from a DataFrame.\n",
      "Try using .loc[row_indexer,col_indexer] = value instead\n",
      "\n",
      "See the caveats in the documentation: https://pandas.pydata.org/pandas-docs/stable/user_guide/indexing.html#returning-a-view-versus-a-copy\n",
      "  class_df[\"Rejected\"] = predictions\n",
      "c:\\Users\\sguid\\Uni\\visual\\project\\vipm_project\\vipm_dataset_cleaner.py:135: SettingWithCopyWarning: \n",
      "A value is trying to be set on a copy of a slice from a DataFrame.\n",
      "Try using .loc[row_indexer,col_indexer] = value instead\n",
      "\n",
      "See the caveats in the documentation: https://pandas.pydata.org/pandas-docs/stable/user_guide/indexing.html#returning-a-view-versus-a-copy\n",
      "  class_df[\"Rejected\"] = predictions\n"
     ]
    },
    {
     "name": "stdout",
     "output_type": "stream",
     "text": [
      "Pulizia completata per la classe 51.\n",
      "Elaborando classe: 52\n",
      "Feature shape per la classe 52: (20, 3)\n",
      "Pulizia completata per la classe 52.\n",
      "Elaborando classe: 53\n",
      "Feature shape per la classe 53: (20, 3)\n"
     ]
    },
    {
     "name": "stderr",
     "output_type": "stream",
     "text": [
      "c:\\Users\\sguid\\Uni\\visual\\project\\vipm_project\\vipm_dataset_cleaner.py:135: SettingWithCopyWarning: \n",
      "A value is trying to be set on a copy of a slice from a DataFrame.\n",
      "Try using .loc[row_indexer,col_indexer] = value instead\n",
      "\n",
      "See the caveats in the documentation: https://pandas.pydata.org/pandas-docs/stable/user_guide/indexing.html#returning-a-view-versus-a-copy\n",
      "  class_df[\"Rejected\"] = predictions\n",
      "c:\\Users\\sguid\\Uni\\visual\\project\\vipm_project\\vipm_dataset_cleaner.py:135: SettingWithCopyWarning: \n",
      "A value is trying to be set on a copy of a slice from a DataFrame.\n",
      "Try using .loc[row_indexer,col_indexer] = value instead\n",
      "\n",
      "See the caveats in the documentation: https://pandas.pydata.org/pandas-docs/stable/user_guide/indexing.html#returning-a-view-versus-a-copy\n",
      "  class_df[\"Rejected\"] = predictions\n"
     ]
    },
    {
     "name": "stdout",
     "output_type": "stream",
     "text": [
      "Pulizia completata per la classe 53.\n",
      "Elaborando classe: 54\n",
      "Feature shape per la classe 54: (20, 3)\n",
      "Pulizia completata per la classe 54.\n",
      "Elaborando classe: 55\n",
      "Feature shape per la classe 55: (20, 3)\n"
     ]
    },
    {
     "name": "stderr",
     "output_type": "stream",
     "text": [
      "c:\\Users\\sguid\\Uni\\visual\\project\\vipm_project\\vipm_dataset_cleaner.py:135: SettingWithCopyWarning: \n",
      "A value is trying to be set on a copy of a slice from a DataFrame.\n",
      "Try using .loc[row_indexer,col_indexer] = value instead\n",
      "\n",
      "See the caveats in the documentation: https://pandas.pydata.org/pandas-docs/stable/user_guide/indexing.html#returning-a-view-versus-a-copy\n",
      "  class_df[\"Rejected\"] = predictions\n",
      "c:\\Users\\sguid\\Uni\\visual\\project\\vipm_project\\vipm_dataset_cleaner.py:135: SettingWithCopyWarning: \n",
      "A value is trying to be set on a copy of a slice from a DataFrame.\n",
      "Try using .loc[row_indexer,col_indexer] = value instead\n",
      "\n",
      "See the caveats in the documentation: https://pandas.pydata.org/pandas-docs/stable/user_guide/indexing.html#returning-a-view-versus-a-copy\n",
      "  class_df[\"Rejected\"] = predictions\n"
     ]
    },
    {
     "name": "stdout",
     "output_type": "stream",
     "text": [
      "Pulizia completata per la classe 55.\n",
      "Elaborando classe: 56\n",
      "Feature shape per la classe 56: (20, 3)\n",
      "Pulizia completata per la classe 56.\n",
      "Elaborando classe: 57\n",
      "Feature shape per la classe 57: (20, 3)\n"
     ]
    },
    {
     "name": "stderr",
     "output_type": "stream",
     "text": [
      "c:\\Users\\sguid\\Uni\\visual\\project\\vipm_project\\vipm_dataset_cleaner.py:135: SettingWithCopyWarning: \n",
      "A value is trying to be set on a copy of a slice from a DataFrame.\n",
      "Try using .loc[row_indexer,col_indexer] = value instead\n",
      "\n",
      "See the caveats in the documentation: https://pandas.pydata.org/pandas-docs/stable/user_guide/indexing.html#returning-a-view-versus-a-copy\n",
      "  class_df[\"Rejected\"] = predictions\n",
      "c:\\Users\\sguid\\Uni\\visual\\project\\vipm_project\\vipm_dataset_cleaner.py:135: SettingWithCopyWarning: \n",
      "A value is trying to be set on a copy of a slice from a DataFrame.\n",
      "Try using .loc[row_indexer,col_indexer] = value instead\n",
      "\n",
      "See the caveats in the documentation: https://pandas.pydata.org/pandas-docs/stable/user_guide/indexing.html#returning-a-view-versus-a-copy\n",
      "  class_df[\"Rejected\"] = predictions\n"
     ]
    },
    {
     "name": "stdout",
     "output_type": "stream",
     "text": [
      "Pulizia completata per la classe 57.\n",
      "Elaborando classe: 58\n",
      "Feature shape per la classe 58: (20, 3)\n",
      "Pulizia completata per la classe 58.\n",
      "Elaborando classe: 59\n",
      "Feature shape per la classe 59: (20, 3)\n"
     ]
    },
    {
     "name": "stderr",
     "output_type": "stream",
     "text": [
      "c:\\Users\\sguid\\Uni\\visual\\project\\vipm_project\\vipm_dataset_cleaner.py:135: SettingWithCopyWarning: \n",
      "A value is trying to be set on a copy of a slice from a DataFrame.\n",
      "Try using .loc[row_indexer,col_indexer] = value instead\n",
      "\n",
      "See the caveats in the documentation: https://pandas.pydata.org/pandas-docs/stable/user_guide/indexing.html#returning-a-view-versus-a-copy\n",
      "  class_df[\"Rejected\"] = predictions\n",
      "c:\\Users\\sguid\\Uni\\visual\\project\\vipm_project\\vipm_dataset_cleaner.py:135: SettingWithCopyWarning: \n",
      "A value is trying to be set on a copy of a slice from a DataFrame.\n",
      "Try using .loc[row_indexer,col_indexer] = value instead\n",
      "\n",
      "See the caveats in the documentation: https://pandas.pydata.org/pandas-docs/stable/user_guide/indexing.html#returning-a-view-versus-a-copy\n",
      "  class_df[\"Rejected\"] = predictions\n"
     ]
    },
    {
     "name": "stdout",
     "output_type": "stream",
     "text": [
      "Pulizia completata per la classe 59.\n",
      "Elaborando classe: 60\n",
      "Feature shape per la classe 60: (20, 3)\n",
      "Pulizia completata per la classe 60.\n",
      "Elaborando classe: 61\n",
      "Feature shape per la classe 61: (20, 3)\n"
     ]
    },
    {
     "name": "stderr",
     "output_type": "stream",
     "text": [
      "c:\\Users\\sguid\\Uni\\visual\\project\\vipm_project\\vipm_dataset_cleaner.py:135: SettingWithCopyWarning: \n",
      "A value is trying to be set on a copy of a slice from a DataFrame.\n",
      "Try using .loc[row_indexer,col_indexer] = value instead\n",
      "\n",
      "See the caveats in the documentation: https://pandas.pydata.org/pandas-docs/stable/user_guide/indexing.html#returning-a-view-versus-a-copy\n",
      "  class_df[\"Rejected\"] = predictions\n",
      "c:\\Users\\sguid\\Uni\\visual\\project\\vipm_project\\vipm_dataset_cleaner.py:135: SettingWithCopyWarning: \n",
      "A value is trying to be set on a copy of a slice from a DataFrame.\n",
      "Try using .loc[row_indexer,col_indexer] = value instead\n",
      "\n",
      "See the caveats in the documentation: https://pandas.pydata.org/pandas-docs/stable/user_guide/indexing.html#returning-a-view-versus-a-copy\n",
      "  class_df[\"Rejected\"] = predictions\n"
     ]
    },
    {
     "name": "stdout",
     "output_type": "stream",
     "text": [
      "Pulizia completata per la classe 61.\n",
      "Elaborando classe: 62\n",
      "Feature shape per la classe 62: (20, 3)\n",
      "Pulizia completata per la classe 62.\n",
      "Elaborando classe: 63\n",
      "Feature shape per la classe 63: (20, 3)\n"
     ]
    },
    {
     "name": "stderr",
     "output_type": "stream",
     "text": [
      "c:\\Users\\sguid\\Uni\\visual\\project\\vipm_project\\vipm_dataset_cleaner.py:135: SettingWithCopyWarning: \n",
      "A value is trying to be set on a copy of a slice from a DataFrame.\n",
      "Try using .loc[row_indexer,col_indexer] = value instead\n",
      "\n",
      "See the caveats in the documentation: https://pandas.pydata.org/pandas-docs/stable/user_guide/indexing.html#returning-a-view-versus-a-copy\n",
      "  class_df[\"Rejected\"] = predictions\n",
      "c:\\Users\\sguid\\Uni\\visual\\project\\vipm_project\\vipm_dataset_cleaner.py:135: SettingWithCopyWarning: \n",
      "A value is trying to be set on a copy of a slice from a DataFrame.\n",
      "Try using .loc[row_indexer,col_indexer] = value instead\n",
      "\n",
      "See the caveats in the documentation: https://pandas.pydata.org/pandas-docs/stable/user_guide/indexing.html#returning-a-view-versus-a-copy\n",
      "  class_df[\"Rejected\"] = predictions\n"
     ]
    },
    {
     "name": "stdout",
     "output_type": "stream",
     "text": [
      "Pulizia completata per la classe 63.\n",
      "Elaborando classe: 64\n",
      "Feature shape per la classe 64: (20, 3)\n",
      "Pulizia completata per la classe 64.\n",
      "Elaborando classe: 65\n",
      "Feature shape per la classe 65: (20, 3)\n"
     ]
    },
    {
     "name": "stderr",
     "output_type": "stream",
     "text": [
      "c:\\Users\\sguid\\Uni\\visual\\project\\vipm_project\\vipm_dataset_cleaner.py:135: SettingWithCopyWarning: \n",
      "A value is trying to be set on a copy of a slice from a DataFrame.\n",
      "Try using .loc[row_indexer,col_indexer] = value instead\n",
      "\n",
      "See the caveats in the documentation: https://pandas.pydata.org/pandas-docs/stable/user_guide/indexing.html#returning-a-view-versus-a-copy\n",
      "  class_df[\"Rejected\"] = predictions\n",
      "c:\\Users\\sguid\\Uni\\visual\\project\\vipm_project\\vipm_dataset_cleaner.py:135: SettingWithCopyWarning: \n",
      "A value is trying to be set on a copy of a slice from a DataFrame.\n",
      "Try using .loc[row_indexer,col_indexer] = value instead\n",
      "\n",
      "See the caveats in the documentation: https://pandas.pydata.org/pandas-docs/stable/user_guide/indexing.html#returning-a-view-versus-a-copy\n",
      "  class_df[\"Rejected\"] = predictions\n"
     ]
    },
    {
     "name": "stdout",
     "output_type": "stream",
     "text": [
      "Pulizia completata per la classe 65.\n",
      "Elaborando classe: 66\n",
      "Feature shape per la classe 66: (20, 3)\n",
      "Pulizia completata per la classe 66.\n",
      "Elaborando classe: 67\n"
     ]
    },
    {
     "name": "stderr",
     "output_type": "stream",
     "text": [
      "c:\\Users\\sguid\\Uni\\visual\\project\\vipm_project\\vipm_dataset_cleaner.py:135: SettingWithCopyWarning: \n",
      "A value is trying to be set on a copy of a slice from a DataFrame.\n",
      "Try using .loc[row_indexer,col_indexer] = value instead\n",
      "\n",
      "See the caveats in the documentation: https://pandas.pydata.org/pandas-docs/stable/user_guide/indexing.html#returning-a-view-versus-a-copy\n",
      "  class_df[\"Rejected\"] = predictions\n",
      "c:\\Users\\sguid\\Uni\\visual\\project\\vipm_project\\vipm_dataset_cleaner.py:135: SettingWithCopyWarning: \n",
      "A value is trying to be set on a copy of a slice from a DataFrame.\n",
      "Try using .loc[row_indexer,col_indexer] = value instead\n",
      "\n",
      "See the caveats in the documentation: https://pandas.pydata.org/pandas-docs/stable/user_guide/indexing.html#returning-a-view-versus-a-copy\n",
      "  class_df[\"Rejected\"] = predictions\n"
     ]
    },
    {
     "name": "stdout",
     "output_type": "stream",
     "text": [
      "Feature shape per la classe 67: (20, 3)\n",
      "Pulizia completata per la classe 67.\n",
      "Elaborando classe: 68\n",
      "Feature shape per la classe 68: (20, 3)\n"
     ]
    },
    {
     "name": "stderr",
     "output_type": "stream",
     "text": [
      "c:\\Users\\sguid\\Uni\\visual\\project\\vipm_project\\vipm_dataset_cleaner.py:135: SettingWithCopyWarning: \n",
      "A value is trying to be set on a copy of a slice from a DataFrame.\n",
      "Try using .loc[row_indexer,col_indexer] = value instead\n",
      "\n",
      "See the caveats in the documentation: https://pandas.pydata.org/pandas-docs/stable/user_guide/indexing.html#returning-a-view-versus-a-copy\n",
      "  class_df[\"Rejected\"] = predictions\n",
      "c:\\Users\\sguid\\Uni\\visual\\project\\vipm_project\\vipm_dataset_cleaner.py:135: SettingWithCopyWarning: \n",
      "A value is trying to be set on a copy of a slice from a DataFrame.\n",
      "Try using .loc[row_indexer,col_indexer] = value instead\n",
      "\n",
      "See the caveats in the documentation: https://pandas.pydata.org/pandas-docs/stable/user_guide/indexing.html#returning-a-view-versus-a-copy\n",
      "  class_df[\"Rejected\"] = predictions\n"
     ]
    },
    {
     "name": "stdout",
     "output_type": "stream",
     "text": [
      "Pulizia completata per la classe 68.\n",
      "Elaborando classe: 69\n",
      "Feature shape per la classe 69: (20, 3)\n",
      "Pulizia completata per la classe 69.\n",
      "Elaborando classe: 70\n",
      "Feature shape per la classe 70: (20, 3)\n",
      "Pulizia completata per la classe 70.\n",
      "Elaborando classe: 71\n",
      "Feature shape per la classe 71: (20, 3)\n"
     ]
    },
    {
     "name": "stderr",
     "output_type": "stream",
     "text": [
      "c:\\Users\\sguid\\Uni\\visual\\project\\vipm_project\\vipm_dataset_cleaner.py:135: SettingWithCopyWarning: \n",
      "A value is trying to be set on a copy of a slice from a DataFrame.\n",
      "Try using .loc[row_indexer,col_indexer] = value instead\n",
      "\n",
      "See the caveats in the documentation: https://pandas.pydata.org/pandas-docs/stable/user_guide/indexing.html#returning-a-view-versus-a-copy\n",
      "  class_df[\"Rejected\"] = predictions\n",
      "c:\\Users\\sguid\\Uni\\visual\\project\\vipm_project\\vipm_dataset_cleaner.py:135: SettingWithCopyWarning: \n",
      "A value is trying to be set on a copy of a slice from a DataFrame.\n",
      "Try using .loc[row_indexer,col_indexer] = value instead\n",
      "\n",
      "See the caveats in the documentation: https://pandas.pydata.org/pandas-docs/stable/user_guide/indexing.html#returning-a-view-versus-a-copy\n",
      "  class_df[\"Rejected\"] = predictions\n"
     ]
    },
    {
     "name": "stdout",
     "output_type": "stream",
     "text": [
      "Pulizia completata per la classe 71.\n",
      "Elaborando classe: 72\n",
      "Feature shape per la classe 72: (20, 3)\n",
      "Pulizia completata per la classe 72.\n",
      "Elaborando classe: 73\n",
      "Feature shape per la classe 73: (20, 3)\n"
     ]
    },
    {
     "name": "stderr",
     "output_type": "stream",
     "text": [
      "c:\\Users\\sguid\\Uni\\visual\\project\\vipm_project\\vipm_dataset_cleaner.py:135: SettingWithCopyWarning: \n",
      "A value is trying to be set on a copy of a slice from a DataFrame.\n",
      "Try using .loc[row_indexer,col_indexer] = value instead\n",
      "\n",
      "See the caveats in the documentation: https://pandas.pydata.org/pandas-docs/stable/user_guide/indexing.html#returning-a-view-versus-a-copy\n",
      "  class_df[\"Rejected\"] = predictions\n",
      "c:\\Users\\sguid\\Uni\\visual\\project\\vipm_project\\vipm_dataset_cleaner.py:135: SettingWithCopyWarning: \n",
      "A value is trying to be set on a copy of a slice from a DataFrame.\n",
      "Try using .loc[row_indexer,col_indexer] = value instead\n",
      "\n",
      "See the caveats in the documentation: https://pandas.pydata.org/pandas-docs/stable/user_guide/indexing.html#returning-a-view-versus-a-copy\n",
      "  class_df[\"Rejected\"] = predictions\n"
     ]
    },
    {
     "name": "stdout",
     "output_type": "stream",
     "text": [
      "Pulizia completata per la classe 73.\n",
      "Elaborando classe: 74\n",
      "Feature shape per la classe 74: (20, 3)\n",
      "Pulizia completata per la classe 74.\n",
      "Elaborando classe: 75\n",
      "Feature shape per la classe 75: (20, 3)\n"
     ]
    },
    {
     "name": "stderr",
     "output_type": "stream",
     "text": [
      "c:\\Users\\sguid\\Uni\\visual\\project\\vipm_project\\vipm_dataset_cleaner.py:135: SettingWithCopyWarning: \n",
      "A value is trying to be set on a copy of a slice from a DataFrame.\n",
      "Try using .loc[row_indexer,col_indexer] = value instead\n",
      "\n",
      "See the caveats in the documentation: https://pandas.pydata.org/pandas-docs/stable/user_guide/indexing.html#returning-a-view-versus-a-copy\n",
      "  class_df[\"Rejected\"] = predictions\n",
      "c:\\Users\\sguid\\Uni\\visual\\project\\vipm_project\\vipm_dataset_cleaner.py:135: SettingWithCopyWarning: \n",
      "A value is trying to be set on a copy of a slice from a DataFrame.\n",
      "Try using .loc[row_indexer,col_indexer] = value instead\n",
      "\n",
      "See the caveats in the documentation: https://pandas.pydata.org/pandas-docs/stable/user_guide/indexing.html#returning-a-view-versus-a-copy\n",
      "  class_df[\"Rejected\"] = predictions\n"
     ]
    },
    {
     "name": "stdout",
     "output_type": "stream",
     "text": [
      "Pulizia completata per la classe 75.\n",
      "Elaborando classe: 76\n",
      "Feature shape per la classe 76: (20, 3)\n",
      "Pulizia completata per la classe 76.\n",
      "Elaborando classe: 77\n",
      "Feature shape per la classe 77: (20, 3)\n"
     ]
    },
    {
     "name": "stderr",
     "output_type": "stream",
     "text": [
      "c:\\Users\\sguid\\Uni\\visual\\project\\vipm_project\\vipm_dataset_cleaner.py:135: SettingWithCopyWarning: \n",
      "A value is trying to be set on a copy of a slice from a DataFrame.\n",
      "Try using .loc[row_indexer,col_indexer] = value instead\n",
      "\n",
      "See the caveats in the documentation: https://pandas.pydata.org/pandas-docs/stable/user_guide/indexing.html#returning-a-view-versus-a-copy\n",
      "  class_df[\"Rejected\"] = predictions\n",
      "c:\\Users\\sguid\\Uni\\visual\\project\\vipm_project\\vipm_dataset_cleaner.py:135: SettingWithCopyWarning: \n",
      "A value is trying to be set on a copy of a slice from a DataFrame.\n",
      "Try using .loc[row_indexer,col_indexer] = value instead\n",
      "\n",
      "See the caveats in the documentation: https://pandas.pydata.org/pandas-docs/stable/user_guide/indexing.html#returning-a-view-versus-a-copy\n",
      "  class_df[\"Rejected\"] = predictions\n"
     ]
    },
    {
     "name": "stdout",
     "output_type": "stream",
     "text": [
      "Pulizia completata per la classe 77.\n",
      "Elaborando classe: 78\n",
      "Feature shape per la classe 78: (20, 3)\n",
      "Pulizia completata per la classe 78.\n",
      "Elaborando classe: 79\n",
      "Feature shape per la classe 79: (20, 3)\n"
     ]
    },
    {
     "name": "stderr",
     "output_type": "stream",
     "text": [
      "c:\\Users\\sguid\\Uni\\visual\\project\\vipm_project\\vipm_dataset_cleaner.py:135: SettingWithCopyWarning: \n",
      "A value is trying to be set on a copy of a slice from a DataFrame.\n",
      "Try using .loc[row_indexer,col_indexer] = value instead\n",
      "\n",
      "See the caveats in the documentation: https://pandas.pydata.org/pandas-docs/stable/user_guide/indexing.html#returning-a-view-versus-a-copy\n",
      "  class_df[\"Rejected\"] = predictions\n",
      "c:\\Users\\sguid\\Uni\\visual\\project\\vipm_project\\vipm_dataset_cleaner.py:135: SettingWithCopyWarning: \n",
      "A value is trying to be set on a copy of a slice from a DataFrame.\n",
      "Try using .loc[row_indexer,col_indexer] = value instead\n",
      "\n",
      "See the caveats in the documentation: https://pandas.pydata.org/pandas-docs/stable/user_guide/indexing.html#returning-a-view-versus-a-copy\n",
      "  class_df[\"Rejected\"] = predictions\n"
     ]
    },
    {
     "name": "stdout",
     "output_type": "stream",
     "text": [
      "Pulizia completata per la classe 79.\n",
      "Elaborando classe: 80\n",
      "Feature shape per la classe 80: (20, 3)\n",
      "Pulizia completata per la classe 80.\n",
      "Elaborando classe: 81\n"
     ]
    },
    {
     "name": "stderr",
     "output_type": "stream",
     "text": [
      "c:\\Users\\sguid\\Uni\\visual\\project\\vipm_project\\vipm_dataset_cleaner.py:135: SettingWithCopyWarning: \n",
      "A value is trying to be set on a copy of a slice from a DataFrame.\n",
      "Try using .loc[row_indexer,col_indexer] = value instead\n",
      "\n",
      "See the caveats in the documentation: https://pandas.pydata.org/pandas-docs/stable/user_guide/indexing.html#returning-a-view-versus-a-copy\n",
      "  class_df[\"Rejected\"] = predictions\n",
      "c:\\Users\\sguid\\Uni\\visual\\project\\vipm_project\\vipm_dataset_cleaner.py:135: SettingWithCopyWarning: \n",
      "A value is trying to be set on a copy of a slice from a DataFrame.\n",
      "Try using .loc[row_indexer,col_indexer] = value instead\n",
      "\n",
      "See the caveats in the documentation: https://pandas.pydata.org/pandas-docs/stable/user_guide/indexing.html#returning-a-view-versus-a-copy\n",
      "  class_df[\"Rejected\"] = predictions\n"
     ]
    },
    {
     "name": "stdout",
     "output_type": "stream",
     "text": [
      "Feature shape per la classe 81: (20, 3)\n",
      "Pulizia completata per la classe 81.\n",
      "Elaborando classe: 82\n",
      "Feature shape per la classe 82: (20, 3)\n"
     ]
    },
    {
     "name": "stderr",
     "output_type": "stream",
     "text": [
      "c:\\Users\\sguid\\Uni\\visual\\project\\vipm_project\\vipm_dataset_cleaner.py:135: SettingWithCopyWarning: \n",
      "A value is trying to be set on a copy of a slice from a DataFrame.\n",
      "Try using .loc[row_indexer,col_indexer] = value instead\n",
      "\n",
      "See the caveats in the documentation: https://pandas.pydata.org/pandas-docs/stable/user_guide/indexing.html#returning-a-view-versus-a-copy\n",
      "  class_df[\"Rejected\"] = predictions\n",
      "c:\\Users\\sguid\\Uni\\visual\\project\\vipm_project\\vipm_dataset_cleaner.py:135: SettingWithCopyWarning: \n",
      "A value is trying to be set on a copy of a slice from a DataFrame.\n",
      "Try using .loc[row_indexer,col_indexer] = value instead\n",
      "\n",
      "See the caveats in the documentation: https://pandas.pydata.org/pandas-docs/stable/user_guide/indexing.html#returning-a-view-versus-a-copy\n",
      "  class_df[\"Rejected\"] = predictions\n"
     ]
    },
    {
     "name": "stdout",
     "output_type": "stream",
     "text": [
      "Pulizia completata per la classe 82.\n",
      "Elaborando classe: 83\n",
      "Feature shape per la classe 83: (20, 3)\n",
      "Pulizia completata per la classe 83.\n",
      "Elaborando classe: 84\n",
      "Feature shape per la classe 84: (20, 3)\n",
      "Pulizia completata per la classe 84.\n",
      "Elaborando classe: 85\n",
      "Feature shape per la classe 85: (20, 3)\n"
     ]
    },
    {
     "name": "stderr",
     "output_type": "stream",
     "text": [
      "c:\\Users\\sguid\\Uni\\visual\\project\\vipm_project\\vipm_dataset_cleaner.py:135: SettingWithCopyWarning: \n",
      "A value is trying to be set on a copy of a slice from a DataFrame.\n",
      "Try using .loc[row_indexer,col_indexer] = value instead\n",
      "\n",
      "See the caveats in the documentation: https://pandas.pydata.org/pandas-docs/stable/user_guide/indexing.html#returning-a-view-versus-a-copy\n",
      "  class_df[\"Rejected\"] = predictions\n",
      "c:\\Users\\sguid\\Uni\\visual\\project\\vipm_project\\vipm_dataset_cleaner.py:135: SettingWithCopyWarning: \n",
      "A value is trying to be set on a copy of a slice from a DataFrame.\n",
      "Try using .loc[row_indexer,col_indexer] = value instead\n",
      "\n",
      "See the caveats in the documentation: https://pandas.pydata.org/pandas-docs/stable/user_guide/indexing.html#returning-a-view-versus-a-copy\n",
      "  class_df[\"Rejected\"] = predictions\n"
     ]
    },
    {
     "name": "stdout",
     "output_type": "stream",
     "text": [
      "Pulizia completata per la classe 85.\n",
      "Elaborando classe: 86\n",
      "Feature shape per la classe 86: (20, 3)\n",
      "Pulizia completata per la classe 86.\n",
      "Elaborando classe: 87\n",
      "Feature shape per la classe 87: (20, 3)\n"
     ]
    },
    {
     "name": "stderr",
     "output_type": "stream",
     "text": [
      "c:\\Users\\sguid\\Uni\\visual\\project\\vipm_project\\vipm_dataset_cleaner.py:135: SettingWithCopyWarning: \n",
      "A value is trying to be set on a copy of a slice from a DataFrame.\n",
      "Try using .loc[row_indexer,col_indexer] = value instead\n",
      "\n",
      "See the caveats in the documentation: https://pandas.pydata.org/pandas-docs/stable/user_guide/indexing.html#returning-a-view-versus-a-copy\n",
      "  class_df[\"Rejected\"] = predictions\n",
      "c:\\Users\\sguid\\Uni\\visual\\project\\vipm_project\\vipm_dataset_cleaner.py:135: SettingWithCopyWarning: \n",
      "A value is trying to be set on a copy of a slice from a DataFrame.\n",
      "Try using .loc[row_indexer,col_indexer] = value instead\n",
      "\n",
      "See the caveats in the documentation: https://pandas.pydata.org/pandas-docs/stable/user_guide/indexing.html#returning-a-view-versus-a-copy\n",
      "  class_df[\"Rejected\"] = predictions\n"
     ]
    },
    {
     "name": "stdout",
     "output_type": "stream",
     "text": [
      "Pulizia completata per la classe 87.\n",
      "Elaborando classe: 88\n",
      "Feature shape per la classe 88: (20, 3)\n"
     ]
    },
    {
     "name": "stderr",
     "output_type": "stream",
     "text": [
      "c:\\Users\\sguid\\Uni\\visual\\project\\vipm_project\\vipm_dataset_cleaner.py:135: SettingWithCopyWarning: \n",
      "A value is trying to be set on a copy of a slice from a DataFrame.\n",
      "Try using .loc[row_indexer,col_indexer] = value instead\n",
      "\n",
      "See the caveats in the documentation: https://pandas.pydata.org/pandas-docs/stable/user_guide/indexing.html#returning-a-view-versus-a-copy\n",
      "  class_df[\"Rejected\"] = predictions\n",
      "c:\\Users\\sguid\\Uni\\visual\\project\\vipm_project\\vipm_dataset_cleaner.py:135: SettingWithCopyWarning: \n",
      "A value is trying to be set on a copy of a slice from a DataFrame.\n",
      "Try using .loc[row_indexer,col_indexer] = value instead\n",
      "\n",
      "See the caveats in the documentation: https://pandas.pydata.org/pandas-docs/stable/user_guide/indexing.html#returning-a-view-versus-a-copy\n",
      "  class_df[\"Rejected\"] = predictions\n"
     ]
    },
    {
     "name": "stdout",
     "output_type": "stream",
     "text": [
      "Pulizia completata per la classe 88.\n",
      "Elaborando classe: 89\n",
      "Feature shape per la classe 89: (20, 3)\n",
      "Pulizia completata per la classe 89.\n",
      "Elaborando classe: 90\n",
      "Feature shape per la classe 90: (20, 3)\n",
      "Pulizia completata per la classe 90.\n",
      "Elaborando classe: 91\n",
      "Feature shape per la classe 91: (20, 3)\n"
     ]
    },
    {
     "name": "stderr",
     "output_type": "stream",
     "text": [
      "c:\\Users\\sguid\\Uni\\visual\\project\\vipm_project\\vipm_dataset_cleaner.py:135: SettingWithCopyWarning: \n",
      "A value is trying to be set on a copy of a slice from a DataFrame.\n",
      "Try using .loc[row_indexer,col_indexer] = value instead\n",
      "\n",
      "See the caveats in the documentation: https://pandas.pydata.org/pandas-docs/stable/user_guide/indexing.html#returning-a-view-versus-a-copy\n",
      "  class_df[\"Rejected\"] = predictions\n",
      "c:\\Users\\sguid\\Uni\\visual\\project\\vipm_project\\vipm_dataset_cleaner.py:135: SettingWithCopyWarning: \n",
      "A value is trying to be set on a copy of a slice from a DataFrame.\n",
      "Try using .loc[row_indexer,col_indexer] = value instead\n",
      "\n",
      "See the caveats in the documentation: https://pandas.pydata.org/pandas-docs/stable/user_guide/indexing.html#returning-a-view-versus-a-copy\n",
      "  class_df[\"Rejected\"] = predictions\n"
     ]
    },
    {
     "name": "stdout",
     "output_type": "stream",
     "text": [
      "Pulizia completata per la classe 91.\n",
      "Elaborando classe: 92\n",
      "Feature shape per la classe 92: (20, 3)\n",
      "Pulizia completata per la classe 92.\n",
      "Elaborando classe: 93\n",
      "Feature shape per la classe 93: (20, 3)\n"
     ]
    },
    {
     "name": "stderr",
     "output_type": "stream",
     "text": [
      "c:\\Users\\sguid\\Uni\\visual\\project\\vipm_project\\vipm_dataset_cleaner.py:135: SettingWithCopyWarning: \n",
      "A value is trying to be set on a copy of a slice from a DataFrame.\n",
      "Try using .loc[row_indexer,col_indexer] = value instead\n",
      "\n",
      "See the caveats in the documentation: https://pandas.pydata.org/pandas-docs/stable/user_guide/indexing.html#returning-a-view-versus-a-copy\n",
      "  class_df[\"Rejected\"] = predictions\n",
      "c:\\Users\\sguid\\Uni\\visual\\project\\vipm_project\\vipm_dataset_cleaner.py:135: SettingWithCopyWarning: \n",
      "A value is trying to be set on a copy of a slice from a DataFrame.\n",
      "Try using .loc[row_indexer,col_indexer] = value instead\n",
      "\n",
      "See the caveats in the documentation: https://pandas.pydata.org/pandas-docs/stable/user_guide/indexing.html#returning-a-view-versus-a-copy\n",
      "  class_df[\"Rejected\"] = predictions\n"
     ]
    },
    {
     "name": "stdout",
     "output_type": "stream",
     "text": [
      "Pulizia completata per la classe 93.\n",
      "Elaborando classe: 94\n",
      "Feature shape per la classe 94: (20, 3)\n",
      "Pulizia completata per la classe 94.\n",
      "Elaborando classe: 95\n",
      "Feature shape per la classe 95: (20, 3)\n"
     ]
    },
    {
     "name": "stderr",
     "output_type": "stream",
     "text": [
      "c:\\Users\\sguid\\Uni\\visual\\project\\vipm_project\\vipm_dataset_cleaner.py:135: SettingWithCopyWarning: \n",
      "A value is trying to be set on a copy of a slice from a DataFrame.\n",
      "Try using .loc[row_indexer,col_indexer] = value instead\n",
      "\n",
      "See the caveats in the documentation: https://pandas.pydata.org/pandas-docs/stable/user_guide/indexing.html#returning-a-view-versus-a-copy\n",
      "  class_df[\"Rejected\"] = predictions\n",
      "c:\\Users\\sguid\\Uni\\visual\\project\\vipm_project\\vipm_dataset_cleaner.py:135: SettingWithCopyWarning: \n",
      "A value is trying to be set on a copy of a slice from a DataFrame.\n",
      "Try using .loc[row_indexer,col_indexer] = value instead\n",
      "\n",
      "See the caveats in the documentation: https://pandas.pydata.org/pandas-docs/stable/user_guide/indexing.html#returning-a-view-versus-a-copy\n",
      "  class_df[\"Rejected\"] = predictions\n"
     ]
    },
    {
     "name": "stdout",
     "output_type": "stream",
     "text": [
      "Pulizia completata per la classe 95.\n",
      "Elaborando classe: 96\n",
      "Feature shape per la classe 96: (20, 3)\n",
      "Pulizia completata per la classe 96.\n",
      "Elaborando classe: 97\n",
      "Feature shape per la classe 97: (20, 3)\n"
     ]
    },
    {
     "name": "stderr",
     "output_type": "stream",
     "text": [
      "c:\\Users\\sguid\\Uni\\visual\\project\\vipm_project\\vipm_dataset_cleaner.py:135: SettingWithCopyWarning: \n",
      "A value is trying to be set on a copy of a slice from a DataFrame.\n",
      "Try using .loc[row_indexer,col_indexer] = value instead\n",
      "\n",
      "See the caveats in the documentation: https://pandas.pydata.org/pandas-docs/stable/user_guide/indexing.html#returning-a-view-versus-a-copy\n",
      "  class_df[\"Rejected\"] = predictions\n",
      "c:\\Users\\sguid\\Uni\\visual\\project\\vipm_project\\vipm_dataset_cleaner.py:135: SettingWithCopyWarning: \n",
      "A value is trying to be set on a copy of a slice from a DataFrame.\n",
      "Try using .loc[row_indexer,col_indexer] = value instead\n",
      "\n",
      "See the caveats in the documentation: https://pandas.pydata.org/pandas-docs/stable/user_guide/indexing.html#returning-a-view-versus-a-copy\n",
      "  class_df[\"Rejected\"] = predictions\n"
     ]
    },
    {
     "name": "stdout",
     "output_type": "stream",
     "text": [
      "Pulizia completata per la classe 97.\n",
      "Elaborando classe: 98\n",
      "Feature shape per la classe 98: (20, 3)\n",
      "Pulizia completata per la classe 98.\n",
      "Elaborando classe: 99\n",
      "Feature shape per la classe 99: (20, 3)\n"
     ]
    },
    {
     "name": "stderr",
     "output_type": "stream",
     "text": [
      "c:\\Users\\sguid\\Uni\\visual\\project\\vipm_project\\vipm_dataset_cleaner.py:135: SettingWithCopyWarning: \n",
      "A value is trying to be set on a copy of a slice from a DataFrame.\n",
      "Try using .loc[row_indexer,col_indexer] = value instead\n",
      "\n",
      "See the caveats in the documentation: https://pandas.pydata.org/pandas-docs/stable/user_guide/indexing.html#returning-a-view-versus-a-copy\n",
      "  class_df[\"Rejected\"] = predictions\n",
      "c:\\Users\\sguid\\Uni\\visual\\project\\vipm_project\\vipm_dataset_cleaner.py:135: SettingWithCopyWarning: \n",
      "A value is trying to be set on a copy of a slice from a DataFrame.\n",
      "Try using .loc[row_indexer,col_indexer] = value instead\n",
      "\n",
      "See the caveats in the documentation: https://pandas.pydata.org/pandas-docs/stable/user_guide/indexing.html#returning-a-view-versus-a-copy\n",
      "  class_df[\"Rejected\"] = predictions\n"
     ]
    },
    {
     "name": "stdout",
     "output_type": "stream",
     "text": [
      "Pulizia completata per la classe 99.\n",
      "Elaborando classe: 100\n",
      "Feature shape per la classe 100: (20, 3)\n",
      "Pulizia completata per la classe 100.\n",
      "Elaborando classe: 101\n",
      "Feature shape per la classe 101: (20, 3)\n"
     ]
    },
    {
     "name": "stderr",
     "output_type": "stream",
     "text": [
      "c:\\Users\\sguid\\Uni\\visual\\project\\vipm_project\\vipm_dataset_cleaner.py:135: SettingWithCopyWarning: \n",
      "A value is trying to be set on a copy of a slice from a DataFrame.\n",
      "Try using .loc[row_indexer,col_indexer] = value instead\n",
      "\n",
      "See the caveats in the documentation: https://pandas.pydata.org/pandas-docs/stable/user_guide/indexing.html#returning-a-view-versus-a-copy\n",
      "  class_df[\"Rejected\"] = predictions\n",
      "c:\\Users\\sguid\\Uni\\visual\\project\\vipm_project\\vipm_dataset_cleaner.py:135: SettingWithCopyWarning: \n",
      "A value is trying to be set on a copy of a slice from a DataFrame.\n",
      "Try using .loc[row_indexer,col_indexer] = value instead\n",
      "\n",
      "See the caveats in the documentation: https://pandas.pydata.org/pandas-docs/stable/user_guide/indexing.html#returning-a-view-versus-a-copy\n",
      "  class_df[\"Rejected\"] = predictions\n"
     ]
    },
    {
     "name": "stdout",
     "output_type": "stream",
     "text": [
      "Pulizia completata per la classe 101.\n",
      "Elaborando classe: 102\n",
      "Feature shape per la classe 102: (20, 3)\n",
      "Pulizia completata per la classe 102.\n",
      "Elaborando classe: 103\n",
      "Feature shape per la classe 103: (20, 3)\n"
     ]
    },
    {
     "name": "stderr",
     "output_type": "stream",
     "text": [
      "c:\\Users\\sguid\\Uni\\visual\\project\\vipm_project\\vipm_dataset_cleaner.py:135: SettingWithCopyWarning: \n",
      "A value is trying to be set on a copy of a slice from a DataFrame.\n",
      "Try using .loc[row_indexer,col_indexer] = value instead\n",
      "\n",
      "See the caveats in the documentation: https://pandas.pydata.org/pandas-docs/stable/user_guide/indexing.html#returning-a-view-versus-a-copy\n",
      "  class_df[\"Rejected\"] = predictions\n",
      "c:\\Users\\sguid\\Uni\\visual\\project\\vipm_project\\vipm_dataset_cleaner.py:135: SettingWithCopyWarning: \n",
      "A value is trying to be set on a copy of a slice from a DataFrame.\n",
      "Try using .loc[row_indexer,col_indexer] = value instead\n",
      "\n",
      "See the caveats in the documentation: https://pandas.pydata.org/pandas-docs/stable/user_guide/indexing.html#returning-a-view-versus-a-copy\n",
      "  class_df[\"Rejected\"] = predictions\n"
     ]
    },
    {
     "name": "stdout",
     "output_type": "stream",
     "text": [
      "Pulizia completata per la classe 103.\n",
      "Elaborando classe: 104\n",
      "Feature shape per la classe 104: (20, 3)\n",
      "Pulizia completata per la classe 104.\n",
      "Elaborando classe: 105\n",
      "Feature shape per la classe 105: (20, 3)\n"
     ]
    },
    {
     "name": "stderr",
     "output_type": "stream",
     "text": [
      "c:\\Users\\sguid\\Uni\\visual\\project\\vipm_project\\vipm_dataset_cleaner.py:135: SettingWithCopyWarning: \n",
      "A value is trying to be set on a copy of a slice from a DataFrame.\n",
      "Try using .loc[row_indexer,col_indexer] = value instead\n",
      "\n",
      "See the caveats in the documentation: https://pandas.pydata.org/pandas-docs/stable/user_guide/indexing.html#returning-a-view-versus-a-copy\n",
      "  class_df[\"Rejected\"] = predictions\n",
      "c:\\Users\\sguid\\Uni\\visual\\project\\vipm_project\\vipm_dataset_cleaner.py:135: SettingWithCopyWarning: \n",
      "A value is trying to be set on a copy of a slice from a DataFrame.\n",
      "Try using .loc[row_indexer,col_indexer] = value instead\n",
      "\n",
      "See the caveats in the documentation: https://pandas.pydata.org/pandas-docs/stable/user_guide/indexing.html#returning-a-view-versus-a-copy\n",
      "  class_df[\"Rejected\"] = predictions\n"
     ]
    },
    {
     "name": "stdout",
     "output_type": "stream",
     "text": [
      "Pulizia completata per la classe 105.\n",
      "Elaborando classe: 106\n",
      "Feature shape per la classe 106: (20, 3)\n",
      "Pulizia completata per la classe 106.\n",
      "Elaborando classe: 107\n",
      "Feature shape per la classe 107: (20, 3)\n"
     ]
    },
    {
     "name": "stderr",
     "output_type": "stream",
     "text": [
      "c:\\Users\\sguid\\Uni\\visual\\project\\vipm_project\\vipm_dataset_cleaner.py:135: SettingWithCopyWarning: \n",
      "A value is trying to be set on a copy of a slice from a DataFrame.\n",
      "Try using .loc[row_indexer,col_indexer] = value instead\n",
      "\n",
      "See the caveats in the documentation: https://pandas.pydata.org/pandas-docs/stable/user_guide/indexing.html#returning-a-view-versus-a-copy\n",
      "  class_df[\"Rejected\"] = predictions\n",
      "c:\\Users\\sguid\\Uni\\visual\\project\\vipm_project\\vipm_dataset_cleaner.py:135: SettingWithCopyWarning: \n",
      "A value is trying to be set on a copy of a slice from a DataFrame.\n",
      "Try using .loc[row_indexer,col_indexer] = value instead\n",
      "\n",
      "See the caveats in the documentation: https://pandas.pydata.org/pandas-docs/stable/user_guide/indexing.html#returning-a-view-versus-a-copy\n",
      "  class_df[\"Rejected\"] = predictions\n"
     ]
    },
    {
     "name": "stdout",
     "output_type": "stream",
     "text": [
      "Pulizia completata per la classe 107.\n",
      "Elaborando classe: 108\n",
      "Feature shape per la classe 108: (20, 3)\n",
      "Pulizia completata per la classe 108.\n",
      "Elaborando classe: 109\n"
     ]
    },
    {
     "name": "stderr",
     "output_type": "stream",
     "text": [
      "c:\\Users\\sguid\\Uni\\visual\\project\\vipm_project\\vipm_dataset_cleaner.py:135: SettingWithCopyWarning: \n",
      "A value is trying to be set on a copy of a slice from a DataFrame.\n",
      "Try using .loc[row_indexer,col_indexer] = value instead\n",
      "\n",
      "See the caveats in the documentation: https://pandas.pydata.org/pandas-docs/stable/user_guide/indexing.html#returning-a-view-versus-a-copy\n",
      "  class_df[\"Rejected\"] = predictions\n",
      "c:\\Users\\sguid\\Uni\\visual\\project\\vipm_project\\vipm_dataset_cleaner.py:135: SettingWithCopyWarning: \n",
      "A value is trying to be set on a copy of a slice from a DataFrame.\n",
      "Try using .loc[row_indexer,col_indexer] = value instead\n",
      "\n",
      "See the caveats in the documentation: https://pandas.pydata.org/pandas-docs/stable/user_guide/indexing.html#returning-a-view-versus-a-copy\n",
      "  class_df[\"Rejected\"] = predictions\n"
     ]
    },
    {
     "name": "stdout",
     "output_type": "stream",
     "text": [
      "Feature shape per la classe 109: (20, 3)\n",
      "Pulizia completata per la classe 109.\n",
      "Elaborando classe: 110\n",
      "Feature shape per la classe 110: (20, 3)\n"
     ]
    },
    {
     "name": "stderr",
     "output_type": "stream",
     "text": [
      "c:\\Users\\sguid\\Uni\\visual\\project\\vipm_project\\vipm_dataset_cleaner.py:135: SettingWithCopyWarning: \n",
      "A value is trying to be set on a copy of a slice from a DataFrame.\n",
      "Try using .loc[row_indexer,col_indexer] = value instead\n",
      "\n",
      "See the caveats in the documentation: https://pandas.pydata.org/pandas-docs/stable/user_guide/indexing.html#returning-a-view-versus-a-copy\n",
      "  class_df[\"Rejected\"] = predictions\n",
      "c:\\Users\\sguid\\Uni\\visual\\project\\vipm_project\\vipm_dataset_cleaner.py:135: SettingWithCopyWarning: \n",
      "A value is trying to be set on a copy of a slice from a DataFrame.\n",
      "Try using .loc[row_indexer,col_indexer] = value instead\n",
      "\n",
      "See the caveats in the documentation: https://pandas.pydata.org/pandas-docs/stable/user_guide/indexing.html#returning-a-view-versus-a-copy\n",
      "  class_df[\"Rejected\"] = predictions\n"
     ]
    },
    {
     "name": "stdout",
     "output_type": "stream",
     "text": [
      "Pulizia completata per la classe 110.\n",
      "Elaborando classe: 111\n",
      "Feature shape per la classe 111: (20, 3)\n",
      "Pulizia completata per la classe 111.\n",
      "Elaborando classe: 112\n",
      "Feature shape per la classe 112: (20, 3)\n",
      "Pulizia completata per la classe 112.\n",
      "Elaborando classe: 113\n",
      "Feature shape per la classe 113: (20, 3)\n"
     ]
    },
    {
     "name": "stderr",
     "output_type": "stream",
     "text": [
      "c:\\Users\\sguid\\Uni\\visual\\project\\vipm_project\\vipm_dataset_cleaner.py:135: SettingWithCopyWarning: \n",
      "A value is trying to be set on a copy of a slice from a DataFrame.\n",
      "Try using .loc[row_indexer,col_indexer] = value instead\n",
      "\n",
      "See the caveats in the documentation: https://pandas.pydata.org/pandas-docs/stable/user_guide/indexing.html#returning-a-view-versus-a-copy\n",
      "  class_df[\"Rejected\"] = predictions\n",
      "c:\\Users\\sguid\\Uni\\visual\\project\\vipm_project\\vipm_dataset_cleaner.py:135: SettingWithCopyWarning: \n",
      "A value is trying to be set on a copy of a slice from a DataFrame.\n",
      "Try using .loc[row_indexer,col_indexer] = value instead\n",
      "\n",
      "See the caveats in the documentation: https://pandas.pydata.org/pandas-docs/stable/user_guide/indexing.html#returning-a-view-versus-a-copy\n",
      "  class_df[\"Rejected\"] = predictions\n"
     ]
    },
    {
     "name": "stdout",
     "output_type": "stream",
     "text": [
      "Pulizia completata per la classe 113.\n",
      "Elaborando classe: 114\n",
      "Feature shape per la classe 114: (20, 3)\n",
      "Pulizia completata per la classe 114.\n",
      "Elaborando classe: 115\n",
      "Feature shape per la classe 115: (20, 3)\n"
     ]
    },
    {
     "name": "stderr",
     "output_type": "stream",
     "text": [
      "c:\\Users\\sguid\\Uni\\visual\\project\\vipm_project\\vipm_dataset_cleaner.py:135: SettingWithCopyWarning: \n",
      "A value is trying to be set on a copy of a slice from a DataFrame.\n",
      "Try using .loc[row_indexer,col_indexer] = value instead\n",
      "\n",
      "See the caveats in the documentation: https://pandas.pydata.org/pandas-docs/stable/user_guide/indexing.html#returning-a-view-versus-a-copy\n",
      "  class_df[\"Rejected\"] = predictions\n",
      "c:\\Users\\sguid\\Uni\\visual\\project\\vipm_project\\vipm_dataset_cleaner.py:135: SettingWithCopyWarning: \n",
      "A value is trying to be set on a copy of a slice from a DataFrame.\n",
      "Try using .loc[row_indexer,col_indexer] = value instead\n",
      "\n",
      "See the caveats in the documentation: https://pandas.pydata.org/pandas-docs/stable/user_guide/indexing.html#returning-a-view-versus-a-copy\n",
      "  class_df[\"Rejected\"] = predictions\n"
     ]
    },
    {
     "name": "stdout",
     "output_type": "stream",
     "text": [
      "Pulizia completata per la classe 115.\n",
      "Elaborando classe: 116\n",
      "Feature shape per la classe 116: (20, 3)\n",
      "Pulizia completata per la classe 116.\n",
      "Elaborando classe: 117\n",
      "Feature shape per la classe 117: (20, 3)\n"
     ]
    },
    {
     "name": "stderr",
     "output_type": "stream",
     "text": [
      "c:\\Users\\sguid\\Uni\\visual\\project\\vipm_project\\vipm_dataset_cleaner.py:135: SettingWithCopyWarning: \n",
      "A value is trying to be set on a copy of a slice from a DataFrame.\n",
      "Try using .loc[row_indexer,col_indexer] = value instead\n",
      "\n",
      "See the caveats in the documentation: https://pandas.pydata.org/pandas-docs/stable/user_guide/indexing.html#returning-a-view-versus-a-copy\n",
      "  class_df[\"Rejected\"] = predictions\n",
      "c:\\Users\\sguid\\Uni\\visual\\project\\vipm_project\\vipm_dataset_cleaner.py:135: SettingWithCopyWarning: \n",
      "A value is trying to be set on a copy of a slice from a DataFrame.\n",
      "Try using .loc[row_indexer,col_indexer] = value instead\n",
      "\n",
      "See the caveats in the documentation: https://pandas.pydata.org/pandas-docs/stable/user_guide/indexing.html#returning-a-view-versus-a-copy\n",
      "  class_df[\"Rejected\"] = predictions\n"
     ]
    },
    {
     "name": "stdout",
     "output_type": "stream",
     "text": [
      "Pulizia completata per la classe 117.\n",
      "Elaborando classe: 118\n",
      "Feature shape per la classe 118: (20, 3)\n",
      "Pulizia completata per la classe 118.\n",
      "Elaborando classe: 119\n",
      "Feature shape per la classe 119: (20, 3)\n"
     ]
    },
    {
     "name": "stderr",
     "output_type": "stream",
     "text": [
      "c:\\Users\\sguid\\Uni\\visual\\project\\vipm_project\\vipm_dataset_cleaner.py:135: SettingWithCopyWarning: \n",
      "A value is trying to be set on a copy of a slice from a DataFrame.\n",
      "Try using .loc[row_indexer,col_indexer] = value instead\n",
      "\n",
      "See the caveats in the documentation: https://pandas.pydata.org/pandas-docs/stable/user_guide/indexing.html#returning-a-view-versus-a-copy\n",
      "  class_df[\"Rejected\"] = predictions\n",
      "c:\\Users\\sguid\\Uni\\visual\\project\\vipm_project\\vipm_dataset_cleaner.py:135: SettingWithCopyWarning: \n",
      "A value is trying to be set on a copy of a slice from a DataFrame.\n",
      "Try using .loc[row_indexer,col_indexer] = value instead\n",
      "\n",
      "See the caveats in the documentation: https://pandas.pydata.org/pandas-docs/stable/user_guide/indexing.html#returning-a-view-versus-a-copy\n",
      "  class_df[\"Rejected\"] = predictions\n"
     ]
    },
    {
     "name": "stdout",
     "output_type": "stream",
     "text": [
      "Pulizia completata per la classe 119.\n",
      "Elaborando classe: 120\n",
      "Feature shape per la classe 120: (20, 3)\n",
      "Pulizia completata per la classe 120.\n",
      "Elaborando classe: 121\n",
      "Feature shape per la classe 121: (20, 3)\n"
     ]
    },
    {
     "name": "stderr",
     "output_type": "stream",
     "text": [
      "c:\\Users\\sguid\\Uni\\visual\\project\\vipm_project\\vipm_dataset_cleaner.py:135: SettingWithCopyWarning: \n",
      "A value is trying to be set on a copy of a slice from a DataFrame.\n",
      "Try using .loc[row_indexer,col_indexer] = value instead\n",
      "\n",
      "See the caveats in the documentation: https://pandas.pydata.org/pandas-docs/stable/user_guide/indexing.html#returning-a-view-versus-a-copy\n",
      "  class_df[\"Rejected\"] = predictions\n",
      "c:\\Users\\sguid\\Uni\\visual\\project\\vipm_project\\vipm_dataset_cleaner.py:135: SettingWithCopyWarning: \n",
      "A value is trying to be set on a copy of a slice from a DataFrame.\n",
      "Try using .loc[row_indexer,col_indexer] = value instead\n",
      "\n",
      "See the caveats in the documentation: https://pandas.pydata.org/pandas-docs/stable/user_guide/indexing.html#returning-a-view-versus-a-copy\n",
      "  class_df[\"Rejected\"] = predictions\n"
     ]
    },
    {
     "name": "stdout",
     "output_type": "stream",
     "text": [
      "Pulizia completata per la classe 121.\n",
      "Elaborando classe: 122\n",
      "Feature shape per la classe 122: (20, 3)\n",
      "Pulizia completata per la classe 122.\n",
      "Elaborando classe: 123\n",
      "Feature shape per la classe 123: (20, 3)\n"
     ]
    },
    {
     "name": "stderr",
     "output_type": "stream",
     "text": [
      "c:\\Users\\sguid\\Uni\\visual\\project\\vipm_project\\vipm_dataset_cleaner.py:135: SettingWithCopyWarning: \n",
      "A value is trying to be set on a copy of a slice from a DataFrame.\n",
      "Try using .loc[row_indexer,col_indexer] = value instead\n",
      "\n",
      "See the caveats in the documentation: https://pandas.pydata.org/pandas-docs/stable/user_guide/indexing.html#returning-a-view-versus-a-copy\n",
      "  class_df[\"Rejected\"] = predictions\n",
      "c:\\Users\\sguid\\Uni\\visual\\project\\vipm_project\\vipm_dataset_cleaner.py:135: SettingWithCopyWarning: \n",
      "A value is trying to be set on a copy of a slice from a DataFrame.\n",
      "Try using .loc[row_indexer,col_indexer] = value instead\n",
      "\n",
      "See the caveats in the documentation: https://pandas.pydata.org/pandas-docs/stable/user_guide/indexing.html#returning-a-view-versus-a-copy\n",
      "  class_df[\"Rejected\"] = predictions\n"
     ]
    },
    {
     "name": "stdout",
     "output_type": "stream",
     "text": [
      "Pulizia completata per la classe 123.\n",
      "Elaborando classe: 124\n",
      "Feature shape per la classe 124: (20, 3)\n",
      "Pulizia completata per la classe 124.\n",
      "Elaborando classe: 125\n",
      "Feature shape per la classe 125: (20, 3)\n"
     ]
    },
    {
     "name": "stderr",
     "output_type": "stream",
     "text": [
      "c:\\Users\\sguid\\Uni\\visual\\project\\vipm_project\\vipm_dataset_cleaner.py:135: SettingWithCopyWarning: \n",
      "A value is trying to be set on a copy of a slice from a DataFrame.\n",
      "Try using .loc[row_indexer,col_indexer] = value instead\n",
      "\n",
      "See the caveats in the documentation: https://pandas.pydata.org/pandas-docs/stable/user_guide/indexing.html#returning-a-view-versus-a-copy\n",
      "  class_df[\"Rejected\"] = predictions\n",
      "c:\\Users\\sguid\\Uni\\visual\\project\\vipm_project\\vipm_dataset_cleaner.py:135: SettingWithCopyWarning: \n",
      "A value is trying to be set on a copy of a slice from a DataFrame.\n",
      "Try using .loc[row_indexer,col_indexer] = value instead\n",
      "\n",
      "See the caveats in the documentation: https://pandas.pydata.org/pandas-docs/stable/user_guide/indexing.html#returning-a-view-versus-a-copy\n",
      "  class_df[\"Rejected\"] = predictions\n"
     ]
    },
    {
     "name": "stdout",
     "output_type": "stream",
     "text": [
      "Pulizia completata per la classe 125.\n",
      "Elaborando classe: 126\n",
      "Feature shape per la classe 126: (20, 3)\n",
      "Pulizia completata per la classe 126.\n",
      "Elaborando classe: 127\n",
      "Feature shape per la classe 127: (20, 3)\n"
     ]
    },
    {
     "name": "stderr",
     "output_type": "stream",
     "text": [
      "c:\\Users\\sguid\\Uni\\visual\\project\\vipm_project\\vipm_dataset_cleaner.py:135: SettingWithCopyWarning: \n",
      "A value is trying to be set on a copy of a slice from a DataFrame.\n",
      "Try using .loc[row_indexer,col_indexer] = value instead\n",
      "\n",
      "See the caveats in the documentation: https://pandas.pydata.org/pandas-docs/stable/user_guide/indexing.html#returning-a-view-versus-a-copy\n",
      "  class_df[\"Rejected\"] = predictions\n",
      "c:\\Users\\sguid\\Uni\\visual\\project\\vipm_project\\vipm_dataset_cleaner.py:135: SettingWithCopyWarning: \n",
      "A value is trying to be set on a copy of a slice from a DataFrame.\n",
      "Try using .loc[row_indexer,col_indexer] = value instead\n",
      "\n",
      "See the caveats in the documentation: https://pandas.pydata.org/pandas-docs/stable/user_guide/indexing.html#returning-a-view-versus-a-copy\n",
      "  class_df[\"Rejected\"] = predictions\n"
     ]
    },
    {
     "name": "stdout",
     "output_type": "stream",
     "text": [
      "Pulizia completata per la classe 127.\n",
      "Elaborando classe: 128\n",
      "Feature shape per la classe 128: (20, 3)\n",
      "Pulizia completata per la classe 128.\n",
      "Elaborando classe: 129\n",
      "Feature shape per la classe 129: (20, 3)\n"
     ]
    },
    {
     "name": "stderr",
     "output_type": "stream",
     "text": [
      "c:\\Users\\sguid\\Uni\\visual\\project\\vipm_project\\vipm_dataset_cleaner.py:135: SettingWithCopyWarning: \n",
      "A value is trying to be set on a copy of a slice from a DataFrame.\n",
      "Try using .loc[row_indexer,col_indexer] = value instead\n",
      "\n",
      "See the caveats in the documentation: https://pandas.pydata.org/pandas-docs/stable/user_guide/indexing.html#returning-a-view-versus-a-copy\n",
      "  class_df[\"Rejected\"] = predictions\n",
      "c:\\Users\\sguid\\Uni\\visual\\project\\vipm_project\\vipm_dataset_cleaner.py:135: SettingWithCopyWarning: \n",
      "A value is trying to be set on a copy of a slice from a DataFrame.\n",
      "Try using .loc[row_indexer,col_indexer] = value instead\n",
      "\n",
      "See the caveats in the documentation: https://pandas.pydata.org/pandas-docs/stable/user_guide/indexing.html#returning-a-view-versus-a-copy\n",
      "  class_df[\"Rejected\"] = predictions\n"
     ]
    },
    {
     "name": "stdout",
     "output_type": "stream",
     "text": [
      "Pulizia completata per la classe 129.\n",
      "Elaborando classe: 130\n",
      "Feature shape per la classe 130: (20, 3)\n",
      "Pulizia completata per la classe 130.\n",
      "Elaborando classe: 131\n",
      "Feature shape per la classe 131: (20, 3)\n"
     ]
    },
    {
     "name": "stderr",
     "output_type": "stream",
     "text": [
      "c:\\Users\\sguid\\Uni\\visual\\project\\vipm_project\\vipm_dataset_cleaner.py:135: SettingWithCopyWarning: \n",
      "A value is trying to be set on a copy of a slice from a DataFrame.\n",
      "Try using .loc[row_indexer,col_indexer] = value instead\n",
      "\n",
      "See the caveats in the documentation: https://pandas.pydata.org/pandas-docs/stable/user_guide/indexing.html#returning-a-view-versus-a-copy\n",
      "  class_df[\"Rejected\"] = predictions\n",
      "c:\\Users\\sguid\\Uni\\visual\\project\\vipm_project\\vipm_dataset_cleaner.py:135: SettingWithCopyWarning: \n",
      "A value is trying to be set on a copy of a slice from a DataFrame.\n",
      "Try using .loc[row_indexer,col_indexer] = value instead\n",
      "\n",
      "See the caveats in the documentation: https://pandas.pydata.org/pandas-docs/stable/user_guide/indexing.html#returning-a-view-versus-a-copy\n",
      "  class_df[\"Rejected\"] = predictions\n"
     ]
    },
    {
     "name": "stdout",
     "output_type": "stream",
     "text": [
      "Pulizia completata per la classe 131.\n",
      "Elaborando classe: 132\n",
      "Feature shape per la classe 132: (20, 3)\n",
      "Pulizia completata per la classe 132.\n",
      "Elaborando classe: 133\n",
      "Feature shape per la classe 133: (20, 3)\n"
     ]
    },
    {
     "name": "stderr",
     "output_type": "stream",
     "text": [
      "c:\\Users\\sguid\\Uni\\visual\\project\\vipm_project\\vipm_dataset_cleaner.py:135: SettingWithCopyWarning: \n",
      "A value is trying to be set on a copy of a slice from a DataFrame.\n",
      "Try using .loc[row_indexer,col_indexer] = value instead\n",
      "\n",
      "See the caveats in the documentation: https://pandas.pydata.org/pandas-docs/stable/user_guide/indexing.html#returning-a-view-versus-a-copy\n",
      "  class_df[\"Rejected\"] = predictions\n",
      "c:\\Users\\sguid\\Uni\\visual\\project\\vipm_project\\vipm_dataset_cleaner.py:135: SettingWithCopyWarning: \n",
      "A value is trying to be set on a copy of a slice from a DataFrame.\n",
      "Try using .loc[row_indexer,col_indexer] = value instead\n",
      "\n",
      "See the caveats in the documentation: https://pandas.pydata.org/pandas-docs/stable/user_guide/indexing.html#returning-a-view-versus-a-copy\n",
      "  class_df[\"Rejected\"] = predictions\n"
     ]
    },
    {
     "name": "stdout",
     "output_type": "stream",
     "text": [
      "Pulizia completata per la classe 133.\n",
      "Elaborando classe: 134\n",
      "Feature shape per la classe 134: (20, 3)\n",
      "Pulizia completata per la classe 134.\n",
      "Elaborando classe: 135\n",
      "Feature shape per la classe 135: (20, 3)\n"
     ]
    },
    {
     "name": "stderr",
     "output_type": "stream",
     "text": [
      "c:\\Users\\sguid\\Uni\\visual\\project\\vipm_project\\vipm_dataset_cleaner.py:135: SettingWithCopyWarning: \n",
      "A value is trying to be set on a copy of a slice from a DataFrame.\n",
      "Try using .loc[row_indexer,col_indexer] = value instead\n",
      "\n",
      "See the caveats in the documentation: https://pandas.pydata.org/pandas-docs/stable/user_guide/indexing.html#returning-a-view-versus-a-copy\n",
      "  class_df[\"Rejected\"] = predictions\n",
      "c:\\Users\\sguid\\Uni\\visual\\project\\vipm_project\\vipm_dataset_cleaner.py:135: SettingWithCopyWarning: \n",
      "A value is trying to be set on a copy of a slice from a DataFrame.\n",
      "Try using .loc[row_indexer,col_indexer] = value instead\n",
      "\n",
      "See the caveats in the documentation: https://pandas.pydata.org/pandas-docs/stable/user_guide/indexing.html#returning-a-view-versus-a-copy\n",
      "  class_df[\"Rejected\"] = predictions\n"
     ]
    },
    {
     "name": "stdout",
     "output_type": "stream",
     "text": [
      "Pulizia completata per la classe 135.\n",
      "Elaborando classe: 136\n",
      "Feature shape per la classe 136: (20, 3)\n",
      "Pulizia completata per la classe 136.\n",
      "Elaborando classe: 137\n",
      "Feature shape per la classe 137: (20, 3)\n"
     ]
    },
    {
     "name": "stderr",
     "output_type": "stream",
     "text": [
      "c:\\Users\\sguid\\Uni\\visual\\project\\vipm_project\\vipm_dataset_cleaner.py:135: SettingWithCopyWarning: \n",
      "A value is trying to be set on a copy of a slice from a DataFrame.\n",
      "Try using .loc[row_indexer,col_indexer] = value instead\n",
      "\n",
      "See the caveats in the documentation: https://pandas.pydata.org/pandas-docs/stable/user_guide/indexing.html#returning-a-view-versus-a-copy\n",
      "  class_df[\"Rejected\"] = predictions\n",
      "c:\\Users\\sguid\\Uni\\visual\\project\\vipm_project\\vipm_dataset_cleaner.py:135: SettingWithCopyWarning: \n",
      "A value is trying to be set on a copy of a slice from a DataFrame.\n",
      "Try using .loc[row_indexer,col_indexer] = value instead\n",
      "\n",
      "See the caveats in the documentation: https://pandas.pydata.org/pandas-docs/stable/user_guide/indexing.html#returning-a-view-versus-a-copy\n",
      "  class_df[\"Rejected\"] = predictions\n"
     ]
    },
    {
     "name": "stdout",
     "output_type": "stream",
     "text": [
      "Pulizia completata per la classe 137.\n",
      "Elaborando classe: 138\n",
      "Feature shape per la classe 138: (20, 3)\n",
      "Pulizia completata per la classe 138.\n",
      "Elaborando classe: 139\n",
      "Feature shape per la classe 139: (20, 3)\n"
     ]
    },
    {
     "name": "stderr",
     "output_type": "stream",
     "text": [
      "c:\\Users\\sguid\\Uni\\visual\\project\\vipm_project\\vipm_dataset_cleaner.py:135: SettingWithCopyWarning: \n",
      "A value is trying to be set on a copy of a slice from a DataFrame.\n",
      "Try using .loc[row_indexer,col_indexer] = value instead\n",
      "\n",
      "See the caveats in the documentation: https://pandas.pydata.org/pandas-docs/stable/user_guide/indexing.html#returning-a-view-versus-a-copy\n",
      "  class_df[\"Rejected\"] = predictions\n",
      "c:\\Users\\sguid\\Uni\\visual\\project\\vipm_project\\vipm_dataset_cleaner.py:135: SettingWithCopyWarning: \n",
      "A value is trying to be set on a copy of a slice from a DataFrame.\n",
      "Try using .loc[row_indexer,col_indexer] = value instead\n",
      "\n",
      "See the caveats in the documentation: https://pandas.pydata.org/pandas-docs/stable/user_guide/indexing.html#returning-a-view-versus-a-copy\n",
      "  class_df[\"Rejected\"] = predictions\n"
     ]
    },
    {
     "name": "stdout",
     "output_type": "stream",
     "text": [
      "Pulizia completata per la classe 139.\n",
      "Elaborando classe: 140\n",
      "Feature shape per la classe 140: (20, 3)\n",
      "Pulizia completata per la classe 140.\n",
      "Elaborando classe: 141\n",
      "Feature shape per la classe 141: (20, 3)\n"
     ]
    },
    {
     "name": "stderr",
     "output_type": "stream",
     "text": [
      "c:\\Users\\sguid\\Uni\\visual\\project\\vipm_project\\vipm_dataset_cleaner.py:135: SettingWithCopyWarning: \n",
      "A value is trying to be set on a copy of a slice from a DataFrame.\n",
      "Try using .loc[row_indexer,col_indexer] = value instead\n",
      "\n",
      "See the caveats in the documentation: https://pandas.pydata.org/pandas-docs/stable/user_guide/indexing.html#returning-a-view-versus-a-copy\n",
      "  class_df[\"Rejected\"] = predictions\n",
      "c:\\Users\\sguid\\Uni\\visual\\project\\vipm_project\\vipm_dataset_cleaner.py:135: SettingWithCopyWarning: \n",
      "A value is trying to be set on a copy of a slice from a DataFrame.\n",
      "Try using .loc[row_indexer,col_indexer] = value instead\n",
      "\n",
      "See the caveats in the documentation: https://pandas.pydata.org/pandas-docs/stable/user_guide/indexing.html#returning-a-view-versus-a-copy\n",
      "  class_df[\"Rejected\"] = predictions\n"
     ]
    },
    {
     "name": "stdout",
     "output_type": "stream",
     "text": [
      "Pulizia completata per la classe 141.\n",
      "Elaborando classe: 142\n",
      "Feature shape per la classe 142: (20, 3)\n",
      "Pulizia completata per la classe 142.\n",
      "Elaborando classe: 143\n"
     ]
    },
    {
     "name": "stderr",
     "output_type": "stream",
     "text": [
      "c:\\Users\\sguid\\Uni\\visual\\project\\vipm_project\\vipm_dataset_cleaner.py:135: SettingWithCopyWarning: \n",
      "A value is trying to be set on a copy of a slice from a DataFrame.\n",
      "Try using .loc[row_indexer,col_indexer] = value instead\n",
      "\n",
      "See the caveats in the documentation: https://pandas.pydata.org/pandas-docs/stable/user_guide/indexing.html#returning-a-view-versus-a-copy\n",
      "  class_df[\"Rejected\"] = predictions\n",
      "c:\\Users\\sguid\\Uni\\visual\\project\\vipm_project\\vipm_dataset_cleaner.py:135: SettingWithCopyWarning: \n",
      "A value is trying to be set on a copy of a slice from a DataFrame.\n",
      "Try using .loc[row_indexer,col_indexer] = value instead\n",
      "\n",
      "See the caveats in the documentation: https://pandas.pydata.org/pandas-docs/stable/user_guide/indexing.html#returning-a-view-versus-a-copy\n",
      "  class_df[\"Rejected\"] = predictions\n"
     ]
    },
    {
     "name": "stdout",
     "output_type": "stream",
     "text": [
      "Feature shape per la classe 143: (20, 3)\n",
      "Pulizia completata per la classe 143.\n",
      "Elaborando classe: 144\n",
      "Feature shape per la classe 144: (20, 3)\n"
     ]
    },
    {
     "name": "stderr",
     "output_type": "stream",
     "text": [
      "c:\\Users\\sguid\\Uni\\visual\\project\\vipm_project\\vipm_dataset_cleaner.py:135: SettingWithCopyWarning: \n",
      "A value is trying to be set on a copy of a slice from a DataFrame.\n",
      "Try using .loc[row_indexer,col_indexer] = value instead\n",
      "\n",
      "See the caveats in the documentation: https://pandas.pydata.org/pandas-docs/stable/user_guide/indexing.html#returning-a-view-versus-a-copy\n",
      "  class_df[\"Rejected\"] = predictions\n",
      "c:\\Users\\sguid\\Uni\\visual\\project\\vipm_project\\vipm_dataset_cleaner.py:135: SettingWithCopyWarning: \n",
      "A value is trying to be set on a copy of a slice from a DataFrame.\n",
      "Try using .loc[row_indexer,col_indexer] = value instead\n",
      "\n",
      "See the caveats in the documentation: https://pandas.pydata.org/pandas-docs/stable/user_guide/indexing.html#returning-a-view-versus-a-copy\n",
      "  class_df[\"Rejected\"] = predictions\n"
     ]
    },
    {
     "name": "stdout",
     "output_type": "stream",
     "text": [
      "Pulizia completata per la classe 144.\n",
      "Elaborando classe: 145\n",
      "Feature shape per la classe 145: (20, 3)\n",
      "Pulizia completata per la classe 145.\n",
      "Elaborando classe: 146\n",
      "Feature shape per la classe 146: (20, 3)\n",
      "Pulizia completata per la classe 146.\n",
      "Elaborando classe: 147\n",
      "Feature shape per la classe 147: (20, 3)\n"
     ]
    },
    {
     "name": "stderr",
     "output_type": "stream",
     "text": [
      "c:\\Users\\sguid\\Uni\\visual\\project\\vipm_project\\vipm_dataset_cleaner.py:135: SettingWithCopyWarning: \n",
      "A value is trying to be set on a copy of a slice from a DataFrame.\n",
      "Try using .loc[row_indexer,col_indexer] = value instead\n",
      "\n",
      "See the caveats in the documentation: https://pandas.pydata.org/pandas-docs/stable/user_guide/indexing.html#returning-a-view-versus-a-copy\n",
      "  class_df[\"Rejected\"] = predictions\n",
      "c:\\Users\\sguid\\Uni\\visual\\project\\vipm_project\\vipm_dataset_cleaner.py:135: SettingWithCopyWarning: \n",
      "A value is trying to be set on a copy of a slice from a DataFrame.\n",
      "Try using .loc[row_indexer,col_indexer] = value instead\n",
      "\n",
      "See the caveats in the documentation: https://pandas.pydata.org/pandas-docs/stable/user_guide/indexing.html#returning-a-view-versus-a-copy\n",
      "  class_df[\"Rejected\"] = predictions\n"
     ]
    },
    {
     "name": "stdout",
     "output_type": "stream",
     "text": [
      "Pulizia completata per la classe 147.\n",
      "Elaborando classe: 148\n",
      "Feature shape per la classe 148: (20, 3)\n",
      "Pulizia completata per la classe 148.\n",
      "Elaborando classe: 149\n",
      "Feature shape per la classe 149: (20, 3)\n"
     ]
    },
    {
     "name": "stderr",
     "output_type": "stream",
     "text": [
      "c:\\Users\\sguid\\Uni\\visual\\project\\vipm_project\\vipm_dataset_cleaner.py:135: SettingWithCopyWarning: \n",
      "A value is trying to be set on a copy of a slice from a DataFrame.\n",
      "Try using .loc[row_indexer,col_indexer] = value instead\n",
      "\n",
      "See the caveats in the documentation: https://pandas.pydata.org/pandas-docs/stable/user_guide/indexing.html#returning-a-view-versus-a-copy\n",
      "  class_df[\"Rejected\"] = predictions\n",
      "c:\\Users\\sguid\\Uni\\visual\\project\\vipm_project\\vipm_dataset_cleaner.py:135: SettingWithCopyWarning: \n",
      "A value is trying to be set on a copy of a slice from a DataFrame.\n",
      "Try using .loc[row_indexer,col_indexer] = value instead\n",
      "\n",
      "See the caveats in the documentation: https://pandas.pydata.org/pandas-docs/stable/user_guide/indexing.html#returning-a-view-versus-a-copy\n",
      "  class_df[\"Rejected\"] = predictions\n"
     ]
    },
    {
     "name": "stdout",
     "output_type": "stream",
     "text": [
      "Pulizia completata per la classe 149.\n",
      "Elaborando classe: 150\n",
      "Feature shape per la classe 150: (20, 3)\n",
      "Pulizia completata per la classe 150.\n",
      "Elaborando classe: 151\n",
      "Feature shape per la classe 151: (20, 3)\n"
     ]
    },
    {
     "name": "stderr",
     "output_type": "stream",
     "text": [
      "c:\\Users\\sguid\\Uni\\visual\\project\\vipm_project\\vipm_dataset_cleaner.py:135: SettingWithCopyWarning: \n",
      "A value is trying to be set on a copy of a slice from a DataFrame.\n",
      "Try using .loc[row_indexer,col_indexer] = value instead\n",
      "\n",
      "See the caveats in the documentation: https://pandas.pydata.org/pandas-docs/stable/user_guide/indexing.html#returning-a-view-versus-a-copy\n",
      "  class_df[\"Rejected\"] = predictions\n",
      "c:\\Users\\sguid\\Uni\\visual\\project\\vipm_project\\vipm_dataset_cleaner.py:135: SettingWithCopyWarning: \n",
      "A value is trying to be set on a copy of a slice from a DataFrame.\n",
      "Try using .loc[row_indexer,col_indexer] = value instead\n",
      "\n",
      "See the caveats in the documentation: https://pandas.pydata.org/pandas-docs/stable/user_guide/indexing.html#returning-a-view-versus-a-copy\n",
      "  class_df[\"Rejected\"] = predictions\n"
     ]
    },
    {
     "name": "stdout",
     "output_type": "stream",
     "text": [
      "Pulizia completata per la classe 151.\n",
      "Elaborando classe: 152\n",
      "Feature shape per la classe 152: (20, 3)\n",
      "Pulizia completata per la classe 152.\n",
      "Elaborando classe: 153\n",
      "Feature shape per la classe 153: (20, 3)\n"
     ]
    },
    {
     "name": "stderr",
     "output_type": "stream",
     "text": [
      "c:\\Users\\sguid\\Uni\\visual\\project\\vipm_project\\vipm_dataset_cleaner.py:135: SettingWithCopyWarning: \n",
      "A value is trying to be set on a copy of a slice from a DataFrame.\n",
      "Try using .loc[row_indexer,col_indexer] = value instead\n",
      "\n",
      "See the caveats in the documentation: https://pandas.pydata.org/pandas-docs/stable/user_guide/indexing.html#returning-a-view-versus-a-copy\n",
      "  class_df[\"Rejected\"] = predictions\n",
      "c:\\Users\\sguid\\Uni\\visual\\project\\vipm_project\\vipm_dataset_cleaner.py:135: SettingWithCopyWarning: \n",
      "A value is trying to be set on a copy of a slice from a DataFrame.\n",
      "Try using .loc[row_indexer,col_indexer] = value instead\n",
      "\n",
      "See the caveats in the documentation: https://pandas.pydata.org/pandas-docs/stable/user_guide/indexing.html#returning-a-view-versus-a-copy\n",
      "  class_df[\"Rejected\"] = predictions\n"
     ]
    },
    {
     "name": "stdout",
     "output_type": "stream",
     "text": [
      "Pulizia completata per la classe 153.\n",
      "Elaborando classe: 154\n",
      "Feature shape per la classe 154: (20, 3)\n"
     ]
    },
    {
     "name": "stderr",
     "output_type": "stream",
     "text": [
      "c:\\Users\\sguid\\Uni\\visual\\project\\vipm_project\\vipm_dataset_cleaner.py:135: SettingWithCopyWarning: \n",
      "A value is trying to be set on a copy of a slice from a DataFrame.\n",
      "Try using .loc[row_indexer,col_indexer] = value instead\n",
      "\n",
      "See the caveats in the documentation: https://pandas.pydata.org/pandas-docs/stable/user_guide/indexing.html#returning-a-view-versus-a-copy\n",
      "  class_df[\"Rejected\"] = predictions\n",
      "c:\\Users\\sguid\\Uni\\visual\\project\\vipm_project\\vipm_dataset_cleaner.py:135: SettingWithCopyWarning: \n",
      "A value is trying to be set on a copy of a slice from a DataFrame.\n",
      "Try using .loc[row_indexer,col_indexer] = value instead\n",
      "\n",
      "See the caveats in the documentation: https://pandas.pydata.org/pandas-docs/stable/user_guide/indexing.html#returning-a-view-versus-a-copy\n",
      "  class_df[\"Rejected\"] = predictions\n"
     ]
    },
    {
     "name": "stdout",
     "output_type": "stream",
     "text": [
      "Pulizia completata per la classe 154.\n",
      "Elaborando classe: 155\n",
      "Feature shape per la classe 155: (20, 3)\n",
      "Pulizia completata per la classe 155.\n",
      "Elaborando classe: 156\n",
      "Feature shape per la classe 156: (20, 3)\n",
      "Pulizia completata per la classe 156.\n",
      "Elaborando classe: 157\n",
      "Feature shape per la classe 157: (20, 3)\n"
     ]
    },
    {
     "name": "stderr",
     "output_type": "stream",
     "text": [
      "c:\\Users\\sguid\\Uni\\visual\\project\\vipm_project\\vipm_dataset_cleaner.py:135: SettingWithCopyWarning: \n",
      "A value is trying to be set on a copy of a slice from a DataFrame.\n",
      "Try using .loc[row_indexer,col_indexer] = value instead\n",
      "\n",
      "See the caveats in the documentation: https://pandas.pydata.org/pandas-docs/stable/user_guide/indexing.html#returning-a-view-versus-a-copy\n",
      "  class_df[\"Rejected\"] = predictions\n",
      "c:\\Users\\sguid\\Uni\\visual\\project\\vipm_project\\vipm_dataset_cleaner.py:135: SettingWithCopyWarning: \n",
      "A value is trying to be set on a copy of a slice from a DataFrame.\n",
      "Try using .loc[row_indexer,col_indexer] = value instead\n",
      "\n",
      "See the caveats in the documentation: https://pandas.pydata.org/pandas-docs/stable/user_guide/indexing.html#returning-a-view-versus-a-copy\n",
      "  class_df[\"Rejected\"] = predictions\n"
     ]
    },
    {
     "name": "stdout",
     "output_type": "stream",
     "text": [
      "Pulizia completata per la classe 157.\n",
      "Elaborando classe: 158\n",
      "Feature shape per la classe 158: (20, 3)\n",
      "Pulizia completata per la classe 158.\n",
      "Elaborando classe: 159\n"
     ]
    },
    {
     "name": "stderr",
     "output_type": "stream",
     "text": [
      "c:\\Users\\sguid\\Uni\\visual\\project\\vipm_project\\vipm_dataset_cleaner.py:135: SettingWithCopyWarning: \n",
      "A value is trying to be set on a copy of a slice from a DataFrame.\n",
      "Try using .loc[row_indexer,col_indexer] = value instead\n",
      "\n",
      "See the caveats in the documentation: https://pandas.pydata.org/pandas-docs/stable/user_guide/indexing.html#returning-a-view-versus-a-copy\n",
      "  class_df[\"Rejected\"] = predictions\n",
      "c:\\Users\\sguid\\Uni\\visual\\project\\vipm_project\\vipm_dataset_cleaner.py:135: SettingWithCopyWarning: \n",
      "A value is trying to be set on a copy of a slice from a DataFrame.\n",
      "Try using .loc[row_indexer,col_indexer] = value instead\n",
      "\n",
      "See the caveats in the documentation: https://pandas.pydata.org/pandas-docs/stable/user_guide/indexing.html#returning-a-view-versus-a-copy\n",
      "  class_df[\"Rejected\"] = predictions\n"
     ]
    },
    {
     "name": "stdout",
     "output_type": "stream",
     "text": [
      "Feature shape per la classe 159: (20, 3)\n",
      "Pulizia completata per la classe 159.\n",
      "Elaborando classe: 160\n",
      "Feature shape per la classe 160: (20, 3)\n"
     ]
    },
    {
     "name": "stderr",
     "output_type": "stream",
     "text": [
      "c:\\Users\\sguid\\Uni\\visual\\project\\vipm_project\\vipm_dataset_cleaner.py:135: SettingWithCopyWarning: \n",
      "A value is trying to be set on a copy of a slice from a DataFrame.\n",
      "Try using .loc[row_indexer,col_indexer] = value instead\n",
      "\n",
      "See the caveats in the documentation: https://pandas.pydata.org/pandas-docs/stable/user_guide/indexing.html#returning-a-view-versus-a-copy\n",
      "  class_df[\"Rejected\"] = predictions\n",
      "c:\\Users\\sguid\\Uni\\visual\\project\\vipm_project\\vipm_dataset_cleaner.py:135: SettingWithCopyWarning: \n",
      "A value is trying to be set on a copy of a slice from a DataFrame.\n",
      "Try using .loc[row_indexer,col_indexer] = value instead\n",
      "\n",
      "See the caveats in the documentation: https://pandas.pydata.org/pandas-docs/stable/user_guide/indexing.html#returning-a-view-versus-a-copy\n",
      "  class_df[\"Rejected\"] = predictions\n"
     ]
    },
    {
     "name": "stdout",
     "output_type": "stream",
     "text": [
      "Pulizia completata per la classe 160.\n",
      "Elaborando classe: 161\n",
      "Feature shape per la classe 161: (20, 3)\n",
      "Pulizia completata per la classe 161.\n",
      "Elaborando classe: 162\n",
      "Feature shape per la classe 162: (20, 3)\n"
     ]
    },
    {
     "name": "stderr",
     "output_type": "stream",
     "text": [
      "c:\\Users\\sguid\\Uni\\visual\\project\\vipm_project\\vipm_dataset_cleaner.py:135: SettingWithCopyWarning: \n",
      "A value is trying to be set on a copy of a slice from a DataFrame.\n",
      "Try using .loc[row_indexer,col_indexer] = value instead\n",
      "\n",
      "See the caveats in the documentation: https://pandas.pydata.org/pandas-docs/stable/user_guide/indexing.html#returning-a-view-versus-a-copy\n",
      "  class_df[\"Rejected\"] = predictions\n",
      "c:\\Users\\sguid\\Uni\\visual\\project\\vipm_project\\vipm_dataset_cleaner.py:135: SettingWithCopyWarning: \n",
      "A value is trying to be set on a copy of a slice from a DataFrame.\n",
      "Try using .loc[row_indexer,col_indexer] = value instead\n",
      "\n",
      "See the caveats in the documentation: https://pandas.pydata.org/pandas-docs/stable/user_guide/indexing.html#returning-a-view-versus-a-copy\n",
      "  class_df[\"Rejected\"] = predictions\n"
     ]
    },
    {
     "name": "stdout",
     "output_type": "stream",
     "text": [
      "Pulizia completata per la classe 162.\n",
      "Elaborando classe: 163\n",
      "Feature shape per la classe 163: (20, 3)\n",
      "Pulizia completata per la classe 163.\n",
      "Elaborando classe: 164\n",
      "Feature shape per la classe 164: (20, 3)\n",
      "Pulizia completata per la classe 164.\n",
      "Elaborando classe: 165\n",
      "Feature shape per la classe 165: (20, 3)\n"
     ]
    },
    {
     "name": "stderr",
     "output_type": "stream",
     "text": [
      "c:\\Users\\sguid\\Uni\\visual\\project\\vipm_project\\vipm_dataset_cleaner.py:135: SettingWithCopyWarning: \n",
      "A value is trying to be set on a copy of a slice from a DataFrame.\n",
      "Try using .loc[row_indexer,col_indexer] = value instead\n",
      "\n",
      "See the caveats in the documentation: https://pandas.pydata.org/pandas-docs/stable/user_guide/indexing.html#returning-a-view-versus-a-copy\n",
      "  class_df[\"Rejected\"] = predictions\n",
      "c:\\Users\\sguid\\Uni\\visual\\project\\vipm_project\\vipm_dataset_cleaner.py:135: SettingWithCopyWarning: \n",
      "A value is trying to be set on a copy of a slice from a DataFrame.\n",
      "Try using .loc[row_indexer,col_indexer] = value instead\n",
      "\n",
      "See the caveats in the documentation: https://pandas.pydata.org/pandas-docs/stable/user_guide/indexing.html#returning-a-view-versus-a-copy\n",
      "  class_df[\"Rejected\"] = predictions\n"
     ]
    },
    {
     "name": "stdout",
     "output_type": "stream",
     "text": [
      "Pulizia completata per la classe 165.\n",
      "Elaborando classe: 166\n",
      "Feature shape per la classe 166: (20, 3)\n",
      "Pulizia completata per la classe 166.\n",
      "Elaborando classe: 167\n",
      "Feature shape per la classe 167: (20, 3)\n"
     ]
    },
    {
     "name": "stderr",
     "output_type": "stream",
     "text": [
      "c:\\Users\\sguid\\Uni\\visual\\project\\vipm_project\\vipm_dataset_cleaner.py:135: SettingWithCopyWarning: \n",
      "A value is trying to be set on a copy of a slice from a DataFrame.\n",
      "Try using .loc[row_indexer,col_indexer] = value instead\n",
      "\n",
      "See the caveats in the documentation: https://pandas.pydata.org/pandas-docs/stable/user_guide/indexing.html#returning-a-view-versus-a-copy\n",
      "  class_df[\"Rejected\"] = predictions\n",
      "c:\\Users\\sguid\\Uni\\visual\\project\\vipm_project\\vipm_dataset_cleaner.py:135: SettingWithCopyWarning: \n",
      "A value is trying to be set on a copy of a slice from a DataFrame.\n",
      "Try using .loc[row_indexer,col_indexer] = value instead\n",
      "\n",
      "See the caveats in the documentation: https://pandas.pydata.org/pandas-docs/stable/user_guide/indexing.html#returning-a-view-versus-a-copy\n",
      "  class_df[\"Rejected\"] = predictions\n"
     ]
    },
    {
     "name": "stdout",
     "output_type": "stream",
     "text": [
      "Pulizia completata per la classe 167.\n",
      "Elaborando classe: 168\n",
      "Feature shape per la classe 168: (20, 3)\n",
      "Pulizia completata per la classe 168.\n",
      "Elaborando classe: 169\n",
      "Feature shape per la classe 169: (20, 3)\n"
     ]
    },
    {
     "name": "stderr",
     "output_type": "stream",
     "text": [
      "c:\\Users\\sguid\\Uni\\visual\\project\\vipm_project\\vipm_dataset_cleaner.py:135: SettingWithCopyWarning: \n",
      "A value is trying to be set on a copy of a slice from a DataFrame.\n",
      "Try using .loc[row_indexer,col_indexer] = value instead\n",
      "\n",
      "See the caveats in the documentation: https://pandas.pydata.org/pandas-docs/stable/user_guide/indexing.html#returning-a-view-versus-a-copy\n",
      "  class_df[\"Rejected\"] = predictions\n",
      "c:\\Users\\sguid\\Uni\\visual\\project\\vipm_project\\vipm_dataset_cleaner.py:135: SettingWithCopyWarning: \n",
      "A value is trying to be set on a copy of a slice from a DataFrame.\n",
      "Try using .loc[row_indexer,col_indexer] = value instead\n",
      "\n",
      "See the caveats in the documentation: https://pandas.pydata.org/pandas-docs/stable/user_guide/indexing.html#returning-a-view-versus-a-copy\n",
      "  class_df[\"Rejected\"] = predictions\n"
     ]
    },
    {
     "name": "stdout",
     "output_type": "stream",
     "text": [
      "Pulizia completata per la classe 169.\n",
      "Elaborando classe: 170\n",
      "Feature shape per la classe 170: (20, 3)\n",
      "Pulizia completata per la classe 170.\n",
      "Elaborando classe: 171\n",
      "Feature shape per la classe 171: (20, 3)\n"
     ]
    },
    {
     "name": "stderr",
     "output_type": "stream",
     "text": [
      "c:\\Users\\sguid\\Uni\\visual\\project\\vipm_project\\vipm_dataset_cleaner.py:135: SettingWithCopyWarning: \n",
      "A value is trying to be set on a copy of a slice from a DataFrame.\n",
      "Try using .loc[row_indexer,col_indexer] = value instead\n",
      "\n",
      "See the caveats in the documentation: https://pandas.pydata.org/pandas-docs/stable/user_guide/indexing.html#returning-a-view-versus-a-copy\n",
      "  class_df[\"Rejected\"] = predictions\n",
      "c:\\Users\\sguid\\Uni\\visual\\project\\vipm_project\\vipm_dataset_cleaner.py:135: SettingWithCopyWarning: \n",
      "A value is trying to be set on a copy of a slice from a DataFrame.\n",
      "Try using .loc[row_indexer,col_indexer] = value instead\n",
      "\n",
      "See the caveats in the documentation: https://pandas.pydata.org/pandas-docs/stable/user_guide/indexing.html#returning-a-view-versus-a-copy\n",
      "  class_df[\"Rejected\"] = predictions\n"
     ]
    },
    {
     "name": "stdout",
     "output_type": "stream",
     "text": [
      "Pulizia completata per la classe 171.\n",
      "Elaborando classe: 172\n",
      "Feature shape per la classe 172: (20, 3)\n",
      "Pulizia completata per la classe 172.\n",
      "Elaborando classe: 173\n",
      "Feature shape per la classe 173: (20, 3)\n"
     ]
    },
    {
     "name": "stderr",
     "output_type": "stream",
     "text": [
      "c:\\Users\\sguid\\Uni\\visual\\project\\vipm_project\\vipm_dataset_cleaner.py:135: SettingWithCopyWarning: \n",
      "A value is trying to be set on a copy of a slice from a DataFrame.\n",
      "Try using .loc[row_indexer,col_indexer] = value instead\n",
      "\n",
      "See the caveats in the documentation: https://pandas.pydata.org/pandas-docs/stable/user_guide/indexing.html#returning-a-view-versus-a-copy\n",
      "  class_df[\"Rejected\"] = predictions\n",
      "c:\\Users\\sguid\\Uni\\visual\\project\\vipm_project\\vipm_dataset_cleaner.py:135: SettingWithCopyWarning: \n",
      "A value is trying to be set on a copy of a slice from a DataFrame.\n",
      "Try using .loc[row_indexer,col_indexer] = value instead\n",
      "\n",
      "See the caveats in the documentation: https://pandas.pydata.org/pandas-docs/stable/user_guide/indexing.html#returning-a-view-versus-a-copy\n",
      "  class_df[\"Rejected\"] = predictions\n"
     ]
    },
    {
     "name": "stdout",
     "output_type": "stream",
     "text": [
      "Pulizia completata per la classe 173.\n",
      "Elaborando classe: 174\n",
      "Feature shape per la classe 174: (20, 3)\n",
      "Pulizia completata per la classe 174.\n",
      "Elaborando classe: 175\n",
      "Feature shape per la classe 175: (20, 3)\n"
     ]
    },
    {
     "name": "stderr",
     "output_type": "stream",
     "text": [
      "c:\\Users\\sguid\\Uni\\visual\\project\\vipm_project\\vipm_dataset_cleaner.py:135: SettingWithCopyWarning: \n",
      "A value is trying to be set on a copy of a slice from a DataFrame.\n",
      "Try using .loc[row_indexer,col_indexer] = value instead\n",
      "\n",
      "See the caveats in the documentation: https://pandas.pydata.org/pandas-docs/stable/user_guide/indexing.html#returning-a-view-versus-a-copy\n",
      "  class_df[\"Rejected\"] = predictions\n",
      "c:\\Users\\sguid\\Uni\\visual\\project\\vipm_project\\vipm_dataset_cleaner.py:135: SettingWithCopyWarning: \n",
      "A value is trying to be set on a copy of a slice from a DataFrame.\n",
      "Try using .loc[row_indexer,col_indexer] = value instead\n",
      "\n",
      "See the caveats in the documentation: https://pandas.pydata.org/pandas-docs/stable/user_guide/indexing.html#returning-a-view-versus-a-copy\n",
      "  class_df[\"Rejected\"] = predictions\n"
     ]
    },
    {
     "name": "stdout",
     "output_type": "stream",
     "text": [
      "Pulizia completata per la classe 175.\n",
      "Elaborando classe: 176\n",
      "Feature shape per la classe 176: (20, 3)\n",
      "Pulizia completata per la classe 176.\n",
      "Elaborando classe: 177\n",
      "Feature shape per la classe 177: (20, 3)\n"
     ]
    },
    {
     "name": "stderr",
     "output_type": "stream",
     "text": [
      "c:\\Users\\sguid\\Uni\\visual\\project\\vipm_project\\vipm_dataset_cleaner.py:135: SettingWithCopyWarning: \n",
      "A value is trying to be set on a copy of a slice from a DataFrame.\n",
      "Try using .loc[row_indexer,col_indexer] = value instead\n",
      "\n",
      "See the caveats in the documentation: https://pandas.pydata.org/pandas-docs/stable/user_guide/indexing.html#returning-a-view-versus-a-copy\n",
      "  class_df[\"Rejected\"] = predictions\n",
      "c:\\Users\\sguid\\Uni\\visual\\project\\vipm_project\\vipm_dataset_cleaner.py:135: SettingWithCopyWarning: \n",
      "A value is trying to be set on a copy of a slice from a DataFrame.\n",
      "Try using .loc[row_indexer,col_indexer] = value instead\n",
      "\n",
      "See the caveats in the documentation: https://pandas.pydata.org/pandas-docs/stable/user_guide/indexing.html#returning-a-view-versus-a-copy\n",
      "  class_df[\"Rejected\"] = predictions\n"
     ]
    },
    {
     "name": "stdout",
     "output_type": "stream",
     "text": [
      "Pulizia completata per la classe 177.\n",
      "Elaborando classe: 178\n",
      "Feature shape per la classe 178: (20, 3)\n",
      "Pulizia completata per la classe 178.\n",
      "Elaborando classe: 179\n",
      "Feature shape per la classe 179: (20, 3)\n"
     ]
    },
    {
     "name": "stderr",
     "output_type": "stream",
     "text": [
      "c:\\Users\\sguid\\Uni\\visual\\project\\vipm_project\\vipm_dataset_cleaner.py:135: SettingWithCopyWarning: \n",
      "A value is trying to be set on a copy of a slice from a DataFrame.\n",
      "Try using .loc[row_indexer,col_indexer] = value instead\n",
      "\n",
      "See the caveats in the documentation: https://pandas.pydata.org/pandas-docs/stable/user_guide/indexing.html#returning-a-view-versus-a-copy\n",
      "  class_df[\"Rejected\"] = predictions\n",
      "c:\\Users\\sguid\\Uni\\visual\\project\\vipm_project\\vipm_dataset_cleaner.py:135: SettingWithCopyWarning: \n",
      "A value is trying to be set on a copy of a slice from a DataFrame.\n",
      "Try using .loc[row_indexer,col_indexer] = value instead\n",
      "\n",
      "See the caveats in the documentation: https://pandas.pydata.org/pandas-docs/stable/user_guide/indexing.html#returning-a-view-versus-a-copy\n",
      "  class_df[\"Rejected\"] = predictions\n"
     ]
    },
    {
     "name": "stdout",
     "output_type": "stream",
     "text": [
      "Pulizia completata per la classe 179.\n",
      "Elaborando classe: 180\n",
      "Feature shape per la classe 180: (20, 3)\n",
      "Pulizia completata per la classe 180.\n",
      "Elaborando classe: 181\n",
      "Feature shape per la classe 181: (20, 3)\n"
     ]
    },
    {
     "name": "stderr",
     "output_type": "stream",
     "text": [
      "c:\\Users\\sguid\\Uni\\visual\\project\\vipm_project\\vipm_dataset_cleaner.py:135: SettingWithCopyWarning: \n",
      "A value is trying to be set on a copy of a slice from a DataFrame.\n",
      "Try using .loc[row_indexer,col_indexer] = value instead\n",
      "\n",
      "See the caveats in the documentation: https://pandas.pydata.org/pandas-docs/stable/user_guide/indexing.html#returning-a-view-versus-a-copy\n",
      "  class_df[\"Rejected\"] = predictions\n",
      "c:\\Users\\sguid\\Uni\\visual\\project\\vipm_project\\vipm_dataset_cleaner.py:135: SettingWithCopyWarning: \n",
      "A value is trying to be set on a copy of a slice from a DataFrame.\n",
      "Try using .loc[row_indexer,col_indexer] = value instead\n",
      "\n",
      "See the caveats in the documentation: https://pandas.pydata.org/pandas-docs/stable/user_guide/indexing.html#returning-a-view-versus-a-copy\n",
      "  class_df[\"Rejected\"] = predictions\n"
     ]
    },
    {
     "name": "stdout",
     "output_type": "stream",
     "text": [
      "Pulizia completata per la classe 181.\n",
      "Elaborando classe: 182\n",
      "Feature shape per la classe 182: (20, 3)\n",
      "Pulizia completata per la classe 182.\n",
      "Elaborando classe: 183\n",
      "Feature shape per la classe 183: (20, 3)\n"
     ]
    },
    {
     "name": "stderr",
     "output_type": "stream",
     "text": [
      "c:\\Users\\sguid\\Uni\\visual\\project\\vipm_project\\vipm_dataset_cleaner.py:135: SettingWithCopyWarning: \n",
      "A value is trying to be set on a copy of a slice from a DataFrame.\n",
      "Try using .loc[row_indexer,col_indexer] = value instead\n",
      "\n",
      "See the caveats in the documentation: https://pandas.pydata.org/pandas-docs/stable/user_guide/indexing.html#returning-a-view-versus-a-copy\n",
      "  class_df[\"Rejected\"] = predictions\n",
      "c:\\Users\\sguid\\Uni\\visual\\project\\vipm_project\\vipm_dataset_cleaner.py:135: SettingWithCopyWarning: \n",
      "A value is trying to be set on a copy of a slice from a DataFrame.\n",
      "Try using .loc[row_indexer,col_indexer] = value instead\n",
      "\n",
      "See the caveats in the documentation: https://pandas.pydata.org/pandas-docs/stable/user_guide/indexing.html#returning-a-view-versus-a-copy\n",
      "  class_df[\"Rejected\"] = predictions\n"
     ]
    },
    {
     "name": "stdout",
     "output_type": "stream",
     "text": [
      "Pulizia completata per la classe 183.\n",
      "Elaborando classe: 184\n",
      "Feature shape per la classe 184: (20, 3)\n",
      "Pulizia completata per la classe 184.\n",
      "Elaborando classe: 185\n",
      "Feature shape per la classe 185: (20, 3)\n"
     ]
    },
    {
     "name": "stderr",
     "output_type": "stream",
     "text": [
      "c:\\Users\\sguid\\Uni\\visual\\project\\vipm_project\\vipm_dataset_cleaner.py:135: SettingWithCopyWarning: \n",
      "A value is trying to be set on a copy of a slice from a DataFrame.\n",
      "Try using .loc[row_indexer,col_indexer] = value instead\n",
      "\n",
      "See the caveats in the documentation: https://pandas.pydata.org/pandas-docs/stable/user_guide/indexing.html#returning-a-view-versus-a-copy\n",
      "  class_df[\"Rejected\"] = predictions\n",
      "c:\\Users\\sguid\\Uni\\visual\\project\\vipm_project\\vipm_dataset_cleaner.py:135: SettingWithCopyWarning: \n",
      "A value is trying to be set on a copy of a slice from a DataFrame.\n",
      "Try using .loc[row_indexer,col_indexer] = value instead\n",
      "\n",
      "See the caveats in the documentation: https://pandas.pydata.org/pandas-docs/stable/user_guide/indexing.html#returning-a-view-versus-a-copy\n",
      "  class_df[\"Rejected\"] = predictions\n"
     ]
    },
    {
     "name": "stdout",
     "output_type": "stream",
     "text": [
      "Pulizia completata per la classe 185.\n",
      "Elaborando classe: 186\n",
      "Feature shape per la classe 186: (20, 3)\n",
      "Pulizia completata per la classe 186.\n",
      "Elaborando classe: 187\n",
      "Feature shape per la classe 187: (20, 3)\n"
     ]
    },
    {
     "name": "stderr",
     "output_type": "stream",
     "text": [
      "c:\\Users\\sguid\\Uni\\visual\\project\\vipm_project\\vipm_dataset_cleaner.py:135: SettingWithCopyWarning: \n",
      "A value is trying to be set on a copy of a slice from a DataFrame.\n",
      "Try using .loc[row_indexer,col_indexer] = value instead\n",
      "\n",
      "See the caveats in the documentation: https://pandas.pydata.org/pandas-docs/stable/user_guide/indexing.html#returning-a-view-versus-a-copy\n",
      "  class_df[\"Rejected\"] = predictions\n",
      "c:\\Users\\sguid\\Uni\\visual\\project\\vipm_project\\vipm_dataset_cleaner.py:135: SettingWithCopyWarning: \n",
      "A value is trying to be set on a copy of a slice from a DataFrame.\n",
      "Try using .loc[row_indexer,col_indexer] = value instead\n",
      "\n",
      "See the caveats in the documentation: https://pandas.pydata.org/pandas-docs/stable/user_guide/indexing.html#returning-a-view-versus-a-copy\n",
      "  class_df[\"Rejected\"] = predictions\n"
     ]
    },
    {
     "name": "stdout",
     "output_type": "stream",
     "text": [
      "Pulizia completata per la classe 187.\n",
      "Elaborando classe: 188\n",
      "Feature shape per la classe 188: (20, 3)\n",
      "Pulizia completata per la classe 188.\n",
      "Elaborando classe: 189\n",
      "Feature shape per la classe 189: (20, 3)\n"
     ]
    },
    {
     "name": "stderr",
     "output_type": "stream",
     "text": [
      "c:\\Users\\sguid\\Uni\\visual\\project\\vipm_project\\vipm_dataset_cleaner.py:135: SettingWithCopyWarning: \n",
      "A value is trying to be set on a copy of a slice from a DataFrame.\n",
      "Try using .loc[row_indexer,col_indexer] = value instead\n",
      "\n",
      "See the caveats in the documentation: https://pandas.pydata.org/pandas-docs/stable/user_guide/indexing.html#returning-a-view-versus-a-copy\n",
      "  class_df[\"Rejected\"] = predictions\n",
      "c:\\Users\\sguid\\Uni\\visual\\project\\vipm_project\\vipm_dataset_cleaner.py:135: SettingWithCopyWarning: \n",
      "A value is trying to be set on a copy of a slice from a DataFrame.\n",
      "Try using .loc[row_indexer,col_indexer] = value instead\n",
      "\n",
      "See the caveats in the documentation: https://pandas.pydata.org/pandas-docs/stable/user_guide/indexing.html#returning-a-view-versus-a-copy\n",
      "  class_df[\"Rejected\"] = predictions\n"
     ]
    },
    {
     "name": "stdout",
     "output_type": "stream",
     "text": [
      "Pulizia completata per la classe 189.\n",
      "Elaborando classe: 190\n",
      "Feature shape per la classe 190: (20, 3)\n",
      "Pulizia completata per la classe 190.\n",
      "Elaborando classe: 191\n",
      "Feature shape per la classe 191: (20, 3)\n"
     ]
    },
    {
     "name": "stderr",
     "output_type": "stream",
     "text": [
      "c:\\Users\\sguid\\Uni\\visual\\project\\vipm_project\\vipm_dataset_cleaner.py:135: SettingWithCopyWarning: \n",
      "A value is trying to be set on a copy of a slice from a DataFrame.\n",
      "Try using .loc[row_indexer,col_indexer] = value instead\n",
      "\n",
      "See the caveats in the documentation: https://pandas.pydata.org/pandas-docs/stable/user_guide/indexing.html#returning-a-view-versus-a-copy\n",
      "  class_df[\"Rejected\"] = predictions\n",
      "c:\\Users\\sguid\\Uni\\visual\\project\\vipm_project\\vipm_dataset_cleaner.py:135: SettingWithCopyWarning: \n",
      "A value is trying to be set on a copy of a slice from a DataFrame.\n",
      "Try using .loc[row_indexer,col_indexer] = value instead\n",
      "\n",
      "See the caveats in the documentation: https://pandas.pydata.org/pandas-docs/stable/user_guide/indexing.html#returning-a-view-versus-a-copy\n",
      "  class_df[\"Rejected\"] = predictions\n"
     ]
    },
    {
     "name": "stdout",
     "output_type": "stream",
     "text": [
      "Pulizia completata per la classe 191.\n",
      "Elaborando classe: 192\n",
      "Feature shape per la classe 192: (20, 3)\n",
      "Pulizia completata per la classe 192.\n",
      "Elaborando classe: 193\n",
      "Feature shape per la classe 193: (20, 3)\n"
     ]
    },
    {
     "name": "stderr",
     "output_type": "stream",
     "text": [
      "c:\\Users\\sguid\\Uni\\visual\\project\\vipm_project\\vipm_dataset_cleaner.py:135: SettingWithCopyWarning: \n",
      "A value is trying to be set on a copy of a slice from a DataFrame.\n",
      "Try using .loc[row_indexer,col_indexer] = value instead\n",
      "\n",
      "See the caveats in the documentation: https://pandas.pydata.org/pandas-docs/stable/user_guide/indexing.html#returning-a-view-versus-a-copy\n",
      "  class_df[\"Rejected\"] = predictions\n",
      "c:\\Users\\sguid\\Uni\\visual\\project\\vipm_project\\vipm_dataset_cleaner.py:135: SettingWithCopyWarning: \n",
      "A value is trying to be set on a copy of a slice from a DataFrame.\n",
      "Try using .loc[row_indexer,col_indexer] = value instead\n",
      "\n",
      "See the caveats in the documentation: https://pandas.pydata.org/pandas-docs/stable/user_guide/indexing.html#returning-a-view-versus-a-copy\n",
      "  class_df[\"Rejected\"] = predictions\n"
     ]
    },
    {
     "name": "stdout",
     "output_type": "stream",
     "text": [
      "Pulizia completata per la classe 193.\n",
      "Elaborando classe: 194\n",
      "Feature shape per la classe 194: (20, 3)\n",
      "Pulizia completata per la classe 194.\n",
      "Elaborando classe: 195\n",
      "Feature shape per la classe 195: (20, 3)\n"
     ]
    },
    {
     "name": "stderr",
     "output_type": "stream",
     "text": [
      "c:\\Users\\sguid\\Uni\\visual\\project\\vipm_project\\vipm_dataset_cleaner.py:135: SettingWithCopyWarning: \n",
      "A value is trying to be set on a copy of a slice from a DataFrame.\n",
      "Try using .loc[row_indexer,col_indexer] = value instead\n",
      "\n",
      "See the caveats in the documentation: https://pandas.pydata.org/pandas-docs/stable/user_guide/indexing.html#returning-a-view-versus-a-copy\n",
      "  class_df[\"Rejected\"] = predictions\n",
      "c:\\Users\\sguid\\Uni\\visual\\project\\vipm_project\\vipm_dataset_cleaner.py:135: SettingWithCopyWarning: \n",
      "A value is trying to be set on a copy of a slice from a DataFrame.\n",
      "Try using .loc[row_indexer,col_indexer] = value instead\n",
      "\n",
      "See the caveats in the documentation: https://pandas.pydata.org/pandas-docs/stable/user_guide/indexing.html#returning-a-view-versus-a-copy\n",
      "  class_df[\"Rejected\"] = predictions\n"
     ]
    },
    {
     "name": "stdout",
     "output_type": "stream",
     "text": [
      "Pulizia completata per la classe 195.\n",
      "Elaborando classe: 196\n",
      "Feature shape per la classe 196: (20, 3)\n",
      "Pulizia completata per la classe 196.\n",
      "Elaborando classe: 197\n",
      "Feature shape per la classe 197: (20, 3)\n"
     ]
    },
    {
     "name": "stderr",
     "output_type": "stream",
     "text": [
      "c:\\Users\\sguid\\Uni\\visual\\project\\vipm_project\\vipm_dataset_cleaner.py:135: SettingWithCopyWarning: \n",
      "A value is trying to be set on a copy of a slice from a DataFrame.\n",
      "Try using .loc[row_indexer,col_indexer] = value instead\n",
      "\n",
      "See the caveats in the documentation: https://pandas.pydata.org/pandas-docs/stable/user_guide/indexing.html#returning-a-view-versus-a-copy\n",
      "  class_df[\"Rejected\"] = predictions\n",
      "c:\\Users\\sguid\\Uni\\visual\\project\\vipm_project\\vipm_dataset_cleaner.py:135: SettingWithCopyWarning: \n",
      "A value is trying to be set on a copy of a slice from a DataFrame.\n",
      "Try using .loc[row_indexer,col_indexer] = value instead\n",
      "\n",
      "See the caveats in the documentation: https://pandas.pydata.org/pandas-docs/stable/user_guide/indexing.html#returning-a-view-versus-a-copy\n",
      "  class_df[\"Rejected\"] = predictions\n"
     ]
    },
    {
     "name": "stdout",
     "output_type": "stream",
     "text": [
      "Pulizia completata per la classe 197.\n",
      "Elaborando classe: 198\n",
      "Feature shape per la classe 198: (20, 3)\n",
      "Pulizia completata per la classe 198.\n",
      "Elaborando classe: 199\n",
      "Feature shape per la classe 199: (20, 3)\n"
     ]
    },
    {
     "name": "stderr",
     "output_type": "stream",
     "text": [
      "c:\\Users\\sguid\\Uni\\visual\\project\\vipm_project\\vipm_dataset_cleaner.py:135: SettingWithCopyWarning: \n",
      "A value is trying to be set on a copy of a slice from a DataFrame.\n",
      "Try using .loc[row_indexer,col_indexer] = value instead\n",
      "\n",
      "See the caveats in the documentation: https://pandas.pydata.org/pandas-docs/stable/user_guide/indexing.html#returning-a-view-versus-a-copy\n",
      "  class_df[\"Rejected\"] = predictions\n",
      "c:\\Users\\sguid\\Uni\\visual\\project\\vipm_project\\vipm_dataset_cleaner.py:135: SettingWithCopyWarning: \n",
      "A value is trying to be set on a copy of a slice from a DataFrame.\n",
      "Try using .loc[row_indexer,col_indexer] = value instead\n",
      "\n",
      "See the caveats in the documentation: https://pandas.pydata.org/pandas-docs/stable/user_guide/indexing.html#returning-a-view-versus-a-copy\n",
      "  class_df[\"Rejected\"] = predictions\n"
     ]
    },
    {
     "name": "stdout",
     "output_type": "stream",
     "text": [
      "Pulizia completata per la classe 199.\n",
      "Elaborando classe: 200\n",
      "Feature shape per la classe 200: (20, 3)\n",
      "Pulizia completata per la classe 200.\n",
      "Elaborando classe: 201\n",
      "Feature shape per la classe 201: (20, 3)\n"
     ]
    },
    {
     "name": "stderr",
     "output_type": "stream",
     "text": [
      "c:\\Users\\sguid\\Uni\\visual\\project\\vipm_project\\vipm_dataset_cleaner.py:135: SettingWithCopyWarning: \n",
      "A value is trying to be set on a copy of a slice from a DataFrame.\n",
      "Try using .loc[row_indexer,col_indexer] = value instead\n",
      "\n",
      "See the caveats in the documentation: https://pandas.pydata.org/pandas-docs/stable/user_guide/indexing.html#returning-a-view-versus-a-copy\n",
      "  class_df[\"Rejected\"] = predictions\n",
      "c:\\Users\\sguid\\Uni\\visual\\project\\vipm_project\\vipm_dataset_cleaner.py:135: SettingWithCopyWarning: \n",
      "A value is trying to be set on a copy of a slice from a DataFrame.\n",
      "Try using .loc[row_indexer,col_indexer] = value instead\n",
      "\n",
      "See the caveats in the documentation: https://pandas.pydata.org/pandas-docs/stable/user_guide/indexing.html#returning-a-view-versus-a-copy\n",
      "  class_df[\"Rejected\"] = predictions\n"
     ]
    },
    {
     "name": "stdout",
     "output_type": "stream",
     "text": [
      "Pulizia completata per la classe 201.\n",
      "Elaborando classe: 202\n",
      "Feature shape per la classe 202: (20, 3)\n",
      "Pulizia completata per la classe 202.\n",
      "Elaborando classe: 203\n",
      "Feature shape per la classe 203: (20, 3)\n"
     ]
    },
    {
     "name": "stderr",
     "output_type": "stream",
     "text": [
      "c:\\Users\\sguid\\Uni\\visual\\project\\vipm_project\\vipm_dataset_cleaner.py:135: SettingWithCopyWarning: \n",
      "A value is trying to be set on a copy of a slice from a DataFrame.\n",
      "Try using .loc[row_indexer,col_indexer] = value instead\n",
      "\n",
      "See the caveats in the documentation: https://pandas.pydata.org/pandas-docs/stable/user_guide/indexing.html#returning-a-view-versus-a-copy\n",
      "  class_df[\"Rejected\"] = predictions\n",
      "c:\\Users\\sguid\\Uni\\visual\\project\\vipm_project\\vipm_dataset_cleaner.py:135: SettingWithCopyWarning: \n",
      "A value is trying to be set on a copy of a slice from a DataFrame.\n",
      "Try using .loc[row_indexer,col_indexer] = value instead\n",
      "\n",
      "See the caveats in the documentation: https://pandas.pydata.org/pandas-docs/stable/user_guide/indexing.html#returning-a-view-versus-a-copy\n",
      "  class_df[\"Rejected\"] = predictions\n"
     ]
    },
    {
     "name": "stdout",
     "output_type": "stream",
     "text": [
      "Pulizia completata per la classe 203.\n",
      "Elaborando classe: 204\n",
      "Feature shape per la classe 204: (20, 3)\n",
      "Pulizia completata per la classe 204.\n",
      "Elaborando classe: 205\n",
      "Feature shape per la classe 205: (20, 3)\n"
     ]
    },
    {
     "name": "stderr",
     "output_type": "stream",
     "text": [
      "c:\\Users\\sguid\\Uni\\visual\\project\\vipm_project\\vipm_dataset_cleaner.py:135: SettingWithCopyWarning: \n",
      "A value is trying to be set on a copy of a slice from a DataFrame.\n",
      "Try using .loc[row_indexer,col_indexer] = value instead\n",
      "\n",
      "See the caveats in the documentation: https://pandas.pydata.org/pandas-docs/stable/user_guide/indexing.html#returning-a-view-versus-a-copy\n",
      "  class_df[\"Rejected\"] = predictions\n",
      "c:\\Users\\sguid\\Uni\\visual\\project\\vipm_project\\vipm_dataset_cleaner.py:135: SettingWithCopyWarning: \n",
      "A value is trying to be set on a copy of a slice from a DataFrame.\n",
      "Try using .loc[row_indexer,col_indexer] = value instead\n",
      "\n",
      "See the caveats in the documentation: https://pandas.pydata.org/pandas-docs/stable/user_guide/indexing.html#returning-a-view-versus-a-copy\n",
      "  class_df[\"Rejected\"] = predictions\n"
     ]
    },
    {
     "name": "stdout",
     "output_type": "stream",
     "text": [
      "Pulizia completata per la classe 205.\n",
      "Elaborando classe: 206\n",
      "Feature shape per la classe 206: (20, 3)\n",
      "Pulizia completata per la classe 206.\n",
      "Elaborando classe: 207\n"
     ]
    },
    {
     "name": "stderr",
     "output_type": "stream",
     "text": [
      "c:\\Users\\sguid\\Uni\\visual\\project\\vipm_project\\vipm_dataset_cleaner.py:135: SettingWithCopyWarning: \n",
      "A value is trying to be set on a copy of a slice from a DataFrame.\n",
      "Try using .loc[row_indexer,col_indexer] = value instead\n",
      "\n",
      "See the caveats in the documentation: https://pandas.pydata.org/pandas-docs/stable/user_guide/indexing.html#returning-a-view-versus-a-copy\n",
      "  class_df[\"Rejected\"] = predictions\n",
      "c:\\Users\\sguid\\Uni\\visual\\project\\vipm_project\\vipm_dataset_cleaner.py:135: SettingWithCopyWarning: \n",
      "A value is trying to be set on a copy of a slice from a DataFrame.\n",
      "Try using .loc[row_indexer,col_indexer] = value instead\n",
      "\n",
      "See the caveats in the documentation: https://pandas.pydata.org/pandas-docs/stable/user_guide/indexing.html#returning-a-view-versus-a-copy\n",
      "  class_df[\"Rejected\"] = predictions\n"
     ]
    },
    {
     "name": "stdout",
     "output_type": "stream",
     "text": [
      "Feature shape per la classe 207: (20, 3)\n",
      "Pulizia completata per la classe 207.\n",
      "Elaborando classe: 208\n",
      "Feature shape per la classe 208: (20, 3)\n"
     ]
    },
    {
     "name": "stderr",
     "output_type": "stream",
     "text": [
      "c:\\Users\\sguid\\Uni\\visual\\project\\vipm_project\\vipm_dataset_cleaner.py:135: SettingWithCopyWarning: \n",
      "A value is trying to be set on a copy of a slice from a DataFrame.\n",
      "Try using .loc[row_indexer,col_indexer] = value instead\n",
      "\n",
      "See the caveats in the documentation: https://pandas.pydata.org/pandas-docs/stable/user_guide/indexing.html#returning-a-view-versus-a-copy\n",
      "  class_df[\"Rejected\"] = predictions\n",
      "c:\\Users\\sguid\\Uni\\visual\\project\\vipm_project\\vipm_dataset_cleaner.py:135: SettingWithCopyWarning: \n",
      "A value is trying to be set on a copy of a slice from a DataFrame.\n",
      "Try using .loc[row_indexer,col_indexer] = value instead\n",
      "\n",
      "See the caveats in the documentation: https://pandas.pydata.org/pandas-docs/stable/user_guide/indexing.html#returning-a-view-versus-a-copy\n",
      "  class_df[\"Rejected\"] = predictions\n"
     ]
    },
    {
     "name": "stdout",
     "output_type": "stream",
     "text": [
      "Pulizia completata per la classe 208.\n",
      "Elaborando classe: 209\n",
      "Feature shape per la classe 209: (20, 3)\n",
      "Pulizia completata per la classe 209.\n",
      "Elaborando classe: 210\n",
      "Feature shape per la classe 210: (20, 3)\n",
      "Pulizia completata per la classe 210.\n",
      "Elaborando classe: 211\n",
      "Feature shape per la classe 211: (20, 3)\n"
     ]
    },
    {
     "name": "stderr",
     "output_type": "stream",
     "text": [
      "c:\\Users\\sguid\\Uni\\visual\\project\\vipm_project\\vipm_dataset_cleaner.py:135: SettingWithCopyWarning: \n",
      "A value is trying to be set on a copy of a slice from a DataFrame.\n",
      "Try using .loc[row_indexer,col_indexer] = value instead\n",
      "\n",
      "See the caveats in the documentation: https://pandas.pydata.org/pandas-docs/stable/user_guide/indexing.html#returning-a-view-versus-a-copy\n",
      "  class_df[\"Rejected\"] = predictions\n",
      "c:\\Users\\sguid\\Uni\\visual\\project\\vipm_project\\vipm_dataset_cleaner.py:135: SettingWithCopyWarning: \n",
      "A value is trying to be set on a copy of a slice from a DataFrame.\n",
      "Try using .loc[row_indexer,col_indexer] = value instead\n",
      "\n",
      "See the caveats in the documentation: https://pandas.pydata.org/pandas-docs/stable/user_guide/indexing.html#returning-a-view-versus-a-copy\n",
      "  class_df[\"Rejected\"] = predictions\n"
     ]
    },
    {
     "name": "stdout",
     "output_type": "stream",
     "text": [
      "Pulizia completata per la classe 211.\n",
      "Elaborando classe: 212\n",
      "Feature shape per la classe 212: (20, 3)\n",
      "Pulizia completata per la classe 212.\n",
      "Elaborando classe: 213\n",
      "Feature shape per la classe 213: (20, 3)\n"
     ]
    },
    {
     "name": "stderr",
     "output_type": "stream",
     "text": [
      "c:\\Users\\sguid\\Uni\\visual\\project\\vipm_project\\vipm_dataset_cleaner.py:135: SettingWithCopyWarning: \n",
      "A value is trying to be set on a copy of a slice from a DataFrame.\n",
      "Try using .loc[row_indexer,col_indexer] = value instead\n",
      "\n",
      "See the caveats in the documentation: https://pandas.pydata.org/pandas-docs/stable/user_guide/indexing.html#returning-a-view-versus-a-copy\n",
      "  class_df[\"Rejected\"] = predictions\n",
      "c:\\Users\\sguid\\Uni\\visual\\project\\vipm_project\\vipm_dataset_cleaner.py:135: SettingWithCopyWarning: \n",
      "A value is trying to be set on a copy of a slice from a DataFrame.\n",
      "Try using .loc[row_indexer,col_indexer] = value instead\n",
      "\n",
      "See the caveats in the documentation: https://pandas.pydata.org/pandas-docs/stable/user_guide/indexing.html#returning-a-view-versus-a-copy\n",
      "  class_df[\"Rejected\"] = predictions\n"
     ]
    },
    {
     "name": "stdout",
     "output_type": "stream",
     "text": [
      "Pulizia completata per la classe 213.\n",
      "Elaborando classe: 214\n",
      "Feature shape per la classe 214: (20, 3)\n",
      "Pulizia completata per la classe 214.\n",
      "Elaborando classe: 215\n",
      "Feature shape per la classe 215: (20, 3)\n"
     ]
    },
    {
     "name": "stderr",
     "output_type": "stream",
     "text": [
      "c:\\Users\\sguid\\Uni\\visual\\project\\vipm_project\\vipm_dataset_cleaner.py:135: SettingWithCopyWarning: \n",
      "A value is trying to be set on a copy of a slice from a DataFrame.\n",
      "Try using .loc[row_indexer,col_indexer] = value instead\n",
      "\n",
      "See the caveats in the documentation: https://pandas.pydata.org/pandas-docs/stable/user_guide/indexing.html#returning-a-view-versus-a-copy\n",
      "  class_df[\"Rejected\"] = predictions\n",
      "c:\\Users\\sguid\\Uni\\visual\\project\\vipm_project\\vipm_dataset_cleaner.py:135: SettingWithCopyWarning: \n",
      "A value is trying to be set on a copy of a slice from a DataFrame.\n",
      "Try using .loc[row_indexer,col_indexer] = value instead\n",
      "\n",
      "See the caveats in the documentation: https://pandas.pydata.org/pandas-docs/stable/user_guide/indexing.html#returning-a-view-versus-a-copy\n",
      "  class_df[\"Rejected\"] = predictions\n"
     ]
    },
    {
     "name": "stdout",
     "output_type": "stream",
     "text": [
      "Pulizia completata per la classe 215.\n",
      "Elaborando classe: 216\n",
      "Feature shape per la classe 216: (20, 3)\n",
      "Pulizia completata per la classe 216.\n",
      "Elaborando classe: 217\n",
      "Feature shape per la classe 217: (20, 3)\n"
     ]
    },
    {
     "name": "stderr",
     "output_type": "stream",
     "text": [
      "c:\\Users\\sguid\\Uni\\visual\\project\\vipm_project\\vipm_dataset_cleaner.py:135: SettingWithCopyWarning: \n",
      "A value is trying to be set on a copy of a slice from a DataFrame.\n",
      "Try using .loc[row_indexer,col_indexer] = value instead\n",
      "\n",
      "See the caveats in the documentation: https://pandas.pydata.org/pandas-docs/stable/user_guide/indexing.html#returning-a-view-versus-a-copy\n",
      "  class_df[\"Rejected\"] = predictions\n",
      "c:\\Users\\sguid\\Uni\\visual\\project\\vipm_project\\vipm_dataset_cleaner.py:135: SettingWithCopyWarning: \n",
      "A value is trying to be set on a copy of a slice from a DataFrame.\n",
      "Try using .loc[row_indexer,col_indexer] = value instead\n",
      "\n",
      "See the caveats in the documentation: https://pandas.pydata.org/pandas-docs/stable/user_guide/indexing.html#returning-a-view-versus-a-copy\n",
      "  class_df[\"Rejected\"] = predictions\n"
     ]
    },
    {
     "name": "stdout",
     "output_type": "stream",
     "text": [
      "Pulizia completata per la classe 217.\n",
      "Elaborando classe: 218\n",
      "Feature shape per la classe 218: (20, 3)\n"
     ]
    },
    {
     "name": "stderr",
     "output_type": "stream",
     "text": [
      "c:\\Users\\sguid\\Uni\\visual\\project\\vipm_project\\vipm_dataset_cleaner.py:135: SettingWithCopyWarning: \n",
      "A value is trying to be set on a copy of a slice from a DataFrame.\n",
      "Try using .loc[row_indexer,col_indexer] = value instead\n",
      "\n",
      "See the caveats in the documentation: https://pandas.pydata.org/pandas-docs/stable/user_guide/indexing.html#returning-a-view-versus-a-copy\n",
      "  class_df[\"Rejected\"] = predictions\n",
      "c:\\Users\\sguid\\Uni\\visual\\project\\vipm_project\\vipm_dataset_cleaner.py:135: SettingWithCopyWarning: \n",
      "A value is trying to be set on a copy of a slice from a DataFrame.\n",
      "Try using .loc[row_indexer,col_indexer] = value instead\n",
      "\n",
      "See the caveats in the documentation: https://pandas.pydata.org/pandas-docs/stable/user_guide/indexing.html#returning-a-view-versus-a-copy\n",
      "  class_df[\"Rejected\"] = predictions\n"
     ]
    },
    {
     "name": "stdout",
     "output_type": "stream",
     "text": [
      "Pulizia completata per la classe 218.\n",
      "Elaborando classe: 219\n",
      "Feature shape per la classe 219: (20, 3)\n",
      "Pulizia completata per la classe 219.\n",
      "Elaborando classe: 220\n",
      "Feature shape per la classe 220: (20, 3)\n",
      "Pulizia completata per la classe 220.\n",
      "Elaborando classe: 221\n"
     ]
    },
    {
     "name": "stderr",
     "output_type": "stream",
     "text": [
      "c:\\Users\\sguid\\Uni\\visual\\project\\vipm_project\\vipm_dataset_cleaner.py:135: SettingWithCopyWarning: \n",
      "A value is trying to be set on a copy of a slice from a DataFrame.\n",
      "Try using .loc[row_indexer,col_indexer] = value instead\n",
      "\n",
      "See the caveats in the documentation: https://pandas.pydata.org/pandas-docs/stable/user_guide/indexing.html#returning-a-view-versus-a-copy\n",
      "  class_df[\"Rejected\"] = predictions\n",
      "c:\\Users\\sguid\\Uni\\visual\\project\\vipm_project\\vipm_dataset_cleaner.py:135: SettingWithCopyWarning: \n",
      "A value is trying to be set on a copy of a slice from a DataFrame.\n",
      "Try using .loc[row_indexer,col_indexer] = value instead\n",
      "\n",
      "See the caveats in the documentation: https://pandas.pydata.org/pandas-docs/stable/user_guide/indexing.html#returning-a-view-versus-a-copy\n",
      "  class_df[\"Rejected\"] = predictions\n"
     ]
    },
    {
     "name": "stdout",
     "output_type": "stream",
     "text": [
      "Feature shape per la classe 221: (20, 3)\n",
      "Pulizia completata per la classe 221.\n",
      "Elaborando classe: 222\n",
      "Feature shape per la classe 222: (20, 3)\n"
     ]
    },
    {
     "name": "stderr",
     "output_type": "stream",
     "text": [
      "c:\\Users\\sguid\\Uni\\visual\\project\\vipm_project\\vipm_dataset_cleaner.py:135: SettingWithCopyWarning: \n",
      "A value is trying to be set on a copy of a slice from a DataFrame.\n",
      "Try using .loc[row_indexer,col_indexer] = value instead\n",
      "\n",
      "See the caveats in the documentation: https://pandas.pydata.org/pandas-docs/stable/user_guide/indexing.html#returning-a-view-versus-a-copy\n",
      "  class_df[\"Rejected\"] = predictions\n",
      "c:\\Users\\sguid\\Uni\\visual\\project\\vipm_project\\vipm_dataset_cleaner.py:135: SettingWithCopyWarning: \n",
      "A value is trying to be set on a copy of a slice from a DataFrame.\n",
      "Try using .loc[row_indexer,col_indexer] = value instead\n",
      "\n",
      "See the caveats in the documentation: https://pandas.pydata.org/pandas-docs/stable/user_guide/indexing.html#returning-a-view-versus-a-copy\n",
      "  class_df[\"Rejected\"] = predictions\n"
     ]
    },
    {
     "name": "stdout",
     "output_type": "stream",
     "text": [
      "Pulizia completata per la classe 222.\n",
      "Elaborando classe: 223\n",
      "Feature shape per la classe 223: (20, 3)\n",
      "Pulizia completata per la classe 223.\n",
      "Elaborando classe: 224\n",
      "Feature shape per la classe 224: (20, 3)\n"
     ]
    },
    {
     "name": "stderr",
     "output_type": "stream",
     "text": [
      "c:\\Users\\sguid\\Uni\\visual\\project\\vipm_project\\vipm_dataset_cleaner.py:135: SettingWithCopyWarning: \n",
      "A value is trying to be set on a copy of a slice from a DataFrame.\n",
      "Try using .loc[row_indexer,col_indexer] = value instead\n",
      "\n",
      "See the caveats in the documentation: https://pandas.pydata.org/pandas-docs/stable/user_guide/indexing.html#returning-a-view-versus-a-copy\n",
      "  class_df[\"Rejected\"] = predictions\n",
      "c:\\Users\\sguid\\Uni\\visual\\project\\vipm_project\\vipm_dataset_cleaner.py:135: SettingWithCopyWarning: \n",
      "A value is trying to be set on a copy of a slice from a DataFrame.\n",
      "Try using .loc[row_indexer,col_indexer] = value instead\n",
      "\n",
      "See the caveats in the documentation: https://pandas.pydata.org/pandas-docs/stable/user_guide/indexing.html#returning-a-view-versus-a-copy\n",
      "  class_df[\"Rejected\"] = predictions\n"
     ]
    },
    {
     "name": "stdout",
     "output_type": "stream",
     "text": [
      "Pulizia completata per la classe 224.\n",
      "Elaborando classe: 225\n",
      "Feature shape per la classe 225: (20, 3)\n",
      "Pulizia completata per la classe 225.\n",
      "Elaborando classe: 226\n",
      "Feature shape per la classe 226: (20, 3)\n",
      "Pulizia completata per la classe 226.\n",
      "Elaborando classe: 227\n",
      "Feature shape per la classe 227: (20, 3)\n"
     ]
    },
    {
     "name": "stderr",
     "output_type": "stream",
     "text": [
      "c:\\Users\\sguid\\Uni\\visual\\project\\vipm_project\\vipm_dataset_cleaner.py:135: SettingWithCopyWarning: \n",
      "A value is trying to be set on a copy of a slice from a DataFrame.\n",
      "Try using .loc[row_indexer,col_indexer] = value instead\n",
      "\n",
      "See the caveats in the documentation: https://pandas.pydata.org/pandas-docs/stable/user_guide/indexing.html#returning-a-view-versus-a-copy\n",
      "  class_df[\"Rejected\"] = predictions\n",
      "c:\\Users\\sguid\\Uni\\visual\\project\\vipm_project\\vipm_dataset_cleaner.py:135: SettingWithCopyWarning: \n",
      "A value is trying to be set on a copy of a slice from a DataFrame.\n",
      "Try using .loc[row_indexer,col_indexer] = value instead\n",
      "\n",
      "See the caveats in the documentation: https://pandas.pydata.org/pandas-docs/stable/user_guide/indexing.html#returning-a-view-versus-a-copy\n",
      "  class_df[\"Rejected\"] = predictions\n"
     ]
    },
    {
     "name": "stdout",
     "output_type": "stream",
     "text": [
      "Pulizia completata per la classe 227.\n",
      "Elaborando classe: 228\n",
      "Feature shape per la classe 228: (20, 3)\n",
      "Pulizia completata per la classe 228.\n",
      "Elaborando classe: 229\n",
      "Feature shape per la classe 229: (20, 3)\n"
     ]
    },
    {
     "name": "stderr",
     "output_type": "stream",
     "text": [
      "c:\\Users\\sguid\\Uni\\visual\\project\\vipm_project\\vipm_dataset_cleaner.py:135: SettingWithCopyWarning: \n",
      "A value is trying to be set on a copy of a slice from a DataFrame.\n",
      "Try using .loc[row_indexer,col_indexer] = value instead\n",
      "\n",
      "See the caveats in the documentation: https://pandas.pydata.org/pandas-docs/stable/user_guide/indexing.html#returning-a-view-versus-a-copy\n",
      "  class_df[\"Rejected\"] = predictions\n",
      "c:\\Users\\sguid\\Uni\\visual\\project\\vipm_project\\vipm_dataset_cleaner.py:135: SettingWithCopyWarning: \n",
      "A value is trying to be set on a copy of a slice from a DataFrame.\n",
      "Try using .loc[row_indexer,col_indexer] = value instead\n",
      "\n",
      "See the caveats in the documentation: https://pandas.pydata.org/pandas-docs/stable/user_guide/indexing.html#returning-a-view-versus-a-copy\n",
      "  class_df[\"Rejected\"] = predictions\n"
     ]
    },
    {
     "name": "stdout",
     "output_type": "stream",
     "text": [
      "Pulizia completata per la classe 229.\n",
      "Elaborando classe: 230\n",
      "Feature shape per la classe 230: (20, 3)\n",
      "Pulizia completata per la classe 230.\n",
      "Elaborando classe: 231\n",
      "Feature shape per la classe 231: (20, 3)\n"
     ]
    },
    {
     "name": "stderr",
     "output_type": "stream",
     "text": [
      "c:\\Users\\sguid\\Uni\\visual\\project\\vipm_project\\vipm_dataset_cleaner.py:135: SettingWithCopyWarning: \n",
      "A value is trying to be set on a copy of a slice from a DataFrame.\n",
      "Try using .loc[row_indexer,col_indexer] = value instead\n",
      "\n",
      "See the caveats in the documentation: https://pandas.pydata.org/pandas-docs/stable/user_guide/indexing.html#returning-a-view-versus-a-copy\n",
      "  class_df[\"Rejected\"] = predictions\n",
      "c:\\Users\\sguid\\Uni\\visual\\project\\vipm_project\\vipm_dataset_cleaner.py:135: SettingWithCopyWarning: \n",
      "A value is trying to be set on a copy of a slice from a DataFrame.\n",
      "Try using .loc[row_indexer,col_indexer] = value instead\n",
      "\n",
      "See the caveats in the documentation: https://pandas.pydata.org/pandas-docs/stable/user_guide/indexing.html#returning-a-view-versus-a-copy\n",
      "  class_df[\"Rejected\"] = predictions\n"
     ]
    },
    {
     "name": "stdout",
     "output_type": "stream",
     "text": [
      "Pulizia completata per la classe 231.\n",
      "Elaborando classe: 232\n",
      "Feature shape per la classe 232: (20, 3)\n",
      "Pulizia completata per la classe 232.\n",
      "Elaborando classe: 233\n",
      "Feature shape per la classe 233: (20, 3)\n"
     ]
    },
    {
     "name": "stderr",
     "output_type": "stream",
     "text": [
      "c:\\Users\\sguid\\Uni\\visual\\project\\vipm_project\\vipm_dataset_cleaner.py:135: SettingWithCopyWarning: \n",
      "A value is trying to be set on a copy of a slice from a DataFrame.\n",
      "Try using .loc[row_indexer,col_indexer] = value instead\n",
      "\n",
      "See the caveats in the documentation: https://pandas.pydata.org/pandas-docs/stable/user_guide/indexing.html#returning-a-view-versus-a-copy\n",
      "  class_df[\"Rejected\"] = predictions\n",
      "c:\\Users\\sguid\\Uni\\visual\\project\\vipm_project\\vipm_dataset_cleaner.py:135: SettingWithCopyWarning: \n",
      "A value is trying to be set on a copy of a slice from a DataFrame.\n",
      "Try using .loc[row_indexer,col_indexer] = value instead\n",
      "\n",
      "See the caveats in the documentation: https://pandas.pydata.org/pandas-docs/stable/user_guide/indexing.html#returning-a-view-versus-a-copy\n",
      "  class_df[\"Rejected\"] = predictions\n"
     ]
    },
    {
     "name": "stdout",
     "output_type": "stream",
     "text": [
      "Pulizia completata per la classe 233.\n",
      "Elaborando classe: 234\n",
      "Feature shape per la classe 234: (20, 3)\n",
      "Pulizia completata per la classe 234.\n",
      "Elaborando classe: 235\n",
      "Feature shape per la classe 235: (20, 3)\n"
     ]
    },
    {
     "name": "stderr",
     "output_type": "stream",
     "text": [
      "c:\\Users\\sguid\\Uni\\visual\\project\\vipm_project\\vipm_dataset_cleaner.py:135: SettingWithCopyWarning: \n",
      "A value is trying to be set on a copy of a slice from a DataFrame.\n",
      "Try using .loc[row_indexer,col_indexer] = value instead\n",
      "\n",
      "See the caveats in the documentation: https://pandas.pydata.org/pandas-docs/stable/user_guide/indexing.html#returning-a-view-versus-a-copy\n",
      "  class_df[\"Rejected\"] = predictions\n",
      "c:\\Users\\sguid\\Uni\\visual\\project\\vipm_project\\vipm_dataset_cleaner.py:135: SettingWithCopyWarning: \n",
      "A value is trying to be set on a copy of a slice from a DataFrame.\n",
      "Try using .loc[row_indexer,col_indexer] = value instead\n",
      "\n",
      "See the caveats in the documentation: https://pandas.pydata.org/pandas-docs/stable/user_guide/indexing.html#returning-a-view-versus-a-copy\n",
      "  class_df[\"Rejected\"] = predictions\n"
     ]
    },
    {
     "name": "stdout",
     "output_type": "stream",
     "text": [
      "Pulizia completata per la classe 235.\n",
      "Elaborando classe: 236\n",
      "Feature shape per la classe 236: (20, 3)\n",
      "Pulizia completata per la classe 236.\n",
      "Elaborando classe: 237\n",
      "Feature shape per la classe 237: (20, 3)\n"
     ]
    },
    {
     "name": "stderr",
     "output_type": "stream",
     "text": [
      "c:\\Users\\sguid\\Uni\\visual\\project\\vipm_project\\vipm_dataset_cleaner.py:135: SettingWithCopyWarning: \n",
      "A value is trying to be set on a copy of a slice from a DataFrame.\n",
      "Try using .loc[row_indexer,col_indexer] = value instead\n",
      "\n",
      "See the caveats in the documentation: https://pandas.pydata.org/pandas-docs/stable/user_guide/indexing.html#returning-a-view-versus-a-copy\n",
      "  class_df[\"Rejected\"] = predictions\n",
      "c:\\Users\\sguid\\Uni\\visual\\project\\vipm_project\\vipm_dataset_cleaner.py:135: SettingWithCopyWarning: \n",
      "A value is trying to be set on a copy of a slice from a DataFrame.\n",
      "Try using .loc[row_indexer,col_indexer] = value instead\n",
      "\n",
      "See the caveats in the documentation: https://pandas.pydata.org/pandas-docs/stable/user_guide/indexing.html#returning-a-view-versus-a-copy\n",
      "  class_df[\"Rejected\"] = predictions\n"
     ]
    },
    {
     "name": "stdout",
     "output_type": "stream",
     "text": [
      "Pulizia completata per la classe 237.\n",
      "Elaborando classe: 238\n",
      "Feature shape per la classe 238: (20, 3)\n",
      "Pulizia completata per la classe 238.\n",
      "Elaborando classe: 239\n",
      "Feature shape per la classe 239: (20, 3)\n"
     ]
    },
    {
     "name": "stderr",
     "output_type": "stream",
     "text": [
      "c:\\Users\\sguid\\Uni\\visual\\project\\vipm_project\\vipm_dataset_cleaner.py:135: SettingWithCopyWarning: \n",
      "A value is trying to be set on a copy of a slice from a DataFrame.\n",
      "Try using .loc[row_indexer,col_indexer] = value instead\n",
      "\n",
      "See the caveats in the documentation: https://pandas.pydata.org/pandas-docs/stable/user_guide/indexing.html#returning-a-view-versus-a-copy\n",
      "  class_df[\"Rejected\"] = predictions\n",
      "c:\\Users\\sguid\\Uni\\visual\\project\\vipm_project\\vipm_dataset_cleaner.py:135: SettingWithCopyWarning: \n",
      "A value is trying to be set on a copy of a slice from a DataFrame.\n",
      "Try using .loc[row_indexer,col_indexer] = value instead\n",
      "\n",
      "See the caveats in the documentation: https://pandas.pydata.org/pandas-docs/stable/user_guide/indexing.html#returning-a-view-versus-a-copy\n",
      "  class_df[\"Rejected\"] = predictions\n"
     ]
    },
    {
     "name": "stdout",
     "output_type": "stream",
     "text": [
      "Pulizia completata per la classe 239.\n",
      "Elaborando classe: 240\n",
      "Feature shape per la classe 240: (20, 3)\n",
      "Pulizia completata per la classe 240.\n",
      "Elaborando classe: 241\n"
     ]
    },
    {
     "name": "stderr",
     "output_type": "stream",
     "text": [
      "c:\\Users\\sguid\\Uni\\visual\\project\\vipm_project\\vipm_dataset_cleaner.py:135: SettingWithCopyWarning: \n",
      "A value is trying to be set on a copy of a slice from a DataFrame.\n",
      "Try using .loc[row_indexer,col_indexer] = value instead\n",
      "\n",
      "See the caveats in the documentation: https://pandas.pydata.org/pandas-docs/stable/user_guide/indexing.html#returning-a-view-versus-a-copy\n",
      "  class_df[\"Rejected\"] = predictions\n",
      "c:\\Users\\sguid\\Uni\\visual\\project\\vipm_project\\vipm_dataset_cleaner.py:135: SettingWithCopyWarning: \n",
      "A value is trying to be set on a copy of a slice from a DataFrame.\n",
      "Try using .loc[row_indexer,col_indexer] = value instead\n",
      "\n",
      "See the caveats in the documentation: https://pandas.pydata.org/pandas-docs/stable/user_guide/indexing.html#returning-a-view-versus-a-copy\n",
      "  class_df[\"Rejected\"] = predictions\n"
     ]
    },
    {
     "name": "stdout",
     "output_type": "stream",
     "text": [
      "Feature shape per la classe 241: (20, 3)\n",
      "Pulizia completata per la classe 241.\n",
      "Elaborando classe: 242\n",
      "Feature shape per la classe 242: (20, 3)\n"
     ]
    },
    {
     "name": "stderr",
     "output_type": "stream",
     "text": [
      "c:\\Users\\sguid\\Uni\\visual\\project\\vipm_project\\vipm_dataset_cleaner.py:135: SettingWithCopyWarning: \n",
      "A value is trying to be set on a copy of a slice from a DataFrame.\n",
      "Try using .loc[row_indexer,col_indexer] = value instead\n",
      "\n",
      "See the caveats in the documentation: https://pandas.pydata.org/pandas-docs/stable/user_guide/indexing.html#returning-a-view-versus-a-copy\n",
      "  class_df[\"Rejected\"] = predictions\n",
      "c:\\Users\\sguid\\Uni\\visual\\project\\vipm_project\\vipm_dataset_cleaner.py:135: SettingWithCopyWarning: \n",
      "A value is trying to be set on a copy of a slice from a DataFrame.\n",
      "Try using .loc[row_indexer,col_indexer] = value instead\n",
      "\n",
      "See the caveats in the documentation: https://pandas.pydata.org/pandas-docs/stable/user_guide/indexing.html#returning-a-view-versus-a-copy\n",
      "  class_df[\"Rejected\"] = predictions\n"
     ]
    },
    {
     "name": "stdout",
     "output_type": "stream",
     "text": [
      "Pulizia completata per la classe 242.\n",
      "Elaborando classe: 243\n",
      "Feature shape per la classe 243: (20, 3)\n",
      "Pulizia completata per la classe 243.\n",
      "Elaborando classe: 244\n",
      "Feature shape per la classe 244: (20, 3)\n"
     ]
    },
    {
     "name": "stderr",
     "output_type": "stream",
     "text": [
      "c:\\Users\\sguid\\Uni\\visual\\project\\vipm_project\\vipm_dataset_cleaner.py:135: SettingWithCopyWarning: \n",
      "A value is trying to be set on a copy of a slice from a DataFrame.\n",
      "Try using .loc[row_indexer,col_indexer] = value instead\n",
      "\n",
      "See the caveats in the documentation: https://pandas.pydata.org/pandas-docs/stable/user_guide/indexing.html#returning-a-view-versus-a-copy\n",
      "  class_df[\"Rejected\"] = predictions\n",
      "c:\\Users\\sguid\\Uni\\visual\\project\\vipm_project\\vipm_dataset_cleaner.py:135: SettingWithCopyWarning: \n",
      "A value is trying to be set on a copy of a slice from a DataFrame.\n",
      "Try using .loc[row_indexer,col_indexer] = value instead\n",
      "\n",
      "See the caveats in the documentation: https://pandas.pydata.org/pandas-docs/stable/user_guide/indexing.html#returning-a-view-versus-a-copy\n",
      "  class_df[\"Rejected\"] = predictions\n"
     ]
    },
    {
     "name": "stdout",
     "output_type": "stream",
     "text": [
      "Pulizia completata per la classe 244.\n",
      "Elaborando classe: 245\n",
      "Feature shape per la classe 245: (20, 3)\n",
      "Pulizia completata per la classe 245.\n",
      "Elaborando classe: 246\n",
      "Feature shape per la classe 246: (20, 3)\n"
     ]
    },
    {
     "name": "stderr",
     "output_type": "stream",
     "text": [
      "c:\\Users\\sguid\\Uni\\visual\\project\\vipm_project\\vipm_dataset_cleaner.py:135: SettingWithCopyWarning: \n",
      "A value is trying to be set on a copy of a slice from a DataFrame.\n",
      "Try using .loc[row_indexer,col_indexer] = value instead\n",
      "\n",
      "See the caveats in the documentation: https://pandas.pydata.org/pandas-docs/stable/user_guide/indexing.html#returning-a-view-versus-a-copy\n",
      "  class_df[\"Rejected\"] = predictions\n",
      "c:\\Users\\sguid\\Uni\\visual\\project\\vipm_project\\vipm_dataset_cleaner.py:135: SettingWithCopyWarning: \n",
      "A value is trying to be set on a copy of a slice from a DataFrame.\n",
      "Try using .loc[row_indexer,col_indexer] = value instead\n",
      "\n",
      "See the caveats in the documentation: https://pandas.pydata.org/pandas-docs/stable/user_guide/indexing.html#returning-a-view-versus-a-copy\n",
      "  class_df[\"Rejected\"] = predictions\n"
     ]
    },
    {
     "name": "stdout",
     "output_type": "stream",
     "text": [
      "Pulizia completata per la classe 246.\n",
      "Elaborando classe: 247\n",
      "Feature shape per la classe 247: (20, 3)\n",
      "Pulizia completata per la classe 247.\n",
      "Elaborando classe: 248\n",
      "Feature shape per la classe 248: (20, 3)\n",
      "Pulizia completata per la classe 248.\n",
      "Elaborando classe: 249\n",
      "Feature shape per la classe 249: (20, 3)\n"
     ]
    },
    {
     "name": "stderr",
     "output_type": "stream",
     "text": [
      "c:\\Users\\sguid\\Uni\\visual\\project\\vipm_project\\vipm_dataset_cleaner.py:135: SettingWithCopyWarning: \n",
      "A value is trying to be set on a copy of a slice from a DataFrame.\n",
      "Try using .loc[row_indexer,col_indexer] = value instead\n",
      "\n",
      "See the caveats in the documentation: https://pandas.pydata.org/pandas-docs/stable/user_guide/indexing.html#returning-a-view-versus-a-copy\n",
      "  class_df[\"Rejected\"] = predictions\n",
      "c:\\Users\\sguid\\Uni\\visual\\project\\vipm_project\\vipm_dataset_cleaner.py:135: SettingWithCopyWarning: \n",
      "A value is trying to be set on a copy of a slice from a DataFrame.\n",
      "Try using .loc[row_indexer,col_indexer] = value instead\n",
      "\n",
      "See the caveats in the documentation: https://pandas.pydata.org/pandas-docs/stable/user_guide/indexing.html#returning-a-view-versus-a-copy\n",
      "  class_df[\"Rejected\"] = predictions\n"
     ]
    },
    {
     "name": "stdout",
     "output_type": "stream",
     "text": [
      "Pulizia completata per la classe 249.\n",
      "Elaborando classe: 250\n",
      "Feature shape per la classe 250: (20, 3)\n",
      "Pulizia completata per la classe 250.\n",
      "Pulizia completata. Risultati salvati in: dataset/clean_set\n",
      "Totale file processati: 5020\n",
      "File accettati: 4518\n",
      "File rifiutati: 502\n"
     ]
    },
    {
     "name": "stderr",
     "output_type": "stream",
     "text": [
      "c:\\Users\\sguid\\Uni\\visual\\project\\vipm_project\\vipm_dataset_cleaner.py:135: SettingWithCopyWarning: \n",
      "A value is trying to be set on a copy of a slice from a DataFrame.\n",
      "Try using .loc[row_indexer,col_indexer] = value instead\n",
      "\n",
      "See the caveats in the documentation: https://pandas.pydata.org/pandas-docs/stable/user_guide/indexing.html#returning-a-view-versus-a-copy\n",
      "  class_df[\"Rejected\"] = predictions\n"
     ]
    }
   ],
   "source": [
    "# Inizializzazione della classe\n",
    "cleaner = DatasetCleaner(\n",
    "    csv_path=\"dataset/train_small.csv\",\n",
    "    data_folder=\"dataset/train_set/\",\n",
    "    output_folder=\"dataset/clean_set\",\n",
    "    feature_extractor=DatasetCleaner.example_feature_extractor,\n",
    "    clean_criterion=DatasetCleaner.example_clean_criterion\n",
    ")\n",
    "\n",
    "# Esecuzione del processo di pulizia\n",
    "cleaner.clean_dataset_global(contamination=0.1)\n",
    "\n",
    "# Riassunto dei risultati\n",
    "cleaner.summarize_results()\n",
    "\n",
    "\n",
    "# Esecuzione del processo di pulizia\n",
    "cleaner.clean_dataset_by_class(contamination=0.1)\n",
    "\n",
    "# Riassunto dei risultati\n",
    "cleaner.summarize_results()"
   ]
  }
 ],
 "metadata": {
  "kernelspec": {
   "display_name": "Python 3",
   "language": "python",
   "name": "python3"
  },
  "language_info": {
   "codemirror_mode": {
    "name": "ipython",
    "version": 3
   },
   "file_extension": ".py",
   "mimetype": "text/x-python",
   "name": "python",
   "nbconvert_exporter": "python",
   "pygments_lexer": "ipython3",
   "version": "3.12.8"
  }
 },
 "nbformat": 4,
 "nbformat_minor": 2
}

{
 "cells": [
  {
   "cell_type": "code",
   "execution_count": 1,
   "metadata": {},
   "outputs": [],
   "source": [
    "from vipm_dataset_cleaner import DatasetCleaner"
   ]
  },
  {
   "cell_type": "markdown",
   "metadata": {},
   "source": [
    "# RGB mean"
   ]
  },
  {
   "cell_type": "markdown",
   "metadata": {},
   "source": [
    "Questo è un primo approccio stupido, per vedere solo usando il colore come discriminante come se la cava"
   ]
  },
  {
   "cell_type": "markdown",
   "metadata": {},
   "source": [
    "## RGB mean + global + isolation forest"
   ]
  },
  {
   "cell_type": "code",
   "execution_count": 5,
   "metadata": {},
   "outputs": [
    {
     "name": "stdout",
     "output_type": "stream",
     "text": [
      "Pulizia completata. Risultati salvati in: dataset/clean_set_rgb_mean_isolation_forest/\n",
      "Totale file processati: 5020\n",
      "File accettati: 4518\n",
      "File rifiutati: 502\n"
     ]
    }
   ],
   "source": [
    "# Inizializzazione della classe\n",
    "cleaner = DatasetCleaner(\n",
    "    csv_path=\"dataset/train_small.csv\",\n",
    "    data_folder=\"dataset/train_set/\",\n",
    "    output_folder=\"dataset/clean_set_rgb_mean_isolation_forest/\",\n",
    "    feature_extractor=DatasetCleaner.feature_extractor_rgb_mean,\n",
    "    clean_criterion=DatasetCleaner.clean_criterion_isolation_forest\n",
    ")\n",
    "\n",
    "# Esecuzione del processo di pulizia\n",
    "cleaner.clean_dataset_global(contamination=0.1)\n",
    "\n",
    "# Riassunto dei risultati\n",
    "cleaner.summarize_results()"
   ]
  },
  {
   "cell_type": "markdown",
   "metadata": {},
   "source": [
    "## RGB mean + class + isolation forest"
   ]
  },
  {
   "cell_type": "code",
   "execution_count": 3,
   "metadata": {},
   "outputs": [
    {
     "name": "stdout",
     "output_type": "stream",
     "text": [
      "Pulizia completata. Risultati salvati in: dataset/clean_set_rgb_mean_isolation_forest_class/\n",
      "Totale file processati: 5020\n",
      "File accettati: 4518\n",
      "File rifiutati: 502\n"
     ]
    }
   ],
   "source": [
    "# Inizializzazione della classe\n",
    "cleaner = DatasetCleaner(\n",
    "    csv_path=\"dataset/train_small.csv\",\n",
    "    data_folder=\"dataset/train_set/\",\n",
    "    output_folder=\"dataset/clean_set_rgb_mean_isolation_forest_class/\",\n",
    "    feature_extractor=DatasetCleaner.feature_extractor_rgb_mean,\n",
    "    clean_criterion=DatasetCleaner.clean_criterion_isolation_forest\n",
    ")\n",
    "\n",
    "# Esecuzione del processo di pulizia\n",
    "cleaner.clean_dataset_by_class(contamination=0.1)\n",
    "\n",
    "# Riassunto dei risultati\n",
    "cleaner.summarize_results()"
   ]
  },
  {
   "cell_type": "markdown",
   "metadata": {},
   "source": [
    "# RESNET50"
   ]
  },
  {
   "cell_type": "markdown",
   "metadata": {},
   "source": []
  },
  {
   "cell_type": "markdown",
   "metadata": {},
   "source": [
    "## RESNET50 + global + isolation forest"
   ]
  },
  {
   "cell_type": "code",
   "execution_count": 2,
   "metadata": {},
   "outputs": [
    {
     "name": "stderr",
     "output_type": "stream",
     "text": [
      "Downloading: \"https://download.pytorch.org/models/resnet50-0676ba61.pth\" to C:\\Users\\sguid/.cache\\torch\\hub\\checkpoints\\resnet50-0676ba61.pth\n",
      "100%|██████████| 97.8M/97.8M [01:17<00:00, 1.33MB/s]\n"
     ]
    },
    {
     "name": "stdout",
     "output_type": "stream",
     "text": [
      "Pulizia completata. Risultati salvati in: dataset/clean_set_resnet50_isolation_forest/\n",
      "Totale file processati: 5020\n",
      "File accettati: 4518\n",
      "File rifiutati: 502\n"
     ]
    }
   ],
   "source": [
    "# Inizializzazione della classe\n",
    "cleaner = DatasetCleaner(\n",
    "    csv_path=\"dataset/train_small.csv\",\n",
    "    data_folder=\"dataset/train_set/\",\n",
    "    output_folder=\"dataset/clean_set_resnet50_isolation_forest/\",\n",
    "    feature_extractor=DatasetCleaner.feature_extractor_resnet50(\"cuda:0\"),\n",
    "    clean_criterion=DatasetCleaner.clean_criterion_isolation_forest\n",
    ")\n",
    "\n",
    "# Esecuzione del processo di pulizia\n",
    "cleaner.clean_dataset_global(contamination=0.1)\n",
    "\n",
    "# Riassunto dei risultati\n",
    "cleaner.summarize_results()"
   ]
  },
  {
   "cell_type": "markdown",
   "metadata": {},
   "source": [
    "## RESNET50 + class + isolation forest"
   ]
  },
  {
   "cell_type": "code",
   "execution_count": null,
   "metadata": {},
   "outputs": [
    {
     "name": "stdout",
     "output_type": "stream",
     "text": [
      "Pulizia completata. Risultati salvati in: dataset/clean_set_rgb_mean_isolation_forest_class/\n",
      "Totale file processati: 5020\n",
      "File accettati: 4518\n",
      "File rifiutati: 502\n"
     ]
    }
   ],
   "source": [
    "# Inizializzazione della classe\n",
    "cleaner = DatasetCleaner(\n",
    "    csv_path=\"dataset/train_small.csv\",\n",
    "    data_folder=\"dataset/train_set/\",\n",
    "    output_folder=\"dataset/clean_set_resnet_isolation_forest_class/\",\n",
    "    feature_extractor=DatasetCleaner.feature_extractor_resnet50(\"cuda:0\"),\n",
    "    clean_criterion=DatasetCleaner.clean_criterion_isolation_forest\n",
    ")\n",
    "\n",
    "# Esecuzione del processo di pulizia\n",
    "cleaner.clean_dataset_by_class(contamination=0.1)\n",
    "\n",
    "# Riassunto dei risultati\n",
    "cleaner.summarize_results()"
   ]
  },
  {
   "cell_type": "code",
   "execution_count": null,
   "metadata": {},
   "outputs": [],
   "source": []
  }
 ],
 "metadata": {
  "kernelspec": {
   "display_name": "Python 3",
   "language": "python",
   "name": "python3"
  },
  "language_info": {
   "codemirror_mode": {
    "name": "ipython",
    "version": 3
   },
   "file_extension": ".py",
   "mimetype": "text/x-python",
   "name": "python",
   "nbconvert_exporter": "python",
   "pygments_lexer": "ipython3",
   "version": "3.12.8"
  }
 },
 "nbformat": 4,
 "nbformat_minor": 2
}

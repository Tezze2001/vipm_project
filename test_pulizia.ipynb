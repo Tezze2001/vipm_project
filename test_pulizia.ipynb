{
 "cells": [
  {
   "cell_type": "code",
   "execution_count": 1,
   "metadata": {},
   "outputs": [],
   "source": [
    "from vipm_dataset_cleaner import DatasetCleaner"
   ]
  },
  {
   "cell_type": "markdown",
   "metadata": {},
   "source": [
    "# RGB mean"
   ]
  },
  {
   "cell_type": "markdown",
   "metadata": {},
   "source": [
    "Questo è un primo approccio stupido, per vedere solo usando il colore come discriminante come se la cava"
   ]
  },
  {
   "cell_type": "markdown",
   "metadata": {},
   "source": [
    "## RGB mean + global + isolation forest"
   ]
  },
  {
   "cell_type": "code",
   "execution_count": 5,
   "metadata": {},
   "outputs": [
    {
     "name": "stdout",
     "output_type": "stream",
     "text": [
      "Pulizia completata. Risultati salvati in: dataset/clean_set_rgb_mean_isolation_forest/\n",
      "Totale file processati: 5020\n",
      "File accettati: 4518\n",
      "File rifiutati: 502\n"
     ]
    }
   ],
   "source": [
    "# Inizializzazione della classe\n",
    "cleaner = DatasetCleaner(\n",
    "    csv_path=\"dataset/train_small.csv\",\n",
    "    data_folder=\"dataset/train_set/\",\n",
    "    output_folder=\"dataset/clean_set_rgb_mean_isolation_forest/\",\n",
    "    feature_extractor=DatasetCleaner.feature_extractor_rgb_mean,\n",
    "    clean_criterion=DatasetCleaner.clean_criterion_isolation_forest\n",
    ")\n",
    "\n",
    "# Esecuzione del processo di pulizia\n",
    "cleaner.clean_dataset_global(contamination='auto')\n",
    "\n",
    "# Riassunto dei risultati\n",
    "cleaner.summarize_results()"
   ]
  },
  {
   "cell_type": "markdown",
   "metadata": {},
   "source": [
    "## RGB mean + class + isolation forest"
   ]
  },
  {
   "cell_type": "code",
   "execution_count": 3,
   "metadata": {},
   "outputs": [
    {
     "name": "stdout",
     "output_type": "stream",
     "text": [
      "Pulizia completata. Risultati salvati in: dataset/clean_set_rgb_mean_isolation_forest_class/\n",
      "Totale file processati: 5020\n",
      "File accettati: 4518\n",
      "File rifiutati: 502\n"
     ]
    }
   ],
   "source": [
    "# Inizializzazione della classe\n",
    "cleaner = DatasetCleaner(\n",
    "    csv_path=\"dataset/train_small.csv\",\n",
    "    data_folder=\"dataset/train_set/\",\n",
    "    output_folder=\"dataset/clean_set_rgb_mean_isolation_forest_class/\",\n",
    "    feature_extractor=DatasetCleaner.feature_extractor_rgb_mean,\n",
    "    clean_criterion=DatasetCleaner.clean_criterion_isolation_forest\n",
    ")\n",
    "\n",
    "# Esecuzione del processo di pulizia\n",
    "cleaner.clean_dataset_by_class(contamination='auto')\n",
    "\n",
    "# Riassunto dei risultati\n",
    "cleaner.summarize_results()"
   ]
  },
  {
   "cell_type": "markdown",
   "metadata": {},
   "source": [
    "# RESNET50"
   ]
  },
  {
   "cell_type": "markdown",
   "metadata": {},
   "source": [
    "## RESNET50 + global + isolation forest"
   ]
  },
  {
   "cell_type": "code",
   "execution_count": 2,
   "metadata": {},
   "outputs": [
    {
     "name": "stderr",
     "output_type": "stream",
     "text": [
      "Downloading: \"https://download.pytorch.org/models/resnet50-0676ba61.pth\" to C:\\Users\\sguid/.cache\\torch\\hub\\checkpoints\\resnet50-0676ba61.pth\n",
      "100%|██████████| 97.8M/97.8M [01:17<00:00, 1.33MB/s]\n"
     ]
    },
    {
     "name": "stdout",
     "output_type": "stream",
     "text": [
      "Pulizia completata. Risultati salvati in: dataset/clean_set_resnet50_isolation_forest/\n",
      "Totale file processati: 5020\n",
      "File accettati: 4518\n",
      "File rifiutati: 502\n"
     ]
    }
   ],
   "source": [
    "# Inizializzazione della classe\n",
    "cleaner = DatasetCleaner(\n",
    "    csv_path=\"dataset/train_small.csv\",\n",
    "    data_folder=\"dataset/train_set/\",\n",
    "    output_folder=\"dataset/clean_set_resnet50_isolation_forest/\",\n",
    "    feature_extractor=DatasetCleaner.feature_extractor_resnet50(\"cuda:0\"),\n",
    "    clean_criterion=DatasetCleaner.clean_criterion_isolation_forest\n",
    ")\n",
    "\n",
    "# Esecuzione del processo di pulizia\n",
    "cleaner.clean_dataset_global(contamination='auto')\n",
    "\n",
    "# Riassunto dei risultati\n",
    "cleaner.summarize_results()"
   ]
  },
  {
   "cell_type": "markdown",
   "metadata": {},
   "source": [
    "## RESNET50 + class + isolation forest"
   ]
  },
  {
   "cell_type": "code",
   "execution_count": 3,
   "metadata": {},
   "outputs": [
    {
     "name": "stdout",
     "output_type": "stream",
     "text": [
      "Pulizia completata. Risultati salvati in: dataset/clean_set_resnet_isolation_forest_class/\n",
      "Totale file processati: 5020\n",
      "File accettati: 4518\n",
      "File rifiutati: 502\n"
     ]
    },
    {
     "ename": "",
     "evalue": "",
     "output_type": "error",
     "traceback": [
      "\u001b[1;31mThe Kernel crashed while executing code in the current cell or a previous cell. \n",
      "\u001b[1;31mPlease review the code in the cell(s) to identify a possible cause of the failure. \n",
      "\u001b[1;31mClick <a href='https://aka.ms/vscodeJupyterKernelCrash'>here</a> for more info. \n",
      "\u001b[1;31mView Jupyter <a href='command:jupyter.viewOutput'>log</a> for further details."
     ]
    }
   ],
   "source": [
    "# Inizializzazione della classe\n",
    "cleaner = DatasetCleaner(\n",
    "    csv_path=\"dataset/train_small.csv\",\n",
    "    data_folder=\"dataset/train_set/\",\n",
    "    output_folder=\"dataset/clean_set_resnet_isolation_forest_class/\",\n",
    "    feature_extractor=DatasetCleaner.feature_extractor_resnet50(\"cuda:0\"),\n",
    "    clean_criterion=DatasetCleaner.clean_criterion_isolation_forest\n",
    ")\n",
    "\n",
    "# Esecuzione del processo di pulizia\n",
    "cleaner.clean_dataset_by_class(contamination='auto')\n",
    "\n",
    "# Riassunto dei risultati\n",
    "cleaner.summarize_results()"
   ]
  },
  {
   "cell_type": "code",
   "execution_count": null,
   "metadata": {},
   "outputs": [],
   "source": []
  },
  {
   "cell_type": "markdown",
   "metadata": {},
   "source": [
    "# LBP"
   ]
  },
  {
   "cell_type": "markdown",
   "metadata": {},
   "source": [
    "LBP è un algoritmo di feature extraction che si basa sul concetto di texture. L'idea è di dividere l'immagine in regioni e per ogni regione calcolare un istogramma. Questo istogramma è poi usato per calcolare un valore univoco per ogni regione. Questi valori sono poi concatenati per formare il vettore di feature."
   ]
  },
  {
   "cell_type": "markdown",
   "metadata": {},
   "source": [
    "## LBP + global + isolation forest"
   ]
  },
  {
   "cell_type": "code",
   "execution_count": 2,
   "metadata": {},
   "outputs": [
    {
     "name": "stdout",
     "output_type": "stream",
     "text": [
      "Pulizia completata. Risultati salvati in: dataset/clean_set_resnet50_isolation_forest/\n",
      "Totale file processati: 5020\n",
      "File accettati: 4527\n",
      "File rifiutati: 493\n"
     ]
    }
   ],
   "source": [
    "# Inizializzazione della classe\n",
    "cleaner = DatasetCleaner(\n",
    "    csv_path=\"dataset/train_small.csv\",\n",
    "    data_folder=\"dataset/train_set/\",\n",
    "    output_folder=\"dataset/feature_extractor_lbp_isolation_forest/\",\n",
    "    feature_extractor=DatasetCleaner.feature_extractor_lbp,\n",
    "    clean_criterion=DatasetCleaner.clean_criterion_isolation_forest\n",
    ")\n",
    "\n",
    "# Esecuzione del processo di pulizia\n",
    "cleaner.clean_dataset_global(contamination='auto')\n",
    "\n",
    "# Riassunto dei risultati\n",
    "cleaner.summarize_results()"
   ]
  },
  {
   "cell_type": "markdown",
   "metadata": {},
   "source": [
    "## LBP + class + isolation forest"
   ]
  },
  {
   "cell_type": "code",
   "execution_count": 4,
   "metadata": {},
   "outputs": [
    {
     "name": "stdout",
     "output_type": "stream",
     "text": [
      "Pulizia completata. Risultati salvati in: dataset/clean_set_lbp_isolation_forest_class/\n",
      "Totale file processati: 5020\n",
      "File accettati: 3671\n",
      "File rifiutati: 1349\n"
     ]
    }
   ],
   "source": [
    "# Inizializzazione della classe\n",
    "cleaner = DatasetCleaner(\n",
    "    csv_path=\"dataset/train_small.csv\",\n",
    "    data_folder=\"dataset/train_set/\",\n",
    "    output_folder=\"dataset/clean_set_lbp_isolation_forest_class/\",\n",
    "    feature_extractor=DatasetCleaner.feature_extractor_lbp,\n",
    "    clean_criterion=DatasetCleaner.clean_criterion_isolation_forest\n",
    ")\n",
    "\n",
    "# Esecuzione del processo di pulizia\n",
    "cleaner.clean_dataset_by_class(contamination='auto')\n",
    "\n",
    "# Riassunto dei risultati\n",
    "cleaner.summarize_results()"
   ]
  },
  {
   "cell_type": "code",
   "execution_count": null,
   "metadata": {},
   "outputs": [],
   "source": []
  }
 ],
 "metadata": {
  "kernelspec": {
   "display_name": "base",
   "language": "python",
   "name": "python3"
  },
  "language_info": {
   "codemirror_mode": {
    "name": "ipython",
    "version": 3
   },
   "file_extension": ".py",
   "mimetype": "text/x-python",
   "name": "python",
   "nbconvert_exporter": "python",
   "pygments_lexer": "ipython3",
   "version": "3.12.8"
  }
 },
 "nbformat": 4,
 "nbformat_minor": 2
}

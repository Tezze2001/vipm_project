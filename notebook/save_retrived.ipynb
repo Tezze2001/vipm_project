{
 "cells": [
  {
   "cell_type": "code",
   "execution_count": 11,
   "metadata": {},
   "outputs": [],
   "source": [
    "import os\n",
    "import sys\n",
    "import shutil\n",
    "import matplotlib.pyplot as plt\n",
    "import numpy as np\n",
    "import pandas as pd\n",
    "from PIL import Image\n",
    "\n",
    "project_path = os.path.abspath(\"../code\") \n",
    "sys.path.append(project_path)\n",
    "from vipm_llabels import ResNet50FeatureExtractor\n",
    "from vipm_image_retrieval import ImageRetrievalKNN, ImageRetrievalBestFit, ImageRetrievalKNNCentroids\n",
    "from vipm_dataset_cleaner import DatasetCleaner"
   ]
  },
  {
   "cell_type": "code",
   "execution_count": 12,
   "metadata": {},
   "outputs": [],
   "source": [
    "# Carica il file CSV\n",
    "def load_csv(csv_path):\n",
    "    data = pd.read_csv(csv_path, header=None, names=['image_name', 'label'])\n",
    "    return data['image_name'].tolist(), data['label'].tolist()\n",
    "\n",
    "# Percorsi\n",
    "csv_path = '../dataset/train_small.csv'   \n",
    "csv_unlabeled = '../dataset/train_unlabeled.csv'\n",
    "indir = '../dataset/train_set'  # Modifica in base alla posizione delle immagini\n",
    "outdir = '../llabels'  # Modifica in base alla posizione delle feature\n",
    "os.makedirs(outdir, exist_ok=True)"
   ]
  },
  {
   "cell_type": "code",
   "execution_count": 13,
   "metadata": {},
   "outputs": [
    {
     "name": "stdout",
     "output_type": "stream",
     "text": [
      "Caricamento delle feature da ../features\\train_unlabeled_resnet50_features_normalized.npz\n",
      "Caricamento delle feature da ../features\\train_small_resnet50_features_normalized.npz\n"
     ]
    }
   ],
   "source": [
    "# Carica le immagini dal CSV\n",
    "image_names, labels = load_csv(csv_path)\n",
    "image_names_unlabeled, _ = load_csv(csv_unlabeled)\n",
    "\n",
    "extractor = ResNet50FeatureExtractor()\n",
    "features_unlabeled, _, _ = extractor.get_features(csv=csv_unlabeled, indir=indir, outdir=outdir, normalize=True)\n",
    "features_small, _, _ = extractor.get_features(csv=csv_path, indir=indir, outdir=outdir, normalize=True)\n"
   ]
  },
  {
   "cell_type": "code",
   "execution_count": 14,
   "metadata": {},
   "outputs": [],
   "source": [
    "def visualize_retrieved_images(images, indices, predictions, class_label, outdir, num_images=10):\n",
    "    # Filtra gli indici per la classe specificata\n",
    "    filtered_indices = [idx for idx, pred in enumerate(predictions) if pred == class_label]\n",
    "    selected_indices = filtered_indices[:num_images]\n",
    "\n",
    "    # Calcola il numero di righe necessario\n",
    "    num_cols = 10  # Numero massimo di immagini per riga\n",
    "    num_rows = (len(selected_indices) + num_cols - 1) // num_cols  # Arrotonda verso l'alto\n",
    "\n",
    "    # Visualizza le immagini recuperate\n",
    "    plt.figure(figsize=(15, 5 * num_rows))\n",
    "    for i, idx in enumerate(selected_indices):\n",
    "        img_path = os.path.join(indir, images[indices[idx]])\n",
    "        img = Image.open(img_path)\n",
    "        \n",
    "        # Posiziona l'immagine nella griglia\n",
    "        plt.subplot(num_rows, num_cols, i + 1)\n",
    "        plt.imshow(img)\n",
    "        plt.axis('off')\n",
    "        plt.title(f\"Retrieved {i + 1}\")\n",
    "    \n",
    "    plt.tight_layout()\n",
    "    plt.show()"
   ]
  },
  {
   "cell_type": "code",
   "execution_count": 15,
   "metadata": {},
   "outputs": [],
   "source": [
    "def visualize_discarted_images(images, indices, labels, class_label, outdir, num_images=10):\n",
    "    # Filtra gli indici per la classe specificata\n",
    "    filtered_indices = [idx for idx, pred in enumerate(labels) if pred == class_label]\n",
    "    selected_indices = filtered_indices[:num_images]\n",
    "\n",
    "    # Calcola il numero di righe necessario\n",
    "    num_cols = 10  # Numero massimo di immagini per riga\n",
    "    num_rows = (len(selected_indices) + num_cols - 1) // num_cols  # Arrotonda verso l'alto\n",
    "\n",
    "    # Visualizza le immagini recuperate\n",
    "    plt.figure(figsize=(15, 5 * num_rows))\n",
    "    for i, idx in enumerate(selected_indices):\n",
    "        img_path = os.path.join(indir, images[indices[idx]])\n",
    "        img = Image.open(img_path)\n",
    "        \n",
    "        # Posiziona l'immagine nella griglia\n",
    "        plt.subplot(num_rows, num_cols, i + 1)\n",
    "        plt.imshow(img)\n",
    "        plt.axis('off')\n",
    "        plt.title(f\"Discarted {i + 1}\")\n",
    "    \n",
    "    plt.tight_layout()\n",
    "    plt.show()"
   ]
  },
  {
   "cell_type": "code",
   "execution_count": 16,
   "metadata": {},
   "outputs": [],
   "source": [
    "# set seed\n",
    "np.random.seed(42)"
   ]
  },
  {
   "cell_type": "markdown",
   "metadata": {},
   "source": [
    "# Centroidi 20"
   ]
  },
  {
   "cell_type": "markdown",
   "metadata": {},
   "source": [
    "## 100% dataset"
   ]
  },
  {
   "cell_type": "code",
   "execution_count": 46,
   "metadata": {},
   "outputs": [],
   "source": [
    "# senza cleaning\n",
    "image_names_unlabeled_numpy = np.array(image_names_unlabeled)\n",
    "image_names_numpy = np.array(image_names)\n",
    "\n",
    "retrival_centroidi = ImageRetrievalKNNCentroids(queryset=features_unlabeled, dataset=features_small, dataset_labels=labels, n_image_per_class=20, algo='ball_tree')\n",
    "indices_centroidi, centroidi_labels = retrival_centroidi.retrieve_images()\n",
    "\n",
    "# con cleaning\n",
    "cleaner = DatasetCleaner(features=features_small, class_info=labels, clean_criterion=DatasetCleaner.clean_criterion_isolation_forest)\n",
    "accepted_indices_by_class = cleaner.clean_dataset_by_class(contamination=\"auto\")\n",
    "\n",
    "discarted_indices_by_class = [idx for idx in range(len(labels)) if idx not in accepted_indices_by_class]\n",
    "labels_discarted = [labels[idx] for idx in discarted_indices_by_class]\n",
    "\n",
    "features_small_filtered = np.array([features_small[idx] for idx in accepted_indices_by_class])\n",
    "features_small_filtered_labels = np.array([labels[idx] for idx in accepted_indices_by_class])\n",
    "\n",
    "image_names_unlabeled_numpy = np.array(image_names_unlabeled)\n",
    "\n",
    "retrival_centroidi_cleaned = ImageRetrievalKNNCentroids(queryset=features_unlabeled, dataset=features_small_filtered, dataset_labels=features_small_filtered_labels, n_image_per_class=20, algo='ball_tree')\n",
    "indices_centroidi_cleaned, centroidi_labels_cleaned = retrival_centroidi.retrieve_images()"
   ]
  },
  {
   "cell_type": "code",
   "execution_count": 47,
   "metadata": {},
   "outputs": [],
   "source": [
    "retrieved_images = image_names_unlabeled_numpy[indices_centroidi]\n",
    "retrieved_labels = centroidi_labels\n",
    "\n",
    "retrieved_images_cleaned = image_names_unlabeled_numpy[indices_centroidi_cleaned]\n",
    "retrieved_labels_cleaned = centroidi_labels_cleaned\n",
    "\n",
    "small_images = image_names_numpy\n",
    "small_labels = labels\n",
    "\n",
    "small_images_filtered = image_names_numpy[accepted_indices_by_class]\n",
    "small_labels_filtered = [labels[idx] for idx in accepted_indices_by_class]"
   ]
  },
  {
   "cell_type": "code",
   "execution_count": 49,
   "metadata": {},
   "outputs": [
    {
     "name": "stdout",
     "output_type": "stream",
     "text": [
      "shape combined_images:  10040\n",
      "shape combined_labels:  10040\n",
      "Cartella 'small_with_cleaned_retrieval' creata con immagini e CSV.\n",
      "shape combined_images:  9244\n",
      "shape combined_labels:  9244\n",
      "Cartella 'filtered_small_with_retrieval' creata con immagini e CSV.\n",
      "shape combined_images:  10040\n",
      "shape combined_labels:  10040\n",
      "Cartella 'small_with_retrieval' creata con immagini e CSV.\n",
      "shape combined_images:  9244\n",
      "shape combined_labels:  9244\n",
      "Cartella 'filtered_small_with_cleaned_retrieval' creata con immagini e CSV.\n"
     ]
    }
   ],
   "source": [
    "import os\n",
    "import pandas as pd\n",
    "import shutil\n",
    "\n",
    "# Crea le cartelle\n",
    "folders = [\n",
    "    'small_with_cleaned_retrieval',\n",
    "    'filtered_small_with_retrieval',\n",
    "    'small_with_retrieval',\n",
    "    'filtered_small_with_cleaned_retrieval'\n",
    "]\n",
    "for folder in folders:\n",
    "    if not os.path.exists(folder):\n",
    "        os.makedirs(folder)\n",
    "\n",
    "# Combinazioni delle immagini e creazione delle cartelle\n",
    "combinations = [\n",
    "    (small_images, retrieved_images_cleaned, small_labels, retrieved_labels_cleaned, 'small_with_cleaned_retrieval'),\n",
    "    (small_images_filtered, retrieved_images, small_labels_filtered, retrieved_labels, 'filtered_small_with_retrieval'),\n",
    "    (small_images, retrieved_images, small_labels, retrieved_labels, 'small_with_retrieval'),\n",
    "    (small_images_filtered, retrieved_images_cleaned, small_labels_filtered, retrieved_labels_cleaned, 'filtered_small_with_cleaned_retrieval')\n",
    "]\n",
    "\n",
    "# Copia delle immagini e creazione dei CSV\n",
    "for img_set1, img_set2, label_set1, label_set2, folder in combinations:\n",
    "    # Combina le immagini e le etichette\n",
    "    combined_images = list(img_set1) + list(img_set2)\n",
    "    print(\"shape combined_images: \", len(combined_images))\n",
    "    combined_labels = list(label_set1) + list(label_set2)\n",
    "    print(\"shape combined_labels: \", len(combined_labels))\n",
    "\n",
    "    # Salva le immagini nella cartella\n",
    "    for i, image_name in enumerate(combined_images):\n",
    "        # Copia l'immagine nella cartella\n",
    "        shutil.copy(os.path.join(indir, image_name), folder)\n",
    "        \n",
    "    # Crea un DataFrame per il CSV\n",
    "    df = pd.DataFrame({'image_name': combined_images, 'label': combined_labels})\n",
    "    \n",
    "    # Salva il CSV nella cartella\n",
    "    csv_path = os.path.join(folder, f'{folder}_labels.csv')\n",
    "    df.to_csv(csv_path, index=False)\n",
    "\n",
    "    print(f\"Cartella '{folder}' creata con immagini e CSV.\")\n"
   ]
  }
 ],
 "metadata": {
  "kernelspec": {
   "display_name": "base",
   "language": "python",
   "name": "python3"
  },
  "language_info": {
   "codemirror_mode": {
    "name": "ipython",
    "version": 3
   },
   "file_extension": ".py",
   "mimetype": "text/x-python",
   "name": "python",
   "nbconvert_exporter": "python",
   "pygments_lexer": "ipython3",
   "version": "3.12.8"
  }
 },
 "nbformat": 4,
 "nbformat_minor": 2
}

{
 "cells": [
  {
   "cell_type": "code",
   "execution_count": 23,
   "metadata": {},
   "outputs": [],
   "source": [
    "from neural_features import ResNet50FeatureExtractor\n",
    "import numpy as np\n",
    "import pandas as pd\n",
    "from torchvision.models import resnet50\n",
    "from sklearn.neighbors import KNeighborsClassifier\n",
    "from sklearn.pipeline import Pipeline\n",
    "from sklearn.preprocessing import StandardScaler\n",
    "import shutil\n",
    "from sklearn.metrics import confusion_matrix, classification_report\n",
    "import seaborn as sns\n",
    "import matplotlib.pyplot as plt\n",
    "from neighbor_distances import CentroidWeights\n",
    "from sklearn.model_selection import train_test_split"
   ]
  },
  {
   "cell_type": "code",
   "execution_count": 14,
   "metadata": {},
   "outputs": [],
   "source": [
    "def image_retrieval_using_knn(n_neighbors, dataset, queryset):\n",
    "    pipeline = Pipeline([\n",
    "        ('knn', KNeighborsClassifier(n_neighbors=n_neighbors))  \n",
    "    ])\n",
    "\n",
    "    pipeline.fit(dataset[0], dataset[1])\n",
    "    predictions = pipeline.predict(queryset)\n",
    "\n",
    "    return predictions\n",
    "    "
   ]
  },
  {
   "cell_type": "code",
   "execution_count": 7,
   "metadata": {},
   "outputs": [],
   "source": [
    "train_small_names = pd.read_csv('../dataset/train_small.csv', header=None)\n",
    "train_unlabeled_names = pd.read_csv('../dataset/train_small.csv', header=None)\n",
    "\n",
    "small_dataset = np.load('../dataset/small_train_features_resnet50.npz', 'r')\n",
    "X = small_dataset['X']\n",
    "X_label = small_dataset['y']\n",
    "\n",
    "queryset = np.load('../dataset/train_unlabeled_features_resnet50_completed.npz', 'r')\n",
    "Q = queryset['X']\n",
    "Q_label = queryset['y']"
   ]
  },
  {
   "cell_type": "code",
   "execution_count": 10,
   "metadata": {},
   "outputs": [
    {
     "name": "stdout",
     "output_type": "stream",
     "text": [
      "[ 20361  15882  66025 ...  96406  79065 110357]\n"
     ]
    }
   ],
   "source": [
    "extracted_indeces = np.random.choice(Q.shape[0], size=int(len(Q) * 0.10), replace=False)\n",
    "print(extracted_indeces)\n"
   ]
  },
  {
   "cell_type": "code",
   "execution_count": 36,
   "metadata": {},
   "outputs": [
    {
     "data": {
      "text/plain": [
       "(11345, 2048)"
      ]
     },
     "execution_count": 36,
     "metadata": {},
     "output_type": "execute_result"
    }
   ],
   "source": [
    "Q_small = Q[extracted_indeces, :]\n",
    "Q_small.shape"
   ]
  },
  {
   "cell_type": "code",
   "execution_count": 15,
   "metadata": {},
   "outputs": [],
   "source": [
    "predictions = image_retrieval_using_knn(5, (X, X_label), Q_small)\n"
   ]
  },
  {
   "cell_type": "code",
   "execution_count": 22,
   "metadata": {},
   "outputs": [
    {
     "data": {
      "text/plain": [
       "0.65"
      ]
     },
     "execution_count": 22,
     "metadata": {},
     "output_type": "execute_result"
    }
   ],
   "source": [
    "int((.2 * (Q_small.shape[0] + X.shape[0]) )/ 251)/20\n"
   ]
  },
  {
   "cell_type": "code",
   "execution_count": 39,
   "metadata": {},
   "outputs": [],
   "source": [
    "X_train, X_test, y_train, y_test = train_test_split(X, X_label, test_size=int((.2 * (Q_small.shape[0] + X.shape[0]) )/ 251)/20, stratify=X_label, random_state=42)"
   ]
  },
  {
   "cell_type": "code",
   "execution_count": 40,
   "metadata": {},
   "outputs": [],
   "source": [
    "X_train = np.concatenate((X_train, Q_small), axis=0)  # Combine rows\n",
    "y_train = np.concatenate((y_train, predictions), axis=0)  # Combine"
   ]
  },
  {
   "cell_type": "code",
   "execution_count": 41,
   "metadata": {},
   "outputs": [
    {
     "data": {
      "text/plain": [
       "(13102, 2048)"
      ]
     },
     "execution_count": 41,
     "metadata": {},
     "output_type": "execute_result"
    }
   ],
   "source": [
    "X_train.shape"
   ]
  },
  {
   "cell_type": "code",
   "execution_count": 42,
   "metadata": {},
   "outputs": [
    {
     "data": {
      "text/plain": [
       "(13102,)"
      ]
     },
     "execution_count": 42,
     "metadata": {},
     "output_type": "execute_result"
    }
   ],
   "source": [
    "y_train.shape"
   ]
  },
  {
   "cell_type": "code",
   "execution_count": 43,
   "metadata": {},
   "outputs": [
    {
     "data": {
      "text/plain": [
       "(3263, 2048)"
      ]
     },
     "execution_count": 43,
     "metadata": {},
     "output_type": "execute_result"
    }
   ],
   "source": [
    "X_test.shape"
   ]
  },
  {
   "cell_type": "code",
   "execution_count": 44,
   "metadata": {},
   "outputs": [
    {
     "data": {
      "text/plain": [
       "(3263,)"
      ]
     },
     "execution_count": 44,
     "metadata": {},
     "output_type": "execute_result"
    }
   ],
   "source": [
    "y_test.shape"
   ]
  },
  {
   "cell_type": "code",
   "execution_count": 45,
   "metadata": {},
   "outputs": [],
   "source": [
    "np.savez(\"../dataset/features_extended_10.npz\", X_train = X_train, y_train = y_train, X_val=X_test, y_val=y_test)"
   ]
  }
 ],
 "metadata": {
  "kernelspec": {
   "display_name": "faiss_1.8.0",
   "language": "python",
   "name": "python3"
  },
  "language_info": {
   "codemirror_mode": {
    "name": "ipython",
    "version": 3
   },
   "file_extension": ".py",
   "mimetype": "text/x-python",
   "name": "python",
   "nbconvert_exporter": "python",
   "pygments_lexer": "ipython3",
   "version": "3.12.8"
  }
 },
 "nbformat": 4,
 "nbformat_minor": 2
}
